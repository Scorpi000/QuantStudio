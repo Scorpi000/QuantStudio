{
 "cells": [
  {
   "cell_type": "code",
   "execution_count": 1,
   "id": "05715c89",
   "metadata": {
    "ExecuteTime": {
     "end_time": "2023-01-03T10:20:10.767561Z",
     "start_time": "2023-01-03T10:20:08.844328Z"
    }
   },
   "outputs": [],
   "source": [
    "# 全局设置\n",
    "import sys\n",
    "import datetime as dt\n",
    "\n",
    "import numpy as np\n",
    "import pandas as pd\n",
    "\n",
    "import QuantStudio.api as QS\n",
    "fd = QS.FactorDB.FactorTools\n",
    "\n",
    "HDB = QS.FactorDB.HDF5DB(config_file=\"../config/HDF5DBConfig.json\").connect();"
   ]
  },
  {
   "cell_type": "code",
   "execution_count": 2,
   "id": "cf8794b3",
   "metadata": {
    "ExecuteTime": {
     "end_time": "2023-01-03T10:20:12.118856Z",
     "start_time": "2023-01-03T10:20:11.984377Z"
    }
   },
   "outputs": [],
   "source": [
    "# 参数设置\n",
    "StartDT, EndDT = dt.datetime(2014, 1, 1), dt.datetime(2019, 4, 30)# 数据起止时间\n",
    "TestStartDT, TestEndDT = dt.datetime(2018, 1, 1), EndDT# 测试起止时间\n",
    "\n",
    "\n",
    "FT = HDB.getTable(\"stock_cn_day_bar_nafilled\")\n",
    "DTs = FT.getDateTime(start_dt=StartDT, end_dt=EndDT)\n",
    "TestDTs = FT.getDateTime(start_dt=TestStartDT, end_dt=TestEndDT)\n",
    "IDs = FT.getID()\n",
    "\n",
    "# 再平衡时点序列\n",
    "# BalanceDTs = DTs\n",
    "BalanceDTs = QS.Tools.DateTime.getMonthLastDateTime(DTs)# 月末\n",
    "# BalanceDTs = QS.Tools.DateTime.getWeekLastDateTime(DTs)# 周末\n",
    "# BalanceDTs = QS.Tools.DateTime.getQuarterLastDateTime(DTs)# 季末\n",
    "# BalanceDTs = QS.Tools.DateTime.getYearLastDateTime(DTs)# 年末"
   ]
  },
  {
   "cell_type": "code",
   "execution_count": 3,
   "id": "ff1a1a65",
   "metadata": {
    "ExecuteTime": {
     "end_time": "2023-01-03T10:20:52.234516Z",
     "start_time": "2023-01-03T10:20:14.966114Z"
    }
   },
   "outputs": [
    {
     "data": {
      "application/vnd.jupyter.widget-view+json": {
       "model_id": "01966cb387ea443dacd3a618b9c73b28",
       "version_major": 2,
       "version_minor": 0
      },
      "text/plain": [
       "Tab(children=(HBox(children=(VBox(children=(Tree(layout=Layout(height='500px', overflow='auto', width='180px')…"
      ]
     },
     "metadata": {},
     "output_type": "display_data"
    }
   ],
   "source": [
    "# 多模块对比测试\n",
    "# 创建自定义因子表\n",
    "CFT = QS.FactorDB.CustomFT(\"CFT\")\n",
    "CFT.Args[\"遍历模式\"][\"向后缓冲时点数\"] = 60\n",
    "FT = HDB.getTable(\"stock_cn_day_bar_nafilled\")\n",
    "TargetFactors = [\"high\", \"low\"]\n",
    "CFT.addFactors(factor_table=FT, factor_names=TargetFactors)\n",
    "\n",
    "# FT = HDB.getTable(\"stock_cn_day_bar_nafilled\")\n",
    "# CFT.addFactors(factor_table=FT, factor_names=[\"if_trading\"])\n",
    "\n",
    "FT = HDB.getTable(\"stock_cn_day_bar_nafilled\")\n",
    "CFT.addFactors(factor_table=FT, factor_names=[\"close\"])\n",
    "\n",
    "CFT.setDateTime(DTs)\n",
    "CFT.setID(IDs)\n",
    "\n",
    "# 创建回测模型\n",
    "Model = QS.BackTest.BackTestModel()\n",
    "\n",
    "# --------因子测试模块--------\n",
    "iModule = QS.BackTest.MultiModule()\n",
    "for i, iFactorName in enumerate(TargetFactors):\n",
    "    # IC 的衰减\n",
    "    iSubModule = QS.BackTest.SectionFactor.ICDecay(name=iFactorName, factor_table=CFT)\n",
    "    iSubModule.Args[\"筛选条件\"] = \"\"\n",
    "    iSubModule.Args[\"测试因子\"] = iFactorName\n",
    "    iSubModule.Args[\"排序方向\"] = \"升序\"\n",
    "    iSubModule.Args[\"价格因子\"] = \"close\"\n",
    "    iSubModule.Args[\"类别因子\"] = \"无\"\n",
    "    iSubModule.Args[\"权重因子\"] = \"等权\"\n",
    "    iSubModule.Args[\"计算时点\"] = BalanceDTs\n",
    "    iSubModule.Args[\"回溯期数\"] = np.arange(1,13).tolist()\n",
    "    iSubModule.Args[\"相关性算法\"] = \"spearman\"\n",
    "    iModule.Modules.append(iSubModule)\n",
    "Model.Modules.append(iModule)\n",
    "\n",
    "# 运行模型\n",
    "Model.run(dts=TestDTs, subprocess_num=0)\n",
    "\n",
    "# 查看结果\n",
    "# display(Model)\n",
    "from QSExt.GUI.Notebook import showOutput\n",
    "Dlg = showOutput(data=Model.output())"
   ]
  },
  {
   "cell_type": "code",
   "execution_count": null,
   "id": "53259fc8",
   "metadata": {},
   "outputs": [],
   "source": []
  }
 ],
 "metadata": {
  "hide_input": false,
  "kernelspec": {
   "display_name": "QS",
   "language": "python",
   "name": "qs"
  },
  "language_info": {
   "codemirror_mode": {
    "name": "ipython",
    "version": 3
   },
   "file_extension": ".py",
   "mimetype": "text/x-python",
   "name": "python",
   "nbconvert_exporter": "python",
   "pygments_lexer": "ipython3",
   "version": "3.8.10"
  },
  "latex_envs": {
   "LaTeX_envs_menu_present": true,
   "autoclose": true,
   "autocomplete": false,
   "bibliofile": "biblio.bib",
   "cite_by": "apalike",
   "current_citInitial": 1,
   "eqLabelWithNumbers": true,
   "eqNumInitial": 1,
   "hotkeys": {
    "equation": "Ctrl-E",
    "itemize": "Ctrl-I"
   },
   "labels_anchors": false,
   "latex_user_defs": false,
   "report_style_numbering": false,
   "user_envs_cfg": false
  },
  "toc": {
   "base_numbering": 1,
   "nav_menu": {},
   "number_sections": true,
   "sideBar": true,
   "skip_h1_title": false,
   "title_cell": "Table of Contents",
   "title_sidebar": "Contents",
   "toc_cell": false,
   "toc_position": {},
   "toc_section_display": true,
   "toc_window_display": false
  }
 },
 "nbformat": 4,
 "nbformat_minor": 5
}
