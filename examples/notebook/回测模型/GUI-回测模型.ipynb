{
 "cells": [
  {
   "cell_type": "code",
   "execution_count": 1,
   "id": "7f94950c",
   "metadata": {
    "ExecuteTime": {
     "end_time": "2022-12-12T09:31:32.370906Z",
     "start_time": "2022-12-12T09:31:29.572365Z"
    }
   },
   "outputs": [],
   "source": [
    "import QuantStudio.api as QS\n",
    "\n",
    "from QSExt.FactorDataBase.AKShareDB import AKShareDB\n",
    "\n",
    "AKSDB = AKShareDB().connect()\n",
    "\n",
    "# 创建因子表\n",
    "HDF5DB = QS.FactorDB.HDF5DB().connect()\n",
    "FTs = [HDF5DB.getTable(\"stock_cn_day_bar\")]\n",
    "\n",
    "Model = QS.BackTest.BackTestModel()\n"
   ]
  },
  {
   "cell_type": "code",
   "execution_count": 2,
   "id": "659e488a",
   "metadata": {
    "ExecuteTime": {
     "end_time": "2022-12-12T09:31:33.777607Z",
     "start_time": "2022-12-12T09:31:33.558883Z"
    }
   },
   "outputs": [
    {
     "data": {
      "application/vnd.jupyter.widget-view+json": {
       "model_id": "d43134bd0a5649729b49b41747b2d99a",
       "version_major": 2,
       "version_minor": 0
      },
      "text/plain": [
       "VBox(children=(HBox(children=(NaiveDatetimePicker(value=datetime.datetime(2021, 12, 12, 0, 0), description='起始…"
      ]
     },
     "metadata": {},
     "output_type": "display_data"
    }
   ],
   "source": [
    "from QSExt.GUI.Notebook.BacktestDlg import BacktestDlg\n",
    "\n",
    "Dlg = BacktestDlg(model=Model, fts=FTs, trading_day_fun=AKSDB.getTradeDay)\n",
    "Dlg.display()"
   ]
  },
  {
   "cell_type": "code",
   "execution_count": null,
   "id": "8193a125",
   "metadata": {},
   "outputs": [],
   "source": []
  }
 ],
 "metadata": {
  "hide_input": false,
  "kernelspec": {
   "display_name": "QS",
   "language": "python",
   "name": "qs"
  },
  "language_info": {
   "codemirror_mode": {
    "name": "ipython",
    "version": 3
   },
   "file_extension": ".py",
   "mimetype": "text/x-python",
   "name": "python",
   "nbconvert_exporter": "python",
   "pygments_lexer": "ipython3",
   "version": "3.8.10"
  },
  "latex_envs": {
   "LaTeX_envs_menu_present": true,
   "autoclose": true,
   "autocomplete": false,
   "bibliofile": "biblio.bib",
   "cite_by": "apalike",
   "current_citInitial": 1,
   "eqLabelWithNumbers": true,
   "eqNumInitial": 1,
   "hotkeys": {
    "equation": "Ctrl-E",
    "itemize": "Ctrl-I"
   },
   "labels_anchors": false,
   "latex_user_defs": false,
   "report_style_numbering": false,
   "user_envs_cfg": false
  },
  "toc": {
   "base_numbering": 1,
   "nav_menu": {},
   "number_sections": true,
   "sideBar": true,
   "skip_h1_title": false,
   "title_cell": "Table of Contents",
   "title_sidebar": "Contents",
   "toc_cell": false,
   "toc_position": {},
   "toc_section_display": true,
   "toc_window_display": false
  }
 },
 "nbformat": 4,
 "nbformat_minor": 5
}
