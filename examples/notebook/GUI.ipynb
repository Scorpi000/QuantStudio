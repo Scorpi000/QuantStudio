{
 "cells": [
  {
   "cell_type": "markdown",
   "id": "47732c3e",
   "metadata": {},
   "source": [
    "# 结果集"
   ]
  },
  {
   "cell_type": "code",
   "execution_count": null,
   "id": "569e62ce",
   "metadata": {
    "ExecuteTime": {
     "end_time": "2022-12-12T08:43:17.058001Z",
     "start_time": "2022-12-12T08:43:15.139036Z"
    },
    "scrolled": false
   },
   "outputs": [],
   "source": [
    "import numpy as np\n",
    "import pandas as pd\n",
    "\n",
    "from QSExt.GUI.Notebook import showOutput\n",
    "Bar2 = pd.DataFrame(np.random.randn(3,2), index=[\"中文\", \"b2\", \"b3\"], columns=[\"中文\", \"我是个例子\"])\n",
    "Bar2.iloc[0,0] = np.nan\n",
    "TestData = {\"Bar1\":{\"a\": {\"a1\": pd.DataFrame(np.random.rand(50,3)),\n",
    "                          \"a2\": pd.DataFrame(np.random.rand(4,3))},\n",
    "                    \"b\": pd.DataFrame(['a']*150,columns=['c'])},\n",
    "                     \"Bar2\": Bar2}\n",
    "Dlg = showOutput(data=TestData)"
   ]
  },
  {
   "cell_type": "code",
   "execution_count": null,
   "id": "f1cc98d5",
   "metadata": {
    "ExecuteTime": {
     "end_time": "2022-11-16T03:30:20.043981Z",
     "start_time": "2022-11-16T03:30:20.010849Z"
    }
   },
   "outputs": [],
   "source": [
    "Dlg.Widgets[\"GetArgsDlg\"][\"ArgSetupDlg\"].Args"
   ]
  },
  {
   "cell_type": "markdown",
   "id": "04636cab",
   "metadata": {},
   "source": [
    "# 时点设置"
   ]
  },
  {
   "cell_type": "code",
   "execution_count": null,
   "id": "397dbcc0",
   "metadata": {
    "ExecuteTime": {
     "end_time": "2022-12-12T08:46:37.842592Z",
     "start_time": "2022-12-12T08:46:34.663765Z"
    }
   },
   "outputs": [],
   "source": [
    "import datetime as dt\n",
    "\n",
    "import QuantStudio.api as QS\n",
    "from QSExt.FactorDataBase.AKShareDB import AKShareDB\n",
    "from QSExt.GUI.Notebook.DateTimeSetupDlg import DateTimeSetupDlg\n",
    "\n",
    "AKSDB = AKShareDB().connect()\n",
    "HDB = QS.FactorDB.HDF5DB().connect()\n",
    "\n",
    "DTs = [dt.datetime(2022, 1, 1), dt.datetime(2022, 1, 2)]\n",
    "FTs = [HDB.getTable(\"stock_cn_day_bar\")]\n",
    "Dlg = DateTimeSetupDlg(dts=DTs, trading_day_fun=AKSDB.getTradeDay, fts=FTs)\n",
    "Dlg.display()"
   ]
  },
  {
   "cell_type": "markdown",
   "id": "d3b899c7",
   "metadata": {
    "ExecuteTime": {
     "end_time": "2022-12-12T05:44:47.297954Z",
     "start_time": "2022-12-12T05:44:47.253334Z"
    }
   },
   "source": [
    "# ID 设置"
   ]
  },
  {
   "cell_type": "code",
   "execution_count": null,
   "id": "ccc1fc06",
   "metadata": {
    "ExecuteTime": {
     "end_time": "2022-12-17T03:26:56.933109Z",
     "start_time": "2022-12-17T03:26:54.236741Z"
    }
   },
   "outputs": [],
   "source": [
    "import datetime as dt\n",
    "\n",
    "import QuantStudio.api as QS\n",
    "from QSExt.FactorDataBase.AKShareDB import AKShareDB\n",
    "from QSExt.GUI.Notebook.IDSetupDlg import IDSetupDlg\n",
    "\n",
    "AKSDB = AKShareDB().connect()\n",
    "HDB = QS.FactorDB.HDF5DB().connect()\n",
    "\n",
    "IDs = [\"000001.SZ\", \"000002.SZ\"]\n",
    "FTs = [HDB.getTable(\"stock_cn_day_bar\")]\n",
    "# IDFun = {\"A股\": lambda date, is_current: AKSDB.getStockID(date=None, is_current=False)}\n",
    "IDFun = {\"测试\": lambda date, is_current: [\"000002.SZ\", \"000003.SZ\"]}\n",
    "Dlg = IDSetupDlg(ids=IDs, id_fun=IDFun, fts=FTs)\n",
    "Dlg.display()"
   ]
  },
  {
   "cell_type": "markdown",
   "id": "af109ee7",
   "metadata": {
    "ExecuteTime": {
     "end_time": "2022-12-17T03:28:06.460546Z",
     "start_time": "2022-12-17T03:28:06.439997Z"
    }
   },
   "source": [
    "# 因子图"
   ]
  },
  {
   "cell_type": "code",
   "execution_count": 3,
   "id": "a3a34c85",
   "metadata": {
    "ExecuteTime": {
     "end_time": "2022-12-18T07:30:13.594086Z",
     "start_time": "2022-12-18T07:30:11.288280Z"
    },
    "scrolled": false
   },
   "outputs": [
    {
     "data": {
      "application/vnd.jupyter.widget-view+json": {
       "model_id": "0661595672a5452f886208b4136961d4",
       "version_major": 2,
       "version_minor": 0
      },
      "text/plain": [
       "HBox(children=(VBox(children=(Output(layout=Layout(border_bottom='1px solid black', border_left='1px solid bla…"
      ]
     },
     "metadata": {},
     "output_type": "display_data"
    }
   ],
   "source": [
    "import QuantStudio.api as QS\n",
    "fd = QS.FactorDB.FactorTools\n",
    "from QSExt.GUI.Notebook.FactorGraphDlg import FactorGraphDlg\n",
    "\n",
    "HDB = QS.FactorDB.HDF5DB().connect()\n",
    "\n",
    "# Factor1 = QS.FactorDB.DataFactor(name=\"Factor1\", data=1)\n",
    "# Factor2 = QS.FactorDB.DataFactor(name=\"Factor2\", data=2)\n",
    "FT = HDB.getTable(\"stock_cn_test\")\n",
    "Factor1 = FT.getFactor(\"Factor3\", new_name=\"因子1\")\n",
    "Factor2 = FT.getFactor(\"Factor4\", new_name=\"因子2\")\n",
    "Factor3 = fd.rolling_cov(Factor1, Factor2, window=5, factor_name=\"因子3\")\n",
    "Factor4 = QS.FactorDB.Factorize((Factor1 + Factor2 * Factor3 ** 2) / 2, factor_name=\"因子4\")\n",
    "Factor5 = fd.nansum(Factor1 & Factor2, Factor4, factor_name=\"因子5\")\n",
    "\n",
    "CFT = QS.FactorDB.CustomFT(name=\"MyFT\")\n",
    "CFT.addFactors(factor_list=[Factor2, Factor5])\n",
    "\n",
    "Dlg = FactorGraphDlg(factor_list=[Factor1, Factor2, Factor3, Factor4, Factor5], cfts=[CFT])\n",
    "Dlg.display()"
   ]
  },
  {
   "cell_type": "code",
   "execution_count": null,
   "id": "fbb932f4",
   "metadata": {},
   "outputs": [],
   "source": []
  }
 ],
 "metadata": {
  "hide_input": false,
  "kernelspec": {
   "display_name": "QS",
   "language": "python",
   "name": "qs"
  },
  "language_info": {
   "codemirror_mode": {
    "name": "ipython",
    "version": 3
   },
   "file_extension": ".py",
   "mimetype": "text/x-python",
   "name": "python",
   "nbconvert_exporter": "python",
   "pygments_lexer": "ipython3",
   "version": "3.10.6"
  },
  "latex_envs": {
   "LaTeX_envs_menu_present": true,
   "autoclose": true,
   "autocomplete": false,
   "bibliofile": "biblio.bib",
   "cite_by": "apalike",
   "current_citInitial": 1,
   "eqLabelWithNumbers": true,
   "eqNumInitial": 1,
   "hotkeys": {
    "equation": "Ctrl-E",
    "itemize": "Ctrl-I"
   },
   "labels_anchors": false,
   "latex_user_defs": false,
   "report_style_numbering": false,
   "user_envs_cfg": false
  },
  "toc": {
   "base_numbering": 1,
   "nav_menu": {},
   "number_sections": true,
   "sideBar": true,
   "skip_h1_title": false,
   "title_cell": "Table of Contents",
   "title_sidebar": "Contents",
   "toc_cell": false,
   "toc_position": {},
   "toc_section_display": true,
   "toc_window_display": false
  }
 },
 "nbformat": 4,
 "nbformat_minor": 5
}
