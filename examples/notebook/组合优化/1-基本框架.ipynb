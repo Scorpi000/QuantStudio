{
 "cells": [
  {
   "cell_type": "markdown",
   "id": "8251b7bc",
   "metadata": {},
   "source": [
    "# 优化模型\n",
    "\n",
    "大多数的组合构建最终都归结为满足一定约束条件的最优化问题. 不同的组合构建问题的优化目标各不一样, 但常见的约束条件基本属于以下的范畴:\n",
    "* 权重约束条件\n",
    "$$\n",
    "\\mathbf{a}\\le\\mathbf{w}-\\mathbf{w}_b\\le\\mathbf{b}\n",
    "$$\n",
    "其中, $\\mathbf{w}_b$ 是基准权重向量, 如果 $\\mathbf{w}_b=\\mathbf{0}$ 表示对绝对权重的限制, 否则表示对相对权重的约束, $\\mathbf{a}$ 是权重约束下限, $\\mathbf{b}$ 是权重约束上限, 比如 $\\mathbf{w}\\ge \\mathbf{0}$ 表示限制为多头投资. \n",
    "* 预算约束条件\n",
    "$$\n",
    "\\mathbf{1}^T\\cdot\\mathbf{w}=a\n",
    "$$\n",
    "其中, $\\mathbf{1}$ 是全 1 向量, $a$ 是总权重, 比如 $\\mathbf{1}^T\\cdot\\mathbf{w}=1$ 表示限制为全额投资. \n",
    "* 因子暴露约束条件\n",
    "$$\n",
    "\\mathbf{x}^T\\cdot\\left(\\mathbf{w}-\\mathbf{w}_b\\right)=a\n",
    "$$\n",
    "其中, $\\mathbf{x}$ 是因子暴露向量, $\\mathbf{w}_b$ 是基准权重向量, $a$ 是组合相对于基准的超额因子暴露, 比如 $\\mathbf{x}^T\\cdot \\left(\\mathbf{w}-\\mathbf{w}_b\\right)=0$ 表示风格中性. \n",
    "* 波动率约束条件\n",
    "$$\n",
    "\\left(\\mathbf{w}-\\mathbf{w}_b\\right)^T\\cdot \\mathbf{\\Sigma}\\cdot \\left(\\mathbf{w}-\\mathbf{w}_b\\right)\\le \\sigma^2\n",
    "$$\n",
    "其中, $\\mathbf{\\Sigma}$ 是收益率的预期协方差矩阵, $\\mathbf{w}_b$ 是基准权重向量, $\\sigma$ 是组合相对于基准的跟踪误差限制. 如果 $\\mathbf{w}_b=\\mathbf{0}$ 则是对于多头波动率的控制. \n",
    "* 换手率约束条件\n",
    "$$\n",
    "\\begin{aligned}\n",
    "    & \\sum\\limits_{i=1}^n{\\left| {{w}_{i}}-{{w}_{0i}} \\right|}\\le a \\\\\n",
    "    & \\sum\\limits_{i=1}^n{\\left( {{w}_{i}}-{{w}_{0i}} \\right)^{+}}\\le a \\\\\n",
    "    & \\sum\\limits_{i=1}^n{\\left( {{w}_{i}}-{{w}_{0i}} \\right)^{-}}\\le a \\\\\n",
    "    & A_i\\cdot\\left|w_i-w_{0i}\\right|\\le a_i \\\\\n",
    "    & A_i\\cdot\\left(w_i-w_{0i}\\right)^+\\le a_i \\\\\n",
    "    & A_i\\cdot\\left(w_i-w_{0i}\\right)^-\\le a_i \\\\\n",
    "\\end{aligned}\n",
    "$$\n",
    "其中, 前三个条件是总换手约束、总买入换手约束以及总卖出换手约束, 后面三个条件分别是个券换手约束、个券买入换手约束以及个券卖出换手约束, $w_{0i}$ 是当前持有的资产 $i$ 的权重, $A_i$ 是资产 $i$ 的成交额. \n",
    "* 预期收益约束条件\n",
    "$$\n",
    "\\mathbf{\\mu}^T\\cdot\\mathbf{w}\\ge a\n",
    "$$\n",
    "其中, $\\mathbf{\\mu}$ 是预期收益率向量, $a$ 是预期收益下限. \n",
    "* 非零权重数目约束条件\n",
    "$$\n",
    "\\operatorname{nnz}\\left( \\mathbf{w} \\right)\\le N\n",
    "$$\n",
    "其中, $\\operatorname{nnz}$ 是取非零个数的函数, $N$ 是非零权重数目上限. "
   ]
  },
  {
   "cell_type": "code",
   "execution_count": null,
   "id": "2e2c1bd8",
   "metadata": {},
   "outputs": [],
   "source": []
  }
 ],
 "metadata": {
  "hide_input": false,
  "kernelspec": {
   "display_name": "QuantStudio310",
   "language": "python",
   "name": "quantstudio310"
  },
  "language_info": {
   "codemirror_mode": {
    "name": "ipython",
    "version": 3
   },
   "file_extension": ".py",
   "mimetype": "text/x-python",
   "name": "python",
   "nbconvert_exporter": "python",
   "pygments_lexer": "ipython3",
   "version": "3.10.8"
  },
  "latex_envs": {
   "LaTeX_envs_menu_present": true,
   "autoclose": true,
   "autocomplete": false,
   "bibliofile": "biblio.bib",
   "cite_by": "apalike",
   "current_citInitial": 1,
   "eqLabelWithNumbers": true,
   "eqNumInitial": 1,
   "hotkeys": {
    "equation": "Ctrl-E",
    "itemize": "Ctrl-I"
   },
   "labels_anchors": false,
   "latex_user_defs": false,
   "report_style_numbering": false,
   "user_envs_cfg": false
  },
  "toc": {
   "base_numbering": 1,
   "nav_menu": {},
   "number_sections": true,
   "sideBar": true,
   "skip_h1_title": false,
   "title_cell": "Table of Contents",
   "title_sidebar": "Contents",
   "toc_cell": false,
   "toc_position": {},
   "toc_section_display": true,
   "toc_window_display": false
  },
  "varInspector": {
   "cols": {
    "lenName": 16,
    "lenType": 16,
    "lenVar": 40
   },
   "kernels_config": {
    "python": {
     "delete_cmd_postfix": "",
     "delete_cmd_prefix": "del ",
     "library": "var_list.py",
     "varRefreshCmd": "print(var_dic_list())"
    },
    "r": {
     "delete_cmd_postfix": ") ",
     "delete_cmd_prefix": "rm(",
     "library": "var_list.r",
     "varRefreshCmd": "cat(var_dic_list()) "
    }
   },
   "types_to_exclude": [
    "module",
    "function",
    "builtin_function_or_method",
    "instance",
    "_Feature"
   ],
   "window_display": false
  }
 },
 "nbformat": 4,
 "nbformat_minor": 5
}
