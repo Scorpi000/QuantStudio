{
 "cells": [
  {
   "cell_type": "code",
   "execution_count": 1,
   "id": "5ece0a2c",
   "metadata": {
    "ExecuteTime": {
     "end_time": "2022-11-03T05:51:55.618164Z",
     "start_time": "2022-11-03T05:51:48.269390Z"
    },
    "code_folding": []
   },
   "outputs": [],
   "source": [
    "# 全局设置\n",
    "import os\n",
    "import datetime as dt\n",
    "\n",
    "import numpy as np\n",
    "import pandas as pd\n",
    "\n",
    "import QuantStudio.api as QS\n",
    "fd = QS.FactorDB.FactorTools\n",
    "Factorize = QS.FactorDB.Factorize\n",
    "\n",
    "# HDB = QS.FactorDB.HDF5DB(sys_args={\"主目录\": \"../Data/HDF5\"}).connect()\n",
    "HDB = QS.FactorDB.HDF5DB(config_file=\"../config/HDF5DBConfig.json\").connect()\n",
    "\n",
    "# RDB = QS.RiskDB.HDF5FRDB(sys_args={\"主目录\":\"../Data/RiskData\"}).connect();\n",
    "RDB = QS.RiskDB.HDF5FRDB(config_file=\"../config/HDF5FRDBConfig.json\").connect();"
   ]
  },
  {
   "cell_type": "markdown",
   "id": "dfa68390",
   "metadata": {},
   "source": [
    "# 均值方差模型\n",
    "\n",
    "均值方差模型来源于上世纪 50 年代的 Markowiz 均值方差理论, 即在给定约束条件下期望效用最大化. 其导出的优化问题的一般形式如下：\n",
    "\n",
    "$$\n",
    "\\begin{aligned}\n",
    "  & \\underset{\\mathbf{w}}{\\mathop{\\max }}\\,\\left\\{\\gamma\\cdot\\mathbf{\\mu}^T\\cdot\\mathbf{w}-\\frac{\\lambda }{2}\\mathbf{w}^T\\mathbf{\\Sigma}\\mathbf{w}-\\operatorname{TC}\\left( \\mathbf{w} \\right) \\right\\} \\\\ \n",
    " & \\operatorname{TC}\\left( \\mathbf{w} \\right)={\\lambda_1}\\sum\\limits_{i=1}^n{\\left| {{w}_{i}}-{{w}_{0i}} \\right|} + {\\lambda_2}\\sum\\limits_{i=1}^n{\\left( {{w}_{i}}-{{w}_{0i}} \\right)^{+}} + {\\lambda_3}\\sum\\limits_{i=1}^n{{\\left( {{w}_{i}}-{{w}_{0i}} \\right)}^{-}} \\\\\n",
    " & s.t.\\ \\mathbf{w}\\in\\mathfrak{C}\n",
    "\\end{aligned}\n",
    "$$\n",
    "其中, $\\mathbf{w}$ 是组合权重, 优化变量, $\\mathbf{\\mu}$ 是预期收益率, $\\mathbf{\\Sigma}$ 是收益率的预期协方差矩阵, $\\gamma$ 是收益项系数, $\\lambda\\ge 0$ 是风险厌恶系数, $\\operatorname{TC}$ 是交易成本惩罚函数, $\\lambda_1\\ge 0$ 是买卖交易费率, $\\lambda_2\\ge 0$ 是买入交易费率, $\\lambda_3\\ge 0$ 是卖出交易费率, $\\mathbf{w}_0$ 是当前持有的组合权重, $\\mathfrak{C}$ 是约束条件自由组合成的约束集. \n",
    "\n",
    "均值方差模型导出的优化问题通常是一个凸规划问题(如果含有非零权重数目约束条件, 则为整数规划问题), 在某些参数取值特殊的情况下可以退化为二次规划或者线性规划问题, 很多成熟的凸优化算法都可以有效的求解该问题. \n",
    "\n",
    "如果不对权重做任何约束, 原始的均值方差模型有很多问题:\n",
    "1. 参数估计误差大。Chopra 和 Ziemba（1993）的研究表明，在风险厌恶为 50 的情况下，均值估计误差带来的效用损失远远高于方差和协方差；风险厌恶水平越高，对均值的估计误差越敏感，效用损失越大。参数尤其是预期收益的估计误差，会给结果带来巨大的不确定性，带来 \"Garbage In, Garbage Out\" 的后果。\n",
    "2. 结果对参数输入非常敏感。Michaud（1989）发现，其结果可能极其不稳定，输入参数的较小改变，可能会使结果大相径庭。\n",
    "3. 优化结果可能过于集中。Broadie（1993）的测试表明，在约束条件欠缺的的时候，均值方差模型的结果容易集中在少数证券甚至一个证券。\n",
    "4. 换手率高，交易成本太大。De Carvalho 、 Lu 和 Moulin（2012）比较了 6 个组合优化模型（市值加权、等权重、风险平价、波动率倒数、均值方差 和最大分散度），结果表明均值方差模型换手率较高，在不加卖空约束时换手率更高。\n",
    "5. 容易得到极端的分配结果。Best 和 Grauer（1991）的研究表明，均值方差模型容易算出极大或极小的权重，且结果对输入均值异常敏感。\n",
    "6. 较差的样本外表现。DeMiguel et al.（2009）的结果表明，基于历史数据的均值方差组合，由于估计误差的存在，在样本外表现很难超越等权重组合。\n",
    "\n",
    "Behr、Guettler 和 Miebs（2013），从权重约束的角度对最小方差组合进行了改进。由于最小方差模型持仓过于集中，换手率高，Behr et al.（2013）尝试进行改进，一方面试图超越等权组合，另一方面减少换手率。具体来说，通过最小化协方差矩阵的 MSE 得到上限和下限，即将样本协方差向一个特定的协方差压缩，这个特定的协方差由上限和下限决定。在获得权重上限和下限后，再带入最小方差组合求解最小方差解即可。利用 5 个数据集，评估权重约束最小方差组合的表现。结果发现：权重约束最小方差组合夏普比等权重组合高 30%，比市值加权高 60%，比简单的卖空约束组合和单因子协方差组合也实现了更高的夏普；和 Demiguel et al.（2009）提出的 PMV 相比，同样是少数跑赢等权组合的方案，权重约束最小方差组合换手率更低。\n"
   ]
  },
  {
   "cell_type": "code",
   "execution_count": 2,
   "id": "37555286",
   "metadata": {
    "ExecuteTime": {
     "end_time": "2022-11-03T05:52:00.253378Z",
     "start_time": "2022-11-03T05:51:58.559541Z"
    }
   },
   "outputs": [
    {
     "name": "stdout",
     "output_type": "stream",
     "text": [
      "000001.SZ    0.000005\n",
      "000002.SZ    0.000006\n",
      "000004.SZ    0.000005\n",
      "000005.SZ    0.000009\n",
      "000006.SZ    0.000009\n",
      "               ...   \n",
      "000985.SZ    0.000011\n",
      "000987.SZ    0.000008\n",
      "000988.SZ    0.000006\n",
      "000989.SZ    0.000002\n",
      "000990.SZ    0.006829\n",
      "Length: 450, dtype: float64\n",
      "{'Status': 1, 'Msg': 'optimal', 'solver_name': 'OSQP', 'solve_time': 0.42990800704184856, 'setup_time': None, 'num_iters': 275, 'ReleasedConstraint': []}\n"
     ]
    }
   ],
   "source": [
    "# 组合优化\n",
    "PC = QS.PortfolioConstructor.CVXPC()\n",
    "\n",
    "# 设置相关数据\n",
    "TargetDT = dt.datetime(2018, 7, 31)\n",
    "FT = HDB.getTable(\"stock_cn_day_bar_nafilled\")\n",
    "TargetIDs = FT.getID()[:500]\n",
    "PC.Args[\"目标ID\"] = TargetIDs\n",
    "PC.Args[\"预期收益\"] = FT.readData(factor_names=[\"chg_rate\"], ids=TargetIDs, dts=[TargetDT]).iloc[0, 0, :]\n",
    "RT = RDB.getTable(\"BarraRiskData\")\n",
    "#PC[\"协方差矩阵\"] = RT.readCov(dts=[TargetDT], ids=TargetIDs)[TargetDT]\n",
    "PC.Args[\"因子协方差阵\"] = RT.readFactorCov(dts=[TargetDT]).loc[TargetDT]\n",
    "PC.Args[\"风险因子\"] = RT.readFactorData(dts=[TargetDT], ids=TargetIDs).loc[:, TargetDT, :]\n",
    "PC.Args[\"特异性风险\"] = RT.readSpecificRisk(dts=[TargetDT], ids=TargetIDs).loc[TargetDT, :]\n",
    "PC.Args[\"成交金额\"] = FT.readData(factor_names=[\"amount\"], ids=TargetIDs, dts=[TargetDT]).iloc[0, 0, :]\n",
    "PC.Args[\"初始投资组合\"] = pd.Series(0.0,index=TargetIDs)\n",
    "PC.Args[\"总财富\"] = 1000000000\n",
    "\n",
    "# 设置优化目标\n",
    "Objective = QS.PortfolioConstructor.MeanVarianceObjective(pc=PC)\n",
    "Objective.Args[\"收益项系数\"] = 0.0\n",
    "Objective.Args[\"风险厌恶系数\"] = 1.0\n",
    "PC.Args[\"优化目标\"] = Objective\n",
    "\n",
    "# 设置约束条件\n",
    "# 预算约束\n",
    "iConstraint = QS.PortfolioConstructor.BudgetConstraint(pc=PC)\n",
    "iConstraint.Args[\"限制上限\"] = 1.0\n",
    "iConstraint.Args[\"限制下限\"] = 1.0\n",
    "PC.Args[\"约束条件\"].append(iConstraint)\n",
    "# 权重约束\n",
    "iConstraint = QS.PortfolioConstructor.WeightConstraint(pc=PC)\n",
    "iConstraint.Args[\"限制上限\"] = 1.0\n",
    "iConstraint.Args[\"限制下限\"] = 0.0\n",
    "PC.Args[\"约束条件\"].append(iConstraint)\n",
    "\n",
    "# 求解优化问题\n",
    "Portfolio, ResultInfo = PC.solve()\n",
    "\n",
    "print(Portfolio)\n",
    "print(ResultInfo)"
   ]
  },
  {
   "cell_type": "code",
   "execution_count": null,
   "id": "a4386a74",
   "metadata": {},
   "outputs": [],
   "source": []
  }
 ],
 "metadata": {
  "hide_input": false,
  "kernelspec": {
   "display_name": "QuantStudio310",
   "language": "python",
   "name": "quantstudio310"
  },
  "language_info": {
   "codemirror_mode": {
    "name": "ipython",
    "version": 3
   },
   "file_extension": ".py",
   "mimetype": "text/x-python",
   "name": "python",
   "nbconvert_exporter": "python",
   "pygments_lexer": "ipython3",
   "version": "3.10.0"
  },
  "latex_envs": {
   "LaTeX_envs_menu_present": true,
   "autoclose": true,
   "autocomplete": false,
   "bibliofile": "biblio.bib",
   "cite_by": "apalike",
   "current_citInitial": 1,
   "eqLabelWithNumbers": true,
   "eqNumInitial": 1,
   "hotkeys": {
    "equation": "Ctrl-E",
    "itemize": "Ctrl-I"
   },
   "labels_anchors": false,
   "latex_user_defs": false,
   "report_style_numbering": false,
   "user_envs_cfg": false
  },
  "toc": {
   "base_numbering": 1,
   "nav_menu": {},
   "number_sections": true,
   "sideBar": true,
   "skip_h1_title": false,
   "title_cell": "Table of Contents",
   "title_sidebar": "Contents",
   "toc_cell": false,
   "toc_position": {},
   "toc_section_display": true,
   "toc_window_display": false
  },
  "varInspector": {
   "cols": {
    "lenName": 16,
    "lenType": 16,
    "lenVar": 40
   },
   "kernels_config": {
    "python": {
     "delete_cmd_postfix": "",
     "delete_cmd_prefix": "del ",
     "library": "var_list.py",
     "varRefreshCmd": "print(var_dic_list())"
    },
    "r": {
     "delete_cmd_postfix": ") ",
     "delete_cmd_prefix": "rm(",
     "library": "var_list.r",
     "varRefreshCmd": "cat(var_dic_list()) "
    }
   },
   "types_to_exclude": [
    "module",
    "function",
    "builtin_function_or_method",
    "instance",
    "_Feature"
   ],
   "window_display": false
  }
 },
 "nbformat": 4,
 "nbformat_minor": 5
}
