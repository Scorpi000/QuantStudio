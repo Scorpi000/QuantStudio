{
 "cells": [
  {
   "cell_type": "markdown",
   "id": "86d72178",
   "metadata": {},
   "source": [
    "# 因子数据模型\n",
    "\n",
    "因子数据管理采用了三层结构, 最上层是因子库, 每个因子库有多张因子表组成, 每张因子表中又包含多个因子, 每张因子表是三维数组, 第一维是因子名称, 第二维是时间点, 第三维是证券 ID. 具体到程序里的数据类型, 因子数据以 Python pandas 模块的 Panel 数据类型组织. QuantStudio 规定了这三个维度的先后顺序, 对应于 Panel 数据类型, items 是因子, major_axis 是时点, minor_axis 是证券 ID. 在 Quant Studio 的所有 API 中, 凡是涉及到因子数据的地方, 都将遵守此组织原则.\n",
    "\n",
    "另外, 对于时间点, 采用 Python 的 datetime 表示, ID 的数据类型为字符串, 例如, “000001.SZ”, 因子名称的数据类型也是字符串.\n",
    "\n",
    "<img src=\"../images/因子数据模型.png\" width=\"30%\" height=\"30%\">"
   ]
  },
  {
   "cell_type": "markdown",
   "id": "d4fa9d42",
   "metadata": {},
   "source": [
    "# 因子数据类\n",
    "\n",
    "![因子数据类](../images/UML-因子数据.png)"
   ]
  },
  {
   "cell_type": "code",
   "execution_count": null,
   "id": "4fc0a08f",
   "metadata": {},
   "outputs": [],
   "source": []
  }
 ],
 "metadata": {
  "hide_input": false,
  "kernelspec": {
   "display_name": "Python 3 (ipykernel)",
   "language": "python",
   "name": "python3"
  },
  "language_info": {
   "codemirror_mode": {
    "name": "ipython",
    "version": 3
   },
   "file_extension": ".py",
   "mimetype": "text/x-python",
   "name": "python",
   "nbconvert_exporter": "python",
   "pygments_lexer": "ipython3",
   "version": "3.8.10"
  },
  "latex_envs": {
   "LaTeX_envs_menu_present": true,
   "autoclose": false,
   "autocomplete": true,
   "bibliofile": "biblio.bib",
   "cite_by": "apalike",
   "current_citInitial": 1,
   "eqLabelWithNumbers": true,
   "eqNumInitial": 1,
   "hotkeys": {
    "equation": "Ctrl-E",
    "itemize": "Ctrl-I"
   },
   "labels_anchors": false,
   "latex_user_defs": false,
   "report_style_numbering": false,
   "user_envs_cfg": false
  },
  "toc": {
   "base_numbering": 1,
   "nav_menu": {},
   "number_sections": true,
   "sideBar": true,
   "skip_h1_title": false,
   "title_cell": "Table of Contents",
   "title_sidebar": "Contents",
   "toc_cell": false,
   "toc_position": {},
   "toc_section_display": true,
   "toc_window_display": false
  },
  "varInspector": {
   "cols": {
    "lenName": 16,
    "lenType": 16,
    "lenVar": 40
   },
   "kernels_config": {
    "python": {
     "delete_cmd_postfix": "",
     "delete_cmd_prefix": "del ",
     "library": "var_list.py",
     "varRefreshCmd": "print(var_dic_list())"
    },
    "r": {
     "delete_cmd_postfix": ") ",
     "delete_cmd_prefix": "rm(",
     "library": "var_list.r",
     "varRefreshCmd": "cat(var_dic_list()) "
    }
   },
   "types_to_exclude": [
    "module",
    "function",
    "builtin_function_or_method",
    "instance",
    "_Feature"
   ],
   "window_display": false
  }
 },
 "nbformat": 4,
 "nbformat_minor": 5
}
