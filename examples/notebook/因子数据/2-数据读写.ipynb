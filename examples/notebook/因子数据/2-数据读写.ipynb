{
 "cells": [
  {
   "cell_type": "code",
   "execution_count": 3,
   "metadata": {
    "ExecuteTime": {
     "end_time": "2022-11-03T03:32:05.291075Z",
     "start_time": "2022-11-03T03:31:57.992858Z"
    },
    "code_folding": []
   },
   "outputs": [],
   "source": [
    "# 全局设置\n",
    "import os\n",
    "import datetime as dt\n",
    "\n",
    "import numpy as np\n",
    "import pandas as pd\n",
    "\n",
    "import QuantStudio.api as QS\n",
    "fd = QS.FactorDB.FactorTools\n",
    "Factorize = QS.FactorDB.Factorize"
   ]
  },
  {
   "cell_type": "code",
   "execution_count": 2,
   "metadata": {
    "ExecuteTime": {
     "end_time": "2022-01-17T03:43:40.634399Z",
     "start_time": "2022-01-17T03:43:40.630388Z"
    },
    "code_folding": [
     0
    ]
   },
   "outputs": [],
   "source": [
    "# # 生成Demo数据\n",
    "# TDB = QS.FactorDB.HDF5DB(sys_args={\"主目录\": \"../Data/HDF5\"})\n",
    "# TDB.connect();\n",
    "\n",
    "# SDB = QS.FactorDB.HDF5DB(sys_args={\"主目录\": \"D:\\\\Data\\\\HDF5Data\"})\n",
    "# SDB.connect();\n",
    "\n",
    "# 生成Demo数据：stock_cn_quote_adj_no_nafilled\n",
    "# FT = SDB.getTable(\"stock_cn_quote_adj_no_nafilled\")\n",
    "# IDs = FT.getID()[:50]\n",
    "# DTs = FT.getDateTime()[-120:]\n",
    "# SData = FT.readData(factor_names=FT.FactorNames, ids=IDs, dts=DTs)\n",
    "# TDB.writeData(data=SData, table_name=\"stock_cn_quote_adj_no_nafilled\", if_exists=\"update\")\n",
    "\n",
    "# 生成Demo数据：stock_cn_index_component\n",
    "# FT = SDB.getTable(\"stock_cn_index_component\")\n",
    "# IDs = FT.getID()\n",
    "# DTs = FT.getDateTime()[-50:]\n",
    "# SData = FT.readData(factor_names=FT.FactorNames, ids=IDs, dts=DTs)\n",
    "# TDB.writeData(data=SData, table_name=\"stock_cn_index_component\", if_exists=\"update\")\n",
    "\n",
    "# 删除多余的表\n",
    "# for iTableName in TDB.TableNames:\n",
    "#     if iTableName not in ['stock_cn_index_component', 'stock_cn_quote_adj_no_nafilled']:\n",
    "#         TDB.deleteTable(iTableName)"
   ]
  },
  {
   "cell_type": "markdown",
   "metadata": {},
   "source": [
    "# 因子库"
   ]
  },
  {
   "cell_type": "code",
   "execution_count": 4,
   "metadata": {
    "ExecuteTime": {
     "end_time": "2022-11-03T03:32:09.379673Z",
     "start_time": "2022-11-03T03:32:09.322487Z"
    },
    "code_folding": []
   },
   "outputs": [
    {
     "name": "stdout",
     "output_type": "stream",
     "text": [
      "{'名称': 'Demo库', '主目录': '../Data/HDF5', '锁目录': '', '文件打开重试次数': inf}\n"
     ]
    }
   ],
   "source": [
    "# 创建因子库\n",
    "# FDB = QS.FactorDB.HDF5DB(sys_args={\"主目录\": \"../Data/HDF5\"}).connect()\n",
    "FDB = QS.FactorDB.HDF5DB(config_file=\"../config/HDF5DBConfig.json\").connect()\n",
    "print(FDB.Args)"
   ]
  },
  {
   "cell_type": "markdown",
   "metadata": {},
   "source": [
    "## 因子表列表"
   ]
  },
  {
   "cell_type": "code",
   "execution_count": 5,
   "metadata": {
    "ExecuteTime": {
     "end_time": "2022-11-03T03:32:13.279732Z",
     "start_time": "2022-11-03T03:32:13.269735Z"
    },
    "code_folding": []
   },
   "outputs": [
    {
     "name": "stdout",
     "output_type": "stream",
     "text": [
      "['stock_cn_day_bar_nafilled', 'stock_cn_index_component']\n"
     ]
    }
   ],
   "source": [
    "# 获取因子库中的因子表列表\n",
    "print(FDB.TableNames)"
   ]
  },
  {
   "cell_type": "markdown",
   "metadata": {},
   "source": [
    "# 因子表"
   ]
  },
  {
   "cell_type": "markdown",
   "metadata": {},
   "source": [
    "## 创建因子表"
   ]
  },
  {
   "cell_type": "code",
   "execution_count": 6,
   "metadata": {
    "ExecuteTime": {
     "end_time": "2022-11-02T08:02:17.381422Z",
     "start_time": "2022-11-02T08:02:17.349339Z"
    },
    "code_folding": []
   },
   "outputs": [
    {
     "name": "stdout",
     "output_type": "stream",
     "text": [
      "stock_cn_day_bar_nafilled\n",
      "{'批量模式': {'运算时点': [], '运算ID': [], '运算因子': [], '子进程数': 0, '时点标尺': [], '截面ID': []}, '遍历模式': {'向前缓冲时点数': 600, '向后缓冲时点数': 1, '缓冲模式': '因子', '最大缓冲因子数': 60, '最大缓冲ID数': 10000, '缓冲区大小': 300, '遍历时点': [], '遍历ID': []}, '回溯天数': 0.0, '只起始日回溯': False, '只回溯非目标日': False, '只回溯时点': False}\n"
     ]
    }
   ],
   "source": [
    "# 获取因子库中的某个因子表对象\n",
    "FT = FDB.getTable(\"stock_cn_day_bar_nafilled\", args={\"回溯天数\": 0})\n",
    "print(FT.Name)\n",
    "print(FT.Args)"
   ]
  },
  {
   "cell_type": "markdown",
   "metadata": {},
   "source": [
    "## 因子列表"
   ]
  },
  {
   "cell_type": "code",
   "execution_count": 7,
   "metadata": {
    "ExecuteTime": {
     "end_time": "2022-11-02T08:02:36.209741Z",
     "start_time": "2022-11-02T08:02:36.198765Z"
    },
    "code_folding": []
   },
   "outputs": [
    {
     "name": "stdout",
     "output_type": "stream",
     "text": [
      "['close', 'open']\n"
     ]
    }
   ],
   "source": [
    "# 获取因子表中的因子列表\n",
    "print(FT.FactorNames)"
   ]
  },
  {
   "cell_type": "markdown",
   "metadata": {},
   "source": [
    "## 元信息"
   ]
  },
  {
   "cell_type": "code",
   "execution_count": 8,
   "metadata": {
    "ExecuteTime": {
     "end_time": "2022-11-02T08:02:40.170196Z",
     "start_time": "2022-11-02T08:02:40.159178Z"
    },
    "code_folding": []
   },
   "outputs": [
    {
     "name": "stdout",
     "output_type": "stream",
     "text": [
      "Series([], dtype: float64)\n"
     ]
    }
   ],
   "source": [
    "# 读取因子表的所有元信息\n",
    "print(FT.getMetaData())"
   ]
  },
  {
   "cell_type": "code",
   "execution_count": 9,
   "metadata": {
    "ExecuteTime": {
     "end_time": "2022-11-02T08:02:41.678664Z",
     "start_time": "2022-11-02T08:02:41.671730Z"
    },
    "code_folding": [
     0
    ]
   },
   "outputs": [
    {
     "name": "stdout",
     "output_type": "stream",
     "text": [
      "None\n"
     ]
    }
   ],
   "source": [
    "# 读取因子表的某个元信息\n",
    "print(FT.getMetaData(key=\"Description\"))"
   ]
  },
  {
   "cell_type": "code",
   "execution_count": 10,
   "metadata": {
    "ExecuteTime": {
     "end_time": "2022-11-02T08:02:43.515468Z",
     "start_time": "2022-11-02T08:02:43.469242Z"
    },
    "code_folding": [
     0
    ]
   },
   "outputs": [
    {
     "name": "stdout",
     "output_type": "stream",
     "text": [
      "      DataType\n",
      "open    double\n",
      "close   double\n"
     ]
    }
   ],
   "source": [
    "# 读取某些因子的所有元信息\n",
    "print(FT.getFactorMetaData(factor_names=[\"open\", \"close\"], key=None))"
   ]
  },
  {
   "cell_type": "code",
   "execution_count": 11,
   "metadata": {
    "ExecuteTime": {
     "end_time": "2022-11-02T08:02:44.604019Z",
     "start_time": "2022-11-02T08:02:44.596019Z"
    },
    "code_folding": [
     0
    ]
   },
   "outputs": [
    {
     "name": "stdout",
     "output_type": "stream",
     "text": [
      "open     double\n",
      "close    double\n",
      "dtype: object\n"
     ]
    }
   ],
   "source": [
    "# 读取某些因子的某个元信息\n",
    "print(FT.getFactorMetaData(factor_names=[\"open\", \"close\"], key=\"DataType\"))"
   ]
  },
  {
   "cell_type": "markdown",
   "metadata": {},
   "source": [
    "## 时点序列"
   ]
  },
  {
   "cell_type": "code",
   "execution_count": 12,
   "metadata": {
    "ExecuteTime": {
     "end_time": "2022-11-02T08:02:47.852831Z",
     "start_time": "2022-11-02T08:02:47.830873Z"
    },
    "code_folding": []
   },
   "outputs": [
    {
     "name": "stdout",
     "output_type": "stream",
     "text": [
      "2000-01-04 00:00:00  -  2019-04-30 00:00:00\n"
     ]
    }
   ],
   "source": [
    "# 获取因子表的时点序列\n",
    "DTs = FT.getDateTime()\n",
    "print(DTs[0], \" - \", DTs[-1])"
   ]
  },
  {
   "cell_type": "code",
   "execution_count": 13,
   "metadata": {
    "ExecuteTime": {
     "end_time": "2022-11-02T08:02:51.489669Z",
     "start_time": "2022-11-02T08:02:51.476670Z"
    },
    "code_folding": [
     0
    ]
   },
   "outputs": [
    {
     "data": {
      "text/plain": [
       "[datetime.datetime(2018, 11, 15, 0, 0),\n",
       " datetime.datetime(2018, 11, 16, 0, 0),\n",
       " datetime.datetime(2018, 11, 19, 0, 0),\n",
       " datetime.datetime(2018, 11, 20, 0, 0),\n",
       " datetime.datetime(2018, 11, 21, 0, 0),\n",
       " datetime.datetime(2018, 11, 22, 0, 0),\n",
       " datetime.datetime(2018, 11, 23, 0, 0),\n",
       " datetime.datetime(2018, 11, 26, 0, 0),\n",
       " datetime.datetime(2018, 11, 27, 0, 0),\n",
       " datetime.datetime(2018, 11, 28, 0, 0),\n",
       " datetime.datetime(2018, 11, 29, 0, 0),\n",
       " datetime.datetime(2018, 11, 30, 0, 0)]"
      ]
     },
     "execution_count": 13,
     "metadata": {},
     "output_type": "execute_result"
    }
   ],
   "source": [
    "# 给定起始时点和截止时点, 获取因子表的时点序列\n",
    "FT.getDateTime(start_dt=dt.datetime(2018,11,15), end_dt=dt.datetime(2018,12,1))"
   ]
  },
  {
   "cell_type": "code",
   "execution_count": 14,
   "metadata": {
    "ExecuteTime": {
     "end_time": "2022-11-02T08:02:54.444994Z",
     "start_time": "2022-11-02T08:02:54.437990Z"
    },
    "code_folding": [
     0
    ]
   },
   "outputs": [
    {
     "data": {
      "text/plain": [
       "[datetime.datetime(2018, 11, 15, 0, 0),\n",
       " datetime.datetime(2018, 11, 16, 0, 0),\n",
       " datetime.datetime(2018, 11, 19, 0, 0),\n",
       " datetime.datetime(2018, 11, 20, 0, 0),\n",
       " datetime.datetime(2018, 11, 21, 0, 0),\n",
       " datetime.datetime(2018, 11, 22, 0, 0),\n",
       " datetime.datetime(2018, 11, 23, 0, 0),\n",
       " datetime.datetime(2018, 11, 26, 0, 0),\n",
       " datetime.datetime(2018, 11, 27, 0, 0),\n",
       " datetime.datetime(2018, 11, 28, 0, 0),\n",
       " datetime.datetime(2018, 11, 29, 0, 0),\n",
       " datetime.datetime(2018, 11, 30, 0, 0)]"
      ]
     },
     "execution_count": 14,
     "metadata": {},
     "output_type": "execute_result"
    }
   ],
   "source": [
    "# 给定起始时点,截止时点,目标因子, 获取因子表中指定因子的时点序列\n",
    "FT.getDateTime(ifactor_name=\"close\", start_dt=dt.datetime(2018,11,15), end_dt=dt.datetime(2018,12,1))"
   ]
  },
  {
   "cell_type": "code",
   "execution_count": 15,
   "metadata": {
    "ExecuteTime": {
     "end_time": "2022-11-02T08:02:56.859776Z",
     "start_time": "2022-11-02T08:02:56.832772Z"
    },
    "code_folding": [
     0
    ]
   },
   "outputs": [
    {
     "data": {
      "text/plain": [
       "[Timestamp('2018-11-15 00:00:00'),\n",
       " Timestamp('2018-11-16 00:00:00'),\n",
       " Timestamp('2018-11-19 00:00:00'),\n",
       " Timestamp('2018-11-20 00:00:00'),\n",
       " Timestamp('2018-11-21 00:00:00'),\n",
       " Timestamp('2018-11-22 00:00:00'),\n",
       " Timestamp('2018-11-23 00:00:00'),\n",
       " Timestamp('2018-11-26 00:00:00'),\n",
       " Timestamp('2018-11-27 00:00:00'),\n",
       " Timestamp('2018-11-28 00:00:00'),\n",
       " Timestamp('2018-11-29 00:00:00'),\n",
       " Timestamp('2018-11-30 00:00:00')]"
      ]
     },
     "execution_count": 15,
     "metadata": {},
     "output_type": "execute_result"
    }
   ],
   "source": [
    "# 给定起始时点,截止时点,目标因子,目标 ID, 获取因子表中指定因子指定 ID 的时点序列\n",
    "FT.getDateTime(ifactor_name=\"close\", iid=\"000001.SZ\", start_dt=dt.datetime(2018,11,15), end_dt=dt.datetime(2018,12,1))"
   ]
  },
  {
   "cell_type": "markdown",
   "metadata": {},
   "source": [
    "## ID 序列"
   ]
  },
  {
   "cell_type": "code",
   "execution_count": 22,
   "metadata": {
    "ExecuteTime": {
     "end_time": "2022-11-02T08:04:36.779460Z",
     "start_time": "2022-11-02T08:04:36.771406Z"
    },
    "code_folding": []
   },
   "outputs": [
    {
     "name": "stdout",
     "output_type": "stream",
     "text": [
      "000001.SZ , ...,  T00018.SH 共 3710 个\n"
     ]
    }
   ],
   "source": [
    "# 获取因子表的 ID 序列\n",
    "IDs = FT.getID()\n",
    "print(IDs[0], \", ..., \", IDs[-1], f\"共 {len(IDs)} 个\")"
   ]
  },
  {
   "cell_type": "code",
   "execution_count": 23,
   "metadata": {
    "ExecuteTime": {
     "end_time": "2022-11-02T08:04:38.953705Z",
     "start_time": "2022-11-02T08:04:38.937762Z"
    },
    "code_folding": []
   },
   "outputs": [
    {
     "name": "stdout",
     "output_type": "stream",
     "text": [
      "000001.SZ , ...,  T00018.SH 共 3710 个\n"
     ]
    }
   ],
   "source": [
    "# 给定目标因子, 获取因子表中指定因子的 ID 序列\n",
    "IDs = FT.getID(ifactor_name=\"close\")\n",
    "print(IDs[0], \", ..., \", IDs[-1], f\"共 {len(IDs)} 个\")"
   ]
  },
  {
   "cell_type": "code",
   "execution_count": 24,
   "metadata": {
    "ExecuteTime": {
     "end_time": "2022-11-02T08:04:40.966800Z",
     "start_time": "2022-11-02T08:04:40.937390Z"
    },
    "code_folding": []
   },
   "outputs": [
    {
     "name": "stdout",
     "output_type": "stream",
     "text": [
      "000001.SZ , ...,  603999.SH 共 3556 个\n"
     ]
    }
   ],
   "source": [
    "# 给定目标因子,目标时点, 获取因子表中指定因子指定时点的 ID 序列\n",
    "IDs = FT.getID(ifactor_name=\"close\", idt=dt.datetime(2018, 11, 22))\n",
    "print(IDs[0], \", ..., \", IDs[-1], f\"共 {len(IDs)} 个\")"
   ]
  },
  {
   "cell_type": "code",
   "execution_count": 19,
   "metadata": {
    "ExecuteTime": {
     "end_time": "2022-11-02T08:03:24.287926Z",
     "start_time": "2022-11-02T08:03:24.237598Z"
    },
    "code_folding": [
     0
    ]
   },
   "outputs": [
    {
     "name": "stdout",
     "output_type": "stream",
     "text": [
      "000001.SZ     True\n",
      "000002.SZ     True\n",
      "000004.SZ    False\n",
      "000005.SZ    False\n",
      "000006.SZ     True\n",
      "             ...  \n",
      "603993.SH     True\n",
      "603996.SH     True\n",
      "603997.SH    False\n",
      "603998.SH     True\n",
      "603999.SH    False\n",
      "Length: 3556, dtype: bool\n"
     ]
    }
   ],
   "source": [
    "# 获取按条件筛选的 ID Mask\n",
    "print(FT.getIDMask(idt=dt.datetime(2018, 11, 22), ids=None, id_filter_str=\"(@close<=40) & (@open>@close)\"))"
   ]
  },
  {
   "cell_type": "code",
   "execution_count": 21,
   "metadata": {
    "ExecuteTime": {
     "end_time": "2022-11-02T08:04:11.731381Z",
     "start_time": "2022-11-02T08:04:11.672300Z"
    },
    "code_folding": [],
    "scrolled": false
   },
   "outputs": [
    {
     "name": "stdout",
     "output_type": "stream",
     "text": [
      "000001.SZ , ...,  603998.SH 共 1890 个\n"
     ]
    }
   ],
   "source": [
    "# 获取按条件筛选的 ID 列表\n",
    "IDs = FT.getFilteredID(idt=dt.datetime(2018, 11, 22), ids=None, id_filter_str=\"(@close<=40) & (@open>@close)\")\n",
    "print(IDs[0], \", ..., \", IDs[-1], f\"共 {len(IDs)} 个\")"
   ]
  },
  {
   "cell_type": "markdown",
   "metadata": {},
   "source": [
    "## 读取数据"
   ]
  },
  {
   "cell_type": "code",
   "execution_count": 26,
   "metadata": {
    "ExecuteTime": {
     "end_time": "2022-11-02T08:05:00.664618Z",
     "start_time": "2022-11-02T08:05:00.627892Z"
    },
    "code_folding": []
   },
   "outputs": [
    {
     "name": "stdout",
     "output_type": "stream",
     "text": [
      "三维数据 : \n",
      "<class 'QuantStudio.Tools.QSObjects.Panel'>\n",
      "Dimensions: 2 (items) x 6 (major_axis) x 3 (minor_axis)\n",
      "Items axis: close to open\n",
      "Major_axis axis: 2018-11-15 00:00:00 to 2018-11-22 00:00:00\n",
      "Minor_axis axis: 000001.SZ to 000058.SZ\n",
      "因子切片 : close\n",
      "            000001.SZ  000002.SZ  000058.SZ\n",
      "2018-11-15      10.62      24.38       6.33\n",
      "2018-11-16      10.57      24.78       6.96\n",
      "2018-11-19      10.85      25.97       6.50\n",
      "2018-11-20      10.57      25.65       6.84\n",
      "2018-11-21      10.61      26.03       6.86\n",
      "2018-11-22      10.55      25.63       6.88\n",
      "时点切片 : 2018-11-19 00:00:00\n",
      "           close   open\n",
      "000001.SZ  10.85  10.57\n",
      "000002.SZ  25.97  24.70\n",
      "000058.SZ   6.50   7.24\n",
      "ID 切片 : 000001.SZ\n",
      "            close   open\n",
      "2018-11-15  10.62  10.44\n",
      "2018-11-16  10.57  10.61\n",
      "2018-11-19  10.85  10.57\n",
      "2018-11-20  10.57  10.75\n",
      "2018-11-21  10.61  10.50\n",
      "2018-11-22  10.55  10.67\n"
     ]
    }
   ],
   "source": [
    "# 给定因子列表, 时点列表, ID 列表, 获取数据\n",
    "DTs = FT.getDateTime(start_dt=dt.datetime(2018,11,15), end_dt=dt.datetime(2018,11,22))\n",
    "Data = FT.readData(factor_names=[\"close\", \"open\"], ids=[\"000001.SZ\", \"000002.SZ\", \"000058.SZ\"], dts=DTs)\n",
    "print(\"三维数据 : \")\n",
    "print(Data)\n",
    "\n",
    "iFactor = \"close\"\n",
    "print(f\"因子切片 : {iFactor}\")\n",
    "print(Data.loc[iFactor])\n",
    "\n",
    "iDT = dt.datetime(2018, 11, 19)\n",
    "print(f\"时点切片 : {iDT}\")\n",
    "print(Data.loc[:, iDT])\n",
    "\n",
    "iID = \"000001.SZ\"\n",
    "print(f\"ID 切片 : {iID}\")\n",
    "print(Data.loc[:, :, iID])"
   ]
  },
  {
   "cell_type": "markdown",
   "metadata": {},
   "source": [
    "# 因子"
   ]
  },
  {
   "cell_type": "markdown",
   "metadata": {},
   "source": [
    "## 创建因子"
   ]
  },
  {
   "cell_type": "code",
   "execution_count": 28,
   "metadata": {
    "ExecuteTime": {
     "end_time": "2022-11-02T08:05:14.905679Z",
     "start_time": "2022-11-02T08:05:14.884679Z"
    },
    "code_folding": []
   },
   "outputs": [
    {
     "name": "stdout",
     "output_type": "stream",
     "text": [
      "close\n",
      "{'批量模式': {'运算时点': [], '运算ID': [], '运算因子': [], '子进程数': 0, '时点标尺': [], '截面ID': []}, '回溯天数': 0.0, '只起始日回溯': False, '只回溯非目标日': False, '只回溯时点': False}\n"
     ]
    }
   ],
   "source": [
    "# 创建因子\n",
    "FT = FDB.getTable(\"stock_cn_day_bar_nafilled\")\n",
    "F = FT.getFactor(\"close\")\n",
    "print(F.Name)\n",
    "print(F.Args)"
   ]
  },
  {
   "cell_type": "markdown",
   "metadata": {},
   "source": [
    "## 元信息"
   ]
  },
  {
   "cell_type": "code",
   "execution_count": 29,
   "metadata": {
    "ExecuteTime": {
     "end_time": "2022-11-02T08:05:26.224416Z",
     "start_time": "2022-11-02T08:05:26.205417Z"
    },
    "code_folding": []
   },
   "outputs": [
    {
     "name": "stdout",
     "output_type": "stream",
     "text": [
      "DataType    double\n",
      "Name: close, dtype: object\n"
     ]
    }
   ],
   "source": [
    "# 读取因子的所有元信息\n",
    "print(F.getMetaData(key=None))"
   ]
  },
  {
   "cell_type": "code",
   "execution_count": 30,
   "metadata": {
    "ExecuteTime": {
     "end_time": "2022-11-02T08:05:29.668109Z",
     "start_time": "2022-11-02T08:05:29.661077Z"
    },
    "code_folding": []
   },
   "outputs": [
    {
     "name": "stdout",
     "output_type": "stream",
     "text": [
      "double\n"
     ]
    }
   ],
   "source": [
    "# 读取因子的某个元信息\n",
    "print(F.getMetaData(key=\"DataType\"))"
   ]
  },
  {
   "cell_type": "markdown",
   "metadata": {},
   "source": [
    "## 时点序列"
   ]
  },
  {
   "cell_type": "code",
   "execution_count": 31,
   "metadata": {
    "ExecuteTime": {
     "end_time": "2022-11-02T08:05:34.499958Z",
     "start_time": "2022-11-02T08:05:34.486960Z"
    },
    "code_folding": []
   },
   "outputs": [
    {
     "name": "stdout",
     "output_type": "stream",
     "text": [
      "2000-01-04 00:00:00  -  2019-04-30 00:00:00\n"
     ]
    }
   ],
   "source": [
    "# 获取因子的时点序列\n",
    "DTs = F.getDateTime()\n",
    "print(DTs[0], \" - \", DTs[-1])"
   ]
  },
  {
   "cell_type": "code",
   "execution_count": 32,
   "metadata": {
    "ExecuteTime": {
     "end_time": "2022-11-02T08:05:37.556427Z",
     "start_time": "2022-11-02T08:05:37.538498Z"
    },
    "code_folding": [
     0
    ]
   },
   "outputs": [
    {
     "data": {
      "text/plain": [
       "[datetime.datetime(2018, 11, 15, 0, 0),\n",
       " datetime.datetime(2018, 11, 16, 0, 0),\n",
       " datetime.datetime(2018, 11, 19, 0, 0),\n",
       " datetime.datetime(2018, 11, 20, 0, 0),\n",
       " datetime.datetime(2018, 11, 21, 0, 0),\n",
       " datetime.datetime(2018, 11, 22, 0, 0),\n",
       " datetime.datetime(2018, 11, 23, 0, 0),\n",
       " datetime.datetime(2018, 11, 26, 0, 0),\n",
       " datetime.datetime(2018, 11, 27, 0, 0),\n",
       " datetime.datetime(2018, 11, 28, 0, 0),\n",
       " datetime.datetime(2018, 11, 29, 0, 0),\n",
       " datetime.datetime(2018, 11, 30, 0, 0)]"
      ]
     },
     "execution_count": 32,
     "metadata": {},
     "output_type": "execute_result"
    }
   ],
   "source": [
    "# 给定起始时点和截止时点, 获取因子的时点序列\n",
    "F.getDateTime(start_dt=dt.datetime(2018,11,15), end_dt=dt.datetime(2018,12,1))"
   ]
  },
  {
   "cell_type": "code",
   "execution_count": 33,
   "metadata": {
    "ExecuteTime": {
     "end_time": "2022-11-02T08:05:42.098226Z",
     "start_time": "2022-11-02T08:05:42.078225Z"
    },
    "code_folding": [
     0
    ]
   },
   "outputs": [
    {
     "data": {
      "text/plain": [
       "[Timestamp('2018-11-15 00:00:00'),\n",
       " Timestamp('2018-11-16 00:00:00'),\n",
       " Timestamp('2018-11-19 00:00:00'),\n",
       " Timestamp('2018-11-20 00:00:00'),\n",
       " Timestamp('2018-11-21 00:00:00'),\n",
       " Timestamp('2018-11-22 00:00:00'),\n",
       " Timestamp('2018-11-23 00:00:00'),\n",
       " Timestamp('2018-11-26 00:00:00'),\n",
       " Timestamp('2018-11-27 00:00:00'),\n",
       " Timestamp('2018-11-28 00:00:00'),\n",
       " Timestamp('2018-11-29 00:00:00'),\n",
       " Timestamp('2018-11-30 00:00:00')]"
      ]
     },
     "execution_count": 33,
     "metadata": {},
     "output_type": "execute_result"
    }
   ],
   "source": [
    "# 给定起始时点,截止时点,目标 ID, 获取因子指定 ID 的时点序列\n",
    "F.getDateTime(iid=\"000001.SZ\", start_dt=dt.datetime(2018,11,15), end_dt=dt.datetime(2018,12,1))"
   ]
  },
  {
   "cell_type": "markdown",
   "metadata": {},
   "source": [
    "## ID 序列"
   ]
  },
  {
   "cell_type": "code",
   "execution_count": 34,
   "metadata": {
    "ExecuteTime": {
     "end_time": "2022-11-02T08:05:48.138356Z",
     "start_time": "2022-11-02T08:05:48.115357Z"
    },
    "code_folding": [
     0
    ]
   },
   "outputs": [
    {
     "name": "stdout",
     "output_type": "stream",
     "text": [
      "000001.SZ , ...,  T00018.SH\n"
     ]
    }
   ],
   "source": [
    "# 获取因子的 ID 序列\n",
    "IDs = F.getID()\n",
    "print(IDs[0], \", ..., \", IDs[-1])"
   ]
  },
  {
   "cell_type": "code",
   "execution_count": 35,
   "metadata": {
    "ExecuteTime": {
     "end_time": "2022-11-02T08:05:49.643434Z",
     "start_time": "2022-11-02T08:05:49.609235Z"
    },
    "code_folding": [
     0
    ]
   },
   "outputs": [
    {
     "name": "stdout",
     "output_type": "stream",
     "text": [
      "000001.SZ , ...,  603999.SH\n"
     ]
    }
   ],
   "source": [
    "# 给定目标时点, 获取因子指定时点的 ID 序列\n",
    "IDs = F.getID(idt=dt.datetime(2018, 11, 22))\n",
    "print(IDs[0], \", ..., \", IDs[-1])"
   ]
  },
  {
   "cell_type": "markdown",
   "metadata": {},
   "source": [
    "## 读取数据\n",
    "\n",
    "readData(factor_names, ids, dts, args={})\n",
    "\n",
    "读取因子表数据:\t\n",
    "* factor_names: list(str), 因子名列表\n",
    "* ids: list(str), ID 序列\n",
    "* dts: list(datetime.datetime): 时点序列\n",
    "* args: dict, 需要临时性修改的因子表参数集\n",
    "* 返回: Panel(items=factor_names, major_axis=dts, minor_axis=ids), 因子数据"
   ]
  },
  {
   "cell_type": "code",
   "execution_count": 36,
   "metadata": {
    "ExecuteTime": {
     "end_time": "2022-11-02T08:05:57.510008Z",
     "start_time": "2022-11-02T08:05:57.481998Z"
    },
    "code_folding": [
     0
    ]
   },
   "outputs": [
    {
     "name": "stdout",
     "output_type": "stream",
     "text": [
      "二维数据 : \n",
      "            000001.SZ  000002.SZ  000058.SZ\n",
      "2018-11-15      10.62      24.38       6.33\n",
      "2018-11-16      10.57      24.78       6.96\n",
      "2018-11-19      10.85      25.97       6.50\n",
      "2018-11-20      10.57      25.65       6.84\n",
      "2018-11-21      10.61      26.03       6.86\n",
      "2018-11-22      10.55      25.63       6.88\n"
     ]
    }
   ],
   "source": [
    "# 给定时点列表, ID 列表, 获取数据\n",
    "DTs = F.getDateTime(start_dt=dt.datetime(2018,11,15), end_dt=dt.datetime(2018,11,22))\n",
    "print(\"二维数据 : \")\n",
    "print(F.readData(ids=[\"000001.SZ\", \"000002.SZ\", \"000058.SZ\"], dts=DTs))"
   ]
  },
  {
   "cell_type": "markdown",
   "metadata": {},
   "source": [
    "# 数据写入"
   ]
  },
  {
   "cell_type": "markdown",
   "metadata": {},
   "source": [
    "因子库的 writeData 方法有四个参数:\n",
    "* data: 要写入的数据, Panel, 即是因子表通过 readData 得到的数据类型;\n",
    "* table_name: 要存入的因子表名称, str;\n",
    "* if_exists: 用于指明如果因子库中同名因子已经存在的数据更新方法, 可选:\n",
    "    + \"update\": 默认值, 表示新旧数据重叠的部分以新数据为准;\n",
    "    + \"append\"：表示新旧数据重叠的部分以已有数据为准;\n",
    "    + \"update_notnull\": 表示新旧数据重叠的部分以不缺失的新数据为准, 如果新数据为缺失值则不改动已有数据;\n",
    "* data_type: 用于指明每个待写入因子的数据类型, dict, key 是因子名称, value 是因子数据类型, 可选: \"double\", \"string\", \"object\", 如果未指明则交由 QuantStudio 自动判断, data_type 默认值为空字典."
   ]
  },
  {
   "cell_type": "code",
   "execution_count": 37,
   "metadata": {
    "ExecuteTime": {
     "end_time": "2022-11-02T08:06:30.408744Z",
     "start_time": "2022-11-02T08:06:30.343705Z"
    },
    "code_folding": []
   },
   "outputs": [
    {
     "name": "stdout",
     "output_type": "stream",
     "text": [
      "待写入的数据 : \n",
      "<class 'QuantStudio.Tools.QSObjects.Panel'>\n",
      "Dimensions: 2 (items) x 6 (major_axis) x 3 (minor_axis)\n",
      "Items axis: close to open\n",
      "Major_axis axis: 2018-11-15 00:00:00 to 2018-11-22 00:00:00\n",
      "Minor_axis axis: 000001.SZ to 000058.SZ\n",
      "写入后的因子表 : \n",
      "['TestTable', 'stock_cn_day_bar_nafilled', 'stock_cn_index_component']\n",
      "写入的因子 : \n",
      "['close', 'open']\n"
     ]
    }
   ],
   "source": [
    "# 数据写入\n",
    "FT = FDB.getTable(\"stock_cn_day_bar_nafilled\", args={\"回溯天数\": 0})\n",
    "DTs = FT.getDateTime(start_dt=dt.datetime(2018,11,15), end_dt=dt.datetime(2018,11,22))\n",
    "Data = FT.readData(factor_names=[\"close\", \"open\"], ids=[\"000001.SZ\", \"000002.SZ\", \"000058.SZ\"], dts=DTs)\n",
    "print(\"待写入的数据 : \")\n",
    "print(Data)\n",
    "\n",
    "TargetTable = \"TestTable\"\n",
    "FDB.writeData(data=Data, table_name=TargetTable, if_exists=\"update\", data_type={\"close\":\"double\", \"open\":\"double\"})\n",
    "print(\"写入后的因子表 : \")\n",
    "print(FDB.TableNames)\n",
    "print(\"写入的因子 : \")\n",
    "print(FDB.getTable(TargetTable).FactorNames)"
   ]
  },
  {
   "cell_type": "markdown",
   "metadata": {},
   "source": [
    "# 因子库其他操作"
   ]
  },
  {
   "cell_type": "markdown",
   "metadata": {},
   "source": [
    "## 设置因子的元信息"
   ]
  },
  {
   "cell_type": "code",
   "execution_count": 38,
   "metadata": {
    "ExecuteTime": {
     "end_time": "2022-11-02T08:06:39.661508Z",
     "start_time": "2022-11-02T08:06:39.638554Z"
    },
    "code_folding": [
     0
    ]
   },
   "outputs": [
    {
     "name": "stdout",
     "output_type": "stream",
     "text": [
      "设置前的元信息 : \n",
      "      DataType\n",
      "close   double\n",
      "设置后的元信息 : \n",
      "      DataType Description\n",
      "close   double    这是一个测试因子\n"
     ]
    }
   ],
   "source": [
    "# 设置因子的元信息\n",
    "TargetTable = \"TestTable\"\n",
    "TargetFactor = \"close\"\n",
    "FT = FDB.getTable(TargetTable)\n",
    "print(\"设置前的元信息 : \")\n",
    "print(FT.getFactorMetaData(factor_names=[TargetFactor]))\n",
    "FDB.setFactorMetaData(table_name=TargetTable, ifactor_name=TargetFactor, key=\"Description\", value=\"这是一个测试因子\")\n",
    "print(\"设置后的元信息 : \")\n",
    "print(FT.getFactorMetaData(factor_names=[TargetFactor]))"
   ]
  },
  {
   "cell_type": "code",
   "execution_count": 39,
   "metadata": {
    "ExecuteTime": {
     "end_time": "2022-11-02T08:06:43.098454Z",
     "start_time": "2022-11-02T08:06:43.062454Z"
    },
    "code_folding": [
     0
    ]
   },
   "outputs": [
    {
     "name": "stdout",
     "output_type": "stream",
     "text": [
      "设置前的元信息 : \n",
      "      DataType Description\n",
      "close   double    这是一个测试因子\n",
      "设置后的元信息 : \n",
      "      DataType Description  aha\n",
      "close   double   这还是一个测试因子  123\n"
     ]
    }
   ],
   "source": [
    "# 设置因子的元信息\n",
    "TargetTable = \"TestTable\"\n",
    "TargetFactor = \"close\"\n",
    "FT = FDB.getTable(TargetTable)\n",
    "print(\"设置前的元信息 : \")\n",
    "print(FT.getFactorMetaData(factor_names=[TargetFactor]))\n",
    "FDB.setFactorMetaData(table_name=TargetTable, ifactor_name=TargetFactor, meta_data={\"Description\": \"这还是一个测试因子\", \"aha\": 123})\n",
    "print(\"设置后的元信息 : \")\n",
    "print(FT.getFactorMetaData(factor_names=[TargetFactor]))"
   ]
  },
  {
   "cell_type": "markdown",
   "metadata": {},
   "source": [
    "## 重命名因子"
   ]
  },
  {
   "cell_type": "code",
   "execution_count": 40,
   "metadata": {
    "ExecuteTime": {
     "end_time": "2022-11-02T08:06:50.319190Z",
     "start_time": "2022-11-02T08:06:50.301177Z"
    },
    "code_folding": [
     0
    ]
   },
   "outputs": [
    {
     "name": "stdout",
     "output_type": "stream",
     "text": [
      "重命名前因子列表 : \n",
      "['close', 'open']\n",
      "重命名后因子列表 : \n",
      "['close_New', 'open']\n"
     ]
    }
   ],
   "source": [
    "# 重命名因子\n",
    "TargetTable = \"TestTable\"\n",
    "FT = FDB.getTable(TargetTable)\n",
    "print(\"重命名前因子列表 : \")\n",
    "print(FT.FactorNames)\n",
    "FDB.renameFactor(table_name=TargetTable, old_factor_name=\"close\", new_factor_name=\"close_New\")\n",
    "print(\"重命名后因子列表 : \")\n",
    "print(FT.FactorNames)"
   ]
  },
  {
   "cell_type": "markdown",
   "metadata": {},
   "source": [
    "## 删除因子"
   ]
  },
  {
   "cell_type": "code",
   "execution_count": 41,
   "metadata": {
    "ExecuteTime": {
     "end_time": "2022-11-02T08:06:55.613103Z",
     "start_time": "2022-11-02T08:06:55.586533Z"
    },
    "code_folding": [
     0
    ]
   },
   "outputs": [
    {
     "name": "stdout",
     "output_type": "stream",
     "text": [
      "删除前因子列表 : \n",
      "['close_New', 'open']\n",
      "删除后因子列表 : \n",
      "['open']\n"
     ]
    }
   ],
   "source": [
    "# 删除因子\n",
    "TargetTable = \"TestTable\"\n",
    "FT = FDB.getTable(TargetTable)\n",
    "print(\"删除前因子列表 : \")\n",
    "print(FT.FactorNames)\n",
    "FDB.deleteFactor(table_name=TargetTable, factor_names=[\"close_New\"])\n",
    "print(\"删除后因子列表 : \")\n",
    "print(FT.FactorNames)"
   ]
  },
  {
   "cell_type": "markdown",
   "metadata": {},
   "source": [
    "## 设置表的元信息"
   ]
  },
  {
   "cell_type": "code",
   "execution_count": 42,
   "metadata": {
    "ExecuteTime": {
     "end_time": "2022-11-02T08:06:59.713112Z",
     "start_time": "2022-11-02T08:06:59.680370Z"
    },
    "code_folding": [
     0
    ]
   },
   "outputs": [
    {
     "name": "stdout",
     "output_type": "stream",
     "text": [
      "设置前的元信息 : \n",
      "Series([], dtype: float64)\n",
      "设置后的元信息 : \n",
      "Description    这是一张测试表\n",
      "dtype: object\n"
     ]
    }
   ],
   "source": [
    "# 设置表的元信息\n",
    "TargetTable = \"TestTable\"\n",
    "FT = FDB.getTable(TargetTable)\n",
    "print(\"设置前的元信息 : \")\n",
    "print(FT.getMetaData())\n",
    "FDB.setTableMetaData(table_name=TargetTable, key=\"Description\", value=\"这是一张测试表\")\n",
    "print(\"设置后的元信息 : \")\n",
    "print(FT.getMetaData())"
   ]
  },
  {
   "cell_type": "code",
   "execution_count": 43,
   "metadata": {
    "ExecuteTime": {
     "end_time": "2022-11-02T08:07:02.986531Z",
     "start_time": "2022-11-02T08:07:02.962511Z"
    },
    "code_folding": [
     0
    ]
   },
   "outputs": [
    {
     "name": "stdout",
     "output_type": "stream",
     "text": [
      "设置前的元信息 : \n",
      "Description    这是一张测试表\n",
      "dtype: object\n",
      "设置后的元信息 : \n",
      "Description    这还是一张测试表\n",
      "aha                 123\n",
      "dtype: object\n"
     ]
    }
   ],
   "source": [
    "# 设置表的元信息\n",
    "TargetTable = \"TestTable\"\n",
    "FT = FDB.getTable(TargetTable)\n",
    "print(\"设置前的元信息 : \")\n",
    "print(FT.getMetaData())\n",
    "FDB.setTableMetaData(table_name=TargetTable, meta_data={\"Description\": \"这还是一张测试表\", \"aha\": 123})\n",
    "print(\"设置后的元信息 : \")\n",
    "print(FT.getMetaData())"
   ]
  },
  {
   "cell_type": "markdown",
   "metadata": {},
   "source": [
    "## 重命名表"
   ]
  },
  {
   "cell_type": "code",
   "execution_count": 44,
   "metadata": {
    "ExecuteTime": {
     "end_time": "2022-11-02T08:07:05.813160Z",
     "start_time": "2022-11-02T08:07:05.803146Z"
    },
    "code_folding": [
     0
    ]
   },
   "outputs": [
    {
     "name": "stdout",
     "output_type": "stream",
     "text": [
      "重命名前因子表 : \n",
      "['TestTable', 'stock_cn_day_bar_nafilled', 'stock_cn_index_component']\n",
      "重命名后因子表 : \n",
      "['TestTable_New', 'stock_cn_day_bar_nafilled', 'stock_cn_index_component']\n"
     ]
    }
   ],
   "source": [
    "# 重命名表\n",
    "print(\"重命名前因子表 : \")\n",
    "print(FDB.TableNames)\n",
    "FDB.renameTable(old_table_name=\"TestTable\", new_table_name=\"TestTable_New\")\n",
    "print(\"重命名后因子表 : \")\n",
    "print(FDB.TableNames)"
   ]
  },
  {
   "cell_type": "markdown",
   "metadata": {},
   "source": [
    "## 删除表"
   ]
  },
  {
   "cell_type": "code",
   "execution_count": 45,
   "metadata": {
    "ExecuteTime": {
     "end_time": "2022-11-02T08:07:09.580268Z",
     "start_time": "2022-11-02T08:07:09.566271Z"
    },
    "code_folding": [
     0
    ]
   },
   "outputs": [
    {
     "name": "stdout",
     "output_type": "stream",
     "text": [
      "删除前因子表 : \n",
      "['TestTable_New', 'stock_cn_day_bar_nafilled', 'stock_cn_index_component']\n",
      "删除后因子表 : \n",
      "['stock_cn_day_bar_nafilled', 'stock_cn_index_component']\n"
     ]
    }
   ],
   "source": [
    "# 删除表\n",
    "print(\"删除前因子表 : \")\n",
    "print(FDB.TableNames)\n",
    "FDB.deleteTable(table_name=\"TestTable_New\")\n",
    "print(\"删除后因子表 : \")\n",
    "print(FDB.TableNames)"
   ]
  },
  {
   "cell_type": "code",
   "execution_count": null,
   "metadata": {},
   "outputs": [],
   "source": []
  }
 ],
 "metadata": {
  "hide_input": false,
  "kernelspec": {
   "display_name": "QuantStudio310",
   "language": "python",
   "name": "quantstudio310"
  },
  "language_info": {
   "codemirror_mode": {
    "name": "ipython",
    "version": 3
   },
   "file_extension": ".py",
   "mimetype": "text/x-python",
   "name": "python",
   "nbconvert_exporter": "python",
   "pygments_lexer": "ipython3",
   "version": "3.10.0"
  },
  "latex_envs": {
   "LaTeX_envs_menu_present": true,
   "autoclose": false,
   "autocomplete": true,
   "bibliofile": "biblio.bib",
   "cite_by": "apalike",
   "current_citInitial": 1,
   "eqLabelWithNumbers": true,
   "eqNumInitial": 1,
   "hotkeys": {
    "equation": "Ctrl-E",
    "itemize": "Ctrl-I"
   },
   "labels_anchors": false,
   "latex_user_defs": false,
   "report_style_numbering": false,
   "user_envs_cfg": false
  },
  "toc": {
   "base_numbering": 1,
   "nav_menu": {},
   "number_sections": true,
   "sideBar": true,
   "skip_h1_title": false,
   "title_cell": "Table of Contents",
   "title_sidebar": "Contents",
   "toc_cell": false,
   "toc_position": {
    "height": "calc(100% - 180px)",
    "left": "10px",
    "top": "150px",
    "width": "384px"
   },
   "toc_section_display": true,
   "toc_window_display": true
  },
  "varInspector": {
   "cols": {
    "lenName": 16,
    "lenType": 16,
    "lenVar": 40
   },
   "kernels_config": {
    "python": {
     "delete_cmd_postfix": "",
     "delete_cmd_prefix": "del ",
     "library": "var_list.py",
     "varRefreshCmd": "print(var_dic_list())"
    },
    "r": {
     "delete_cmd_postfix": ") ",
     "delete_cmd_prefix": "rm(",
     "library": "var_list.r",
     "varRefreshCmd": "cat(var_dic_list()) "
    }
   },
   "position": {
    "height": "257px",
    "left": "1550px",
    "right": "20px",
    "top": "120px",
    "width": "354px"
   },
   "types_to_exclude": [
    "module",
    "function",
    "builtin_function_or_method",
    "instance",
    "_Feature"
   ],
   "window_display": false
  }
 },
 "nbformat": 4,
 "nbformat_minor": 2
}
