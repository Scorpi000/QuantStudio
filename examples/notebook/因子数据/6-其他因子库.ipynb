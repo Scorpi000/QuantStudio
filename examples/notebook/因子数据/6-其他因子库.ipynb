{
 "cells": [
  {
   "cell_type": "markdown",
   "id": "490b4aaf",
   "metadata": {},
   "source": [
    "# 本地因子库"
   ]
  },
  {
   "cell_type": "markdown",
   "id": "5163bb13",
   "metadata": {},
   "source": [
    "## MongoDB\n",
    "\n",
    "继承自 WritableFactorDB, 参数集:\n",
    "* 名称: str, 默认值 \"MongoDB\"\n",
    "* 数据库类型: str, 可选 \"Mongo\"(默认值)\n",
    "* 数据库名: str, 默认值 \"Scorpion\"\n",
    "* IP地址: str, 默认值, \"127.0.0.1\"\n",
    "* 端口: int, 默认值 27017\n",
    "* 用户名: str, 默认值 \"root\"\n",
    "* 密码: str, 默认值 \"\"\n",
    "* 字符集: str, 可选 \"utf8\"(默认值), \"gbk\", \"gb2312\", \"gb18030\", \"cp936\", \"big5\"\n",
    "* 连接器: str, 可选 \"default\"(默认值), \"pymongo\".\n",
    "* 忽略字段: list(str), 默认值 [], 数据库中需要忽略不进行识别作为数据项的字段列表\n",
    "* 内部前缀: str, 默认值 \"qs_\", 识别为因子表的数据库表所必需的表名前缀"
   ]
  },
  {
   "cell_type": "markdown",
   "id": "807de132",
   "metadata": {},
   "source": [
    "## ArcticDB\n",
    "\n",
    "继承自 WritableFactorDB, 参数集:\n",
    "* 名称: str, 默认值 \"ArcticDB\"\n",
    "* 数据库名: str, 默认值 \"arctic\"\n",
    "* IP地址: str, 默认值, \"127.0.0.1\"\n",
    "* 端口: int, 默认值 27017\n",
    "* 用户名: str, 默认值 \"\"\n",
    "* 密码: str, 默认值 \"\""
   ]
  },
  {
   "cell_type": "markdown",
   "id": "74954fd1",
   "metadata": {},
   "source": [
    "## Neo4jDB\n",
    "\n",
    "QSNeo4jObject 参数集\n",
    "* 数据库名: str, 默认值 \"neo4j\"\n",
    "* IP地址: str, 默认值, \"127.0.0.1\"\n",
    "* 端口: int, 默认值 7687\n",
    "* 用户名: str, 默认值 \"neo4j\"\n",
    "* 密码: str, 默认值 \"\"\n",
    "* 连接器: str, 可选 \"default\"(默认值), \"neo4j\"\n",
    "* CSV导入地址: None 或者文件路径(默认\"file:///\"), 默认值 None\n",
    "* CSV导出地址: None 或者文件路径, 默认值 None\n",
    "* CSV分隔符: str, 默认值 \",\"\n",
    "* 清除CSV: bool, 默认值 False\n",
    "* 定期数量: int, 默认值 -1\n",
    "\n",
    "继承自 QSNeo4jObject, WritableFactorDB, 参数集:\n",
    "* 名称: str, 默认值 \"Neo4jDB\"\n",
    "* ID字段: str, 默认值 \"code\", 因子表默认的 ID 字段, 通过 getTable 创建因子表时传递给它\n",
    "* 因子表参数: dict, 默认值 {}, 通过 getTable 创建因子表时传递给它的默认参数集"
   ]
  }
 ],
 "metadata": {
  "hide_input": false,
  "kernelspec": {
   "display_name": "Python 3",
   "language": "python",
   "name": "python3"
  },
  "language_info": {
   "codemirror_mode": {
    "name": "ipython",
    "version": 3
   },
   "file_extension": ".py",
   "mimetype": "text/x-python",
   "name": "python",
   "nbconvert_exporter": "python",
   "pygments_lexer": "ipython3",
   "version": "3.7.9"
  },
  "latex_envs": {
   "LaTeX_envs_menu_present": true,
   "autoclose": false,
   "autocomplete": true,
   "bibliofile": "biblio.bib",
   "cite_by": "apalike",
   "current_citInitial": 1,
   "eqLabelWithNumbers": true,
   "eqNumInitial": 1,
   "hotkeys": {
    "equation": "Ctrl-E",
    "itemize": "Ctrl-I"
   },
   "labels_anchors": false,
   "latex_user_defs": false,
   "report_style_numbering": false,
   "user_envs_cfg": false
  },
  "toc": {
   "base_numbering": 1,
   "nav_menu": {},
   "number_sections": true,
   "sideBar": true,
   "skip_h1_title": false,
   "title_cell": "Table of Contents",
   "title_sidebar": "Contents",
   "toc_cell": false,
   "toc_position": {},
   "toc_section_display": true,
   "toc_window_display": false
  }
 },
 "nbformat": 4,
 "nbformat_minor": 5
}
