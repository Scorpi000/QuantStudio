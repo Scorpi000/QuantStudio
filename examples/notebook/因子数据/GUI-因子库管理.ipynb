{
 "cells": [
  {
   "cell_type": "code",
   "execution_count": 1,
   "metadata": {
    "ExecuteTime": {
     "end_time": "2022-11-25T05:43:30.993404Z",
     "start_time": "2022-11-25T05:43:27.280617Z"
    },
    "code_folding": []
   },
   "outputs": [],
   "source": [
    "# 全局设置\n",
    "import QuantStudio.api as QS\n",
    "from QSExt.GUI.Notebook import manageFactorDB"
   ]
  },
  {
   "cell_type": "code",
   "execution_count": 2,
   "metadata": {
    "ExecuteTime": {
     "end_time": "2022-11-25T05:43:56.566482Z",
     "start_time": "2022-11-25T05:43:56.496118Z"
    },
    "code_folding": []
   },
   "outputs": [],
   "source": [
    "# 创建因子库\n",
    "FDBs = {\n",
    "#     \"HDF5DB\": QS.FactorDB.HDF5DB(config_file=\"../config/HDF5DBConfig.json\").connect(),\n",
    "    \"HDF5DB\": QS.FactorDB.HDF5DB().connect(),\n",
    "}"
   ]
  },
  {
   "cell_type": "code",
   "execution_count": 3,
   "metadata": {
    "ExecuteTime": {
     "end_time": "2022-11-25T05:43:59.647838Z",
     "start_time": "2022-11-25T05:43:59.377107Z"
    },
    "code_folding": [],
    "scrolled": false
   },
   "outputs": [
    {
     "data": {
      "application/vnd.jupyter.widget-view+json": {
       "model_id": "40c2d02191a947bfa55982dd865a2260",
       "version_major": 2,
       "version_minor": 0
      },
      "text/plain": [
       "HBox(children=(VBox(children=(Label(value='因子库'), Dropdown(options=('HDF5DB',), value='HDF5DB'), Tree(nodes=(N…"
      ]
     },
     "metadata": {},
     "output_type": "display_data"
    }
   ],
   "source": [
    "# 因子库管理\n",
    "Dlg = manageFactorDB(fdbs=FDBs)"
   ]
  },
  {
   "cell_type": "code",
   "execution_count": null,
   "metadata": {},
   "outputs": [],
   "source": []
  }
 ],
 "metadata": {
  "hide_input": false,
  "kernelspec": {
   "display_name": "QS",
   "language": "python",
   "name": "qs"
  },
  "language_info": {
   "codemirror_mode": {
    "name": "ipython",
    "version": 3
   },
   "file_extension": ".py",
   "mimetype": "text/x-python",
   "name": "python",
   "nbconvert_exporter": "python",
   "pygments_lexer": "ipython3",
   "version": "3.10.6"
  },
  "latex_envs": {
   "LaTeX_envs_menu_present": true,
   "autoclose": true,
   "autocomplete": false,
   "bibliofile": "biblio.bib",
   "cite_by": "apalike",
   "current_citInitial": 1,
   "eqLabelWithNumbers": true,
   "eqNumInitial": 1,
   "hotkeys": {
    "equation": "Ctrl-E",
    "itemize": "Ctrl-I"
   },
   "labels_anchors": false,
   "latex_user_defs": false,
   "report_style_numbering": false,
   "user_envs_cfg": false
  },
  "toc": {
   "base_numbering": 1,
   "nav_menu": {},
   "number_sections": true,
   "sideBar": true,
   "skip_h1_title": false,
   "title_cell": "Table of Contents",
   "title_sidebar": "Contents",
   "toc_cell": false,
   "toc_position": {},
   "toc_section_display": true,
   "toc_window_display": false
  }
 },
 "nbformat": 4,
 "nbformat_minor": 2
}
