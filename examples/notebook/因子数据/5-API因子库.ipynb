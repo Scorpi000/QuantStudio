{
 "cells": [
  {
   "cell_type": "code",
   "execution_count": 1,
   "id": "31a3de7c",
   "metadata": {
    "ExecuteTime": {
     "end_time": "2022-11-02T08:53:55.210836Z",
     "start_time": "2022-11-02T08:53:50.734337Z"
    },
    "code_folding": [
     0
    ]
   },
   "outputs": [],
   "source": [
    "# 全局设置\n",
    "import os\n",
    "import datetime as dt\n",
    "\n",
    "import numpy as np\n",
    "import pandas as pd\n",
    "\n",
    "import QuantStudio.api as QS\n",
    "fd = QS.FactorDB.FactorTools\n",
    "Factorize = QS.FactorDB.Factorize"
   ]
  },
  {
   "cell_type": "markdown",
   "id": "463c46da",
   "metadata": {},
   "source": [
    "# 外部因子库"
   ]
  },
  {
   "cell_type": "markdown",
   "id": "26700790",
   "metadata": {},
   "source": [
    "## TushareDB\n",
    "\n",
    "API 地址: https://tushare.pro/\n",
    "\n",
    "继承自 FactorDB, 初始化方法 `__init__`:\n",
    "* sys_args: dict, 因子库参数集\n",
    "* config_file: None 或者 str, 因子库的配置文件地址, None 表示使用默认配置文件, 默认文件名为 \"TushareDBConfig.json\", 默认路径为参见: [配置文件](../基本框架.ipynb#QuantStudio-对象)\n",
    "\n",
    "参数集:\n",
    "* 名称: str, 默认值 \"TushareDB\"\n",
    "* Token: str, 无默认值必须指定, API Token\n",
    "\n",
    "当前 TushareDB 的库信息文件路径不能修改, 在 QuantStudio 包目录下 Resource 目录下的 TushareDBInfo.xlsx, 记录了相关配置信息"
   ]
  },
  {
   "cell_type": "code",
   "execution_count": 2,
   "id": "c503e61f",
   "metadata": {
    "ExecuteTime": {
     "end_time": "2022-11-02T08:54:01.202851Z",
     "start_time": "2022-11-02T08:54:01.095695Z"
    },
    "code_folding": []
   },
   "outputs": [
    {
     "name": "stdout",
     "output_type": "stream",
     "text": [
      "参数集 :  {'名称': 'TushareDB', 'Token': '548684efdc7b10eb3514d48dce6b04574d9b689e0765b11438a8f425'}\n"
     ]
    }
   ],
   "source": [
    "# TushareDB\n",
    "TushareDB = QS.FactorDB.TushareDB(sys_args={\"Token\": \"548684efdc7b10eb3514d48dce6b04574d9b689e0765b11438a8f425\"})\n",
    "TushareDB.connect();\n",
    "\n",
    "print(\"参数集 : \", TushareDB.Args)"
   ]
  },
  {
   "cell_type": "markdown",
   "id": "902820db",
   "metadata": {},
   "source": [
    "### 获取时点序列\n",
    "\n",
    "#### 获取交易日序列\n",
    "\n",
    "获取交易日序列 getTradeDay, 输入参数:\n",
    "* start_date: date 或者 datetime, 默认值 None, 待获取的交易日序列的起始日, None 表示最早的第一个交易日\n",
    "* end_date: date 或者 datetime, 默认值 None, 待获取的交易日序列的结束日, None 表示今天\n",
    "* exchange: str, 可选 \"SSE\"(默认值), \"SZSE\", \"SHFE\", \"DCE\", \"CZCE\", \"INE\", \"CFFEX\", 指定的交易所\n",
    "* output_type: str, 可选 \"date\"(默认值), \"datetime\", 返回的交易日数据类型"
   ]
  },
  {
   "cell_type": "code",
   "execution_count": 3,
   "id": "12f08e81",
   "metadata": {
    "ExecuteTime": {
     "end_time": "2022-11-02T08:54:04.211687Z",
     "start_time": "2022-11-02T08:54:03.788821Z"
    },
    "code_folding": [
     0
    ]
   },
   "outputs": [
    {
     "name": "stdout",
     "output_type": "stream",
     "text": [
      "[datetime.datetime(2022, 1, 4, 0, 0), datetime.datetime(2022, 1, 5, 0, 0), datetime.datetime(2022, 1, 6, 0, 0), datetime.datetime(2022, 1, 7, 0, 0), datetime.datetime(2022, 1, 10, 0, 0), datetime.datetime(2022, 1, 11, 0, 0), datetime.datetime(2022, 1, 12, 0, 0), datetime.datetime(2022, 1, 13, 0, 0), datetime.datetime(2022, 1, 14, 0, 0), datetime.datetime(2022, 1, 17, 0, 0), datetime.datetime(2022, 1, 18, 0, 0), datetime.datetime(2022, 1, 19, 0, 0), datetime.datetime(2022, 1, 20, 0, 0)]\n"
     ]
    }
   ],
   "source": [
    "# 获取交易日序列\n",
    "print(TushareDB.getTradeDay(start_date=dt.datetime(2022,1,1), end_date=dt.datetime(2022,1,20), exchange=\"SSE\", output_type=\"datetime\"))"
   ]
  },
  {
   "cell_type": "markdown",
   "id": "913fd600",
   "metadata": {},
   "source": [
    "### 获取ID序列\n",
    "\n",
    "#### 股票 ID\n",
    "\n",
    "待升级\n",
    "\n",
    "获取股票 ID 序列 getStockID, 输入参数:\n",
    "* index_id: str, 默认值 \"全体A股\". 指定的指数代码\n",
    "* date: None(默认值) 或者 datetime, 指定日, None 表示今天;\n",
    "* is_current: bool, 默认值 True. False 表示获取上市日期在指定日之前的股票, True 表示上市日期在指定日之前且当前尚未退市的股票;"
   ]
  },
  {
   "cell_type": "code",
   "execution_count": 4,
   "id": "8e5aab81",
   "metadata": {
    "ExecuteTime": {
     "end_time": "2022-11-02T08:54:07.661789Z",
     "start_time": "2022-11-02T08:54:06.312387Z"
    },
    "code_folding": [
     0
    ]
   },
   "outputs": [
    {
     "name": "stdout",
     "output_type": "stream",
     "text": [
      "['000001.SZ', '000002.SZ', '000004.SZ', '000005.SZ', '000006.SZ', '000007.SZ', '000008.SZ', '000009.SZ', '000010.SZ', '000011.SZ']\n"
     ]
    }
   ],
   "source": [
    "# 获取股票 ID 序列\n",
    "print(TushareDB.getStockID(index_id=\"全体A股\", date=None, is_current=True)[:10])"
   ]
  },
  {
   "cell_type": "markdown",
   "id": "8c4eaa84",
   "metadata": {},
   "source": [
    "#### 期货 ID\n",
    "\n",
    "待升级\n",
    "\n",
    "获取期货 ID 序列 getFutureID, 输入参数:\n",
    "* future_code: None(默认值), str 或者 tuple(str), 期货代码或者期货代码列表, None 表示所有期货代码\n",
    "* date: None(默认值) 或者 datetime, 指定日, None 表示今天\n",
    "* is_current: bool, 默认值 True. False 表示上市日在指定日之前的期货, True 表示上市日在指定日之前且尚未退市的期货\n",
    "* contract_type: str, 可选 \"月合约\"(默认值), \"连续合约\", \"所有\", 合约类型"
   ]
  },
  {
   "cell_type": "code",
   "execution_count": null,
   "id": "e3d35bc1",
   "metadata": {
    "ExecuteTime": {
     "end_time": "2022-11-02T08:54:10.848748Z",
     "start_time": "2022-11-02T08:54:09.766594Z"
    },
    "code_folding": [
     0
    ]
   },
   "outputs": [],
   "source": [
    "# 获取期货 ID 序列\n",
    "print(TushareDB.getFutureID(future_code=\"IF\", date=dt.datetime(2022,1,1), is_current=True, contract_type=\"月合约\")[:10])"
   ]
  },
  {
   "cell_type": "markdown",
   "id": "ed721fb4",
   "metadata": {},
   "source": [
    "### 因子表"
   ]
  },
  {
   "cell_type": "code",
   "execution_count": 6,
   "id": "4640b298",
   "metadata": {
    "ExecuteTime": {
     "end_time": "2022-11-02T08:54:24.611979Z",
     "start_time": "2022-11-02T08:54:24.389316Z"
    },
    "code_folding": [
     0
    ]
   },
   "outputs": [
    {
     "name": "stdout",
     "output_type": "stream",
     "text": [
      "因子表 :  ['交易日历', 'A股基本资料', '上市公司基本信息', 'A股日线行情', 'A股复权因子', 'A股周线行情', 'A股月线行情', 'A股每日指标', 'A股指数成分和权重', '指数基本信息', '指数日线行情', '大盘指数每日指标', '期货合约信息表', '期货日线行情', '每日结算参数', '仓单日报', '公募基金列表', '场内基金日线行情', '公募基金公司', '期权合约信息', '期权日线行情', 'Shibor利率', 'Shibor报价数据', 'LPR贷款基础利率', 'Libor拆借利率', 'Hibor利率']\n",
      "===============================================\n",
      "因子表 'A股日线行情' 的因子 :  ['开盘价', '最高价', '最低价', '收盘价', '昨收价', '涨跌额', '涨跌幅', '成交量(手)', '成交额(千元)', '交易日期']\n",
      "===============================================\n",
      "              最高价    收盘价\n",
      "2020-01-01    NaN    NaN\n",
      "2020-01-02  16.95  16.87\n",
      "2020-01-03  17.31  17.18\n",
      "2020-01-04    NaN    NaN\n",
      "2020-01-05    NaN    NaN\n",
      "2020-01-06  17.34  17.07\n",
      "2020-01-07  17.28  17.15\n",
      "2020-01-08  17.05  16.66\n",
      "2020-01-09  16.93  16.79\n"
     ]
    }
   ],
   "source": [
    "# TushareDB 因子表\n",
    "print(\"因子表 : \", TushareDB.TableNames)\n",
    "print(\"===============================================\")\n",
    "\n",
    "Args = {\n",
    "    \"回溯天数\": 0,\n",
    "}\n",
    "\n",
    "DTs = [dt.datetime(2020,1,1)+dt.timedelta(i) for i in range(9)]\n",
    "IDs = [\"000001.SZ\"]\n",
    "\n",
    "FT = TushareDB.getTable(\"A股日线行情\", args=Args)\n",
    "print(f\"因子表 '{FT.Name}' 的因子 : \", FT.FactorNames)\n",
    "print(\"===============================================\")\n",
    "print(FT.readData(factor_names=[\"最高价\", \"收盘价\"], ids=IDs, dts=DTs).iloc[:, :, 0])"
   ]
  },
  {
   "cell_type": "markdown",
   "id": "ea3a13ee",
   "metadata": {},
   "source": [
    "## TinySoftDB\n",
    "\n",
    "继承自 FactorDB, 初始化方法 `__init__`:\n",
    "* sys_args: dict, 因子库参数集\n",
    "* config_file: None 或者 str, 因子库的配置文件地址, None 表示使用默认配置文件, 默认文件名为 \"TinySoftDBConfig.json\", 默认路径为参见: [配置文件](../基本框架.ipynb#QuantStudio-对象)\n",
    "\n",
    "参数集:\n",
    "* 名称: str, 默认值 \"TinySoftDB\"\n",
    "* 安装目录: str, 无默认值必须指定, TinySoft 的安装目录\n",
    "* IP地址: str, 默认值 \"tsl.tinysoft.com.cn\", TinySoft API 的访问地址\n",
    "* 端口: int, 默认值 443, TinySoft API 的访问端口\n",
    "* 用户名: str, 默认值 \"\"\n",
    "* 密码: str, 默认值 \"\"\n",
    "* 库信息文件: 文件路径, 默认值 QuantStudio 包目录下 Resource 目录下的 TinySoftDBInfo.xlsx, 记录了 TinySoft 相关配置信息\n",
    "* 因子表参数: dict, 默认值 {}, getTable 时传递给因子表的参数集"
   ]
  },
  {
   "cell_type": "code",
   "execution_count": 2,
   "id": "ef257ac2",
   "metadata": {
    "ExecuteTime": {
     "end_time": "2022-02-08T06:34:45.302680Z",
     "start_time": "2022-02-08T06:34:43.276186Z"
    },
    "code_folding": [
     0
    ]
   },
   "outputs": [],
   "source": [
    "# TinySoftDB\n",
    "import QSExt.FactorDataBase.TinySoftDB\n",
    "TinySoftDB = QSExt.FactorDataBase.TinySoftDB.TinySoftDB()\n",
    "TinySoftDB.connect();"
   ]
  },
  {
   "cell_type": "markdown",
   "id": "bd6fc09c",
   "metadata": {},
   "source": [
    "### 获取时点序列\n",
    "\n",
    "#### 获取交易日序列\n",
    "\n",
    "获取交易日序列 getTradeDay, 输入参数:\n",
    "* start_date: date 或者 datetime, 默认值 None, 待获取的交易日序列的起始日, None 表示最早的第一个交易日\n",
    "* end_date: date 或者 datetime, 默认值 None, 待获取的交易日序列的结束日, None 表示今天\n",
    "* exchange: str, 可选 \"SSE\"(默认值), \"SZSE\", 指定的交易所\n",
    "* output_type: str, 可选 \"date\"(默认值), \"datetime\", 返回的交易日数据类型"
   ]
  },
  {
   "cell_type": "code",
   "execution_count": 3,
   "id": "18bc4d3c",
   "metadata": {
    "ExecuteTime": {
     "end_time": "2022-02-08T06:34:47.481360Z",
     "start_time": "2022-02-08T06:34:47.392122Z"
    },
    "code_folding": [
     0
    ]
   },
   "outputs": [
    {
     "name": "stdout",
     "output_type": "stream",
     "text": [
      "[datetime.datetime(2022, 1, 4, 0, 0), datetime.datetime(2022, 1, 5, 0, 0), datetime.datetime(2022, 1, 6, 0, 0), datetime.datetime(2022, 1, 7, 0, 0), datetime.datetime(2022, 1, 10, 0, 0), datetime.datetime(2022, 1, 11, 0, 0), datetime.datetime(2022, 1, 12, 0, 0), datetime.datetime(2022, 1, 13, 0, 0), datetime.datetime(2022, 1, 14, 0, 0), datetime.datetime(2022, 1, 17, 0, 0), datetime.datetime(2022, 1, 18, 0, 0), datetime.datetime(2022, 1, 19, 0, 0), datetime.datetime(2022, 1, 20, 0, 0)]\n"
     ]
    }
   ],
   "source": [
    "# 获取交易日序列\n",
    "print(TinySoftDB.getTradeDay(start_date=dt.datetime(2022,1,1), end_date=dt.datetime(2022,1,20), exchange=\"SSE\", output_type=\"datetime\"))"
   ]
  },
  {
   "cell_type": "markdown",
   "id": "39bbd6c3",
   "metadata": {},
   "source": [
    "### 获取ID序列\n",
    "\n",
    "#### 股票 ID\n",
    "\n",
    "待升级\n",
    "\n",
    "获取股票 ID 序列 getStockID, 输入参数:\n",
    "* index_id: str, 默认值 \"全体A股\". 指定的指数代码\n",
    "* date: None(默认值) 或者 datetime, 指定日, None 表示今天;\n",
    "* is_current: bool, 默认值 True. False 表示获取上市日期在指定日之前的股票, True 表示上市日期在指定日之前且当前尚未退市的股票;"
   ]
  },
  {
   "cell_type": "code",
   "execution_count": 4,
   "id": "5da28625",
   "metadata": {
    "ExecuteTime": {
     "end_time": "2022-02-08T06:35:51.886462Z",
     "start_time": "2022-02-08T06:35:51.198634Z"
    },
    "code_folding": [
     0
    ]
   },
   "outputs": [
    {
     "name": "stdout",
     "output_type": "stream",
     "text": [
      "['600000.SH', '600004.SH', '600006.SH', '600007.SH', '600008.SH', '600009.SH', '600010.SH', '600011.SH', '600012.SH', '600015.SH']\n"
     ]
    }
   ],
   "source": [
    "# 获取股票 ID 序列\n",
    "print(TinySoftDB.getStockID(index_id=\"全体A股\", date=None, is_current=True)[:10])"
   ]
  },
  {
   "cell_type": "markdown",
   "id": "dac6d280",
   "metadata": {},
   "source": [
    "#### 期货 ID\n",
    "\n",
    "待升级\n",
    "\n",
    "获取期货 ID 序列 getFutureID, 输入参数:\n",
    "* future_code: None(默认值), str 或者 tuple(str), 期货代码或者期货代码列表, None 表示所有期货代码\n",
    "* date: None(默认值) 或者 datetime, 指定日, None 表示今天\n",
    "* is_current: bool, 默认值 True. False 表示上市日在指定日之前的期货, True 表示上市日在指定日之前且尚未退市的期货"
   ]
  },
  {
   "cell_type": "code",
   "execution_count": 5,
   "id": "2ea0a31b",
   "metadata": {
    "ExecuteTime": {
     "end_time": "2022-02-08T06:37:09.354996Z",
     "start_time": "2022-02-08T06:37:09.272812Z"
    },
    "code_folding": [
     0
    ]
   },
   "outputs": [
    {
     "name": "stdout",
     "output_type": "stream",
     "text": [
      "['IF2201', 'IF2202', 'IF2203', 'IF2206']\n"
     ]
    }
   ],
   "source": [
    "# 获取期货 ID 序列\n",
    "print(TinySoftDB.getFutureID(future_code=\"IF\", date=dt.datetime(2022,1,1), is_current=True)[:10])"
   ]
  },
  {
   "cell_type": "markdown",
   "id": "d98ea5c0",
   "metadata": {},
   "source": [
    "### 因子表"
   ]
  },
  {
   "cell_type": "code",
   "execution_count": 3,
   "id": "520cbece",
   "metadata": {
    "ExecuteTime": {
     "end_time": "2022-02-08T06:25:20.314795Z",
     "start_time": "2022-02-08T06:25:19.988925Z"
    },
    "code_folding": [
     0
    ]
   },
   "outputs": [
    {
     "name": "stdout",
     "output_type": "stream",
     "text": [
      "因子表 :  ['交易日历', '分时和日线数据', '交易明细', '股票基本信息', '发行上市', '名称变更', '暂停、终止、恢复上市', '股本结构', '终止上市股份处理方案', '分红送股', '配股', '增发', '十大股东', '十大流通股东', '机构持股', '股东户数', '控股股东及实际控制人', '董事、监事、高管持股变动', '业绩预测', '业绩快报', '股票公告', '股票大宗交易', '融资融券明细', '特别提示-停牌', '交易公开信息', '沪深港通每日成交汇总', '沪深港通每日十大成交活跃股', '沪深港通持股明细', '合并资产负债表', '合并利润分配表', '合并现金流量表', '主要财务指标', '基金基本信息', '业绩比较基准', '基金管理人', '基金经理', '开放式基金费率', '财务指标', '净值增长率与基准比较', '净值', 'ETF 申购赎回-基本信息', '份额变动', 'ETF 申购赎回-成分股', '持股明细', '资产配置', '资产配置(扩展)', '行业配置', '指数信息', '指数成份', '国内生产总值', '工业增加值', '固定资产投资(不含农户)', '房地产开发投资与销售', '社会消费品零售总额', '居民消费价格', '工业生产者价格', '固定资产投资价格', '农产品生产价格', '民间固定资产投资', '人民币存贷款利率', '回购基本信息', '期货品种代码对照表', '期货主力信息', '期货基本信息', '期货结算参数', '期货涨跌停板幅度', '结算会员成交持仓排名', '期货仓单日报-大商所', '期货仓单日报-上期所', '期货仓单日报-郑商所', '国债期货可交割债券', '债券基本信息', '债券派息和利率', '债券发行', '主体评级', '债券评级', '标准券折算率', '可转债条款', '可转债转股价变动', '可转债转股及余额', '可转债回售结果', '可转债赎回结果']\n",
      "===============================================\n",
      "因子表 '分时和日线数据' 的因子 :  ['名称', '最新价', '开盘价', '最高价', '最低价', '成交量', '成交金额', '成交笔数', '上次价', '结算价', '前结算价', '买一价', '买二价', '买三价', '买四价', '买五价', '卖一价', '卖二价', '卖三价', '卖四价', '卖五价', '买一量', '买二量', '买三量', '买四量', '买五量', '卖一量', '卖二量', '卖四量', '卖五量', '委买', '委卖', '委比', '量比', '主买量', '主买金额', '主卖量', '主卖金额', '时点当日累计主买量', '时点当日累计主买金额', '时点当日累计主卖量', '时点当日累计主卖金额', '时点当日累计委买', '时点当日累计委卖', '前日收盘', '时点当日开盘', '时点当日最高', '时点当日最低', '时点当日累计成交量', '时点当日累计成交金额', '持仓量', '时点当日累计委比']\n",
      "===============================================\n",
      "              最高价    最新价\n",
      "2020-01-01    NaN    NaN\n",
      "2020-01-02  16.95  16.87\n",
      "2020-01-03  17.31  17.18\n",
      "2020-01-04    NaN    NaN\n",
      "2020-01-05    NaN    NaN\n",
      "2020-01-06  17.34  17.07\n",
      "2020-01-07  17.28  17.15\n",
      "2020-01-08  17.05  16.66\n",
      "2020-01-09  16.93  16.79\n"
     ]
    }
   ],
   "source": [
    "# TinySoftDB 因子表\n",
    "print(\"因子表 : \", TinySoftDB.TableNames)\n",
    "print(\"===============================================\")\n",
    "\n",
    "Args = {\n",
    "    \"周期\": 1,\n",
    "    \"周期单位\": \"d\"\n",
    "}\n",
    "\n",
    "DTs = [dt.datetime(2020,1,1)+dt.timedelta(i) for i in range(9)]\n",
    "IDs = [\"000001.SZ\"]\n",
    "\n",
    "FT = TinySoftDB.getTable(\"分时和日线数据\", args=Args)\n",
    "print(f\"因子表 '{FT.Name}' 的因子 : \", FT.FactorNames)\n",
    "print(\"===============================================\")\n",
    "print(FT.readData(factor_names=[\"最高价\", \"最新价\"], ids=IDs, dts=DTs).iloc[:, :, 0])"
   ]
  }
 ],
 "metadata": {
  "hide_input": false,
  "kernelspec": {
   "display_name": "QuantStudio",
   "language": "python",
   "name": "quantstudio"
  },
  "language_info": {
   "codemirror_mode": {
    "name": "ipython",
    "version": 3
   },
   "file_extension": ".py",
   "mimetype": "text/x-python",
   "name": "python",
   "nbconvert_exporter": "python",
   "pygments_lexer": "ipython3",
   "version": "3.8.10"
  },
  "latex_envs": {
   "LaTeX_envs_menu_present": true,
   "autoclose": false,
   "autocomplete": true,
   "bibliofile": "biblio.bib",
   "cite_by": "apalike",
   "current_citInitial": 1,
   "eqLabelWithNumbers": true,
   "eqNumInitial": 1,
   "hotkeys": {
    "equation": "Ctrl-E",
    "itemize": "Ctrl-I"
   },
   "labels_anchors": false,
   "latex_user_defs": false,
   "report_style_numbering": false,
   "user_envs_cfg": false
  },
  "toc": {
   "base_numbering": 1,
   "nav_menu": {},
   "number_sections": true,
   "sideBar": true,
   "skip_h1_title": false,
   "title_cell": "Table of Contents",
   "title_sidebar": "Contents",
   "toc_cell": false,
   "toc_position": {},
   "toc_section_display": true,
   "toc_window_display": true
  },
  "varInspector": {
   "cols": {
    "lenName": 16,
    "lenType": 16,
    "lenVar": 40
   },
   "kernels_config": {
    "python": {
     "delete_cmd_postfix": "",
     "delete_cmd_prefix": "del ",
     "library": "var_list.py",
     "varRefreshCmd": "print(var_dic_list())"
    },
    "r": {
     "delete_cmd_postfix": ") ",
     "delete_cmd_prefix": "rm(",
     "library": "var_list.r",
     "varRefreshCmd": "cat(var_dic_list()) "
    }
   },
   "types_to_exclude": [
    "module",
    "function",
    "builtin_function_or_method",
    "instance",
    "_Feature"
   ],
   "window_display": false
  }
 },
 "nbformat": 4,
 "nbformat_minor": 5
}
