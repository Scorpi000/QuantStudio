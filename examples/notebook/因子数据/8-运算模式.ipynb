{
 "cells": [
  {
   "cell_type": "code",
   "execution_count": 1,
   "id": "a7bc0be9",
   "metadata": {
    "ExecuteTime": {
     "end_time": "2022-11-09T07:20:30.390619Z",
     "start_time": "2022-11-09T07:20:28.398336Z"
    },
    "code_folding": []
   },
   "outputs": [],
   "source": [
    "# 全局设置\n",
    "import os\n",
    "import datetime as dt\n",
    "import time\n",
    "\n",
    "import numpy as np\n",
    "import pandas as pd\n",
    "\n",
    "import QuantStudio.api as QS\n",
    "fd = QS.FactorDB.FactorTools\n",
    "Factorize = QS.FactorDB.Factorize"
   ]
  },
  {
   "cell_type": "code",
   "execution_count": 3,
   "id": "abf6f8bc",
   "metadata": {
    "ExecuteTime": {
     "end_time": "2022-11-09T07:20:36.634064Z",
     "start_time": "2022-11-09T07:20:36.576605Z"
    },
    "code_folding": []
   },
   "outputs": [],
   "source": [
    "# 示例因子库\n",
    "# FDB = QS.FactorDB.HDF5DB(sys_args={\"主目录\": \"../Data/HDF5\"}).connect();\n",
    "FDB = QS.FactorDB.HDF5DB(config_file=\"../config/HDF5DBConfig.json\").connect();"
   ]
  },
  {
   "cell_type": "code",
   "execution_count": 4,
   "id": "0aba1be4",
   "metadata": {
    "ExecuteTime": {
     "end_time": "2022-11-09T07:20:39.230695Z",
     "start_time": "2022-11-09T07:20:38.954378Z"
    },
    "code_folding": [
     0
    ]
   },
   "outputs": [
    {
     "name": "stdout",
     "output_type": "stream",
     "text": [
      "因子 :  ['close', 'high', 'low', 'mid', 'open']\n",
      "时点 : 2000-01-04 00:00:00 ~ 2019-04-30 00:00:00, 共 4681 个\n",
      "ID : 000001.SZ ~ T00018.SH, 共 3710 个\n"
     ]
    }
   ],
   "source": [
    "# 示例因子表\n",
    "CFT = QS.FactorDB.CustomFT(name=\"示例因子表\")\n",
    "\n",
    "FT = FDB.getTable(table_name=\"stock_cn_day_bar_nafilled\")\n",
    "High, Low = FT.getFactor(\"high\"), FT.getFactor(\"low\")\n",
    "Mid = Factorize((High + Low) / 2, factor_name=\"mid\")\n",
    "\n",
    "CFT.addFactors(factor_list=[Mid, High, Low])\n",
    "CFT.addFactors(factor_table=FT, factor_names=[\"open\", \"close\"])\n",
    "\n",
    "DTs = FT.getDateTime()\n",
    "CFT.setDateTime(dts=DTs)\n",
    "\n",
    "IDs = FT.getID()\n",
    "CFT.setID(ids=IDs)\n",
    "\n",
    "print(\"因子 : \", CFT.FactorNames)\n",
    "print(f\"时点 : {DTs[0]} ~ {DTs[-1]}, 共 {len(DTs)} 个\")\n",
    "print(f\"ID : {IDs[0]} ~ {IDs[-1]}, 共 {len(IDs)} 个\")"
   ]
  },
  {
   "cell_type": "markdown",
   "id": "71d0e532",
   "metadata": {},
   "source": [
    "# 随机访问模式\n",
    "\n",
    "参见: [数据读取](./数据读写.ipynb#读取数据)\n",
    "\n",
    "串行递归方式计算因子图，返回因子数据。"
   ]
  },
  {
   "cell_type": "code",
   "execution_count": 5,
   "id": "6849c05c",
   "metadata": {
    "ExecuteTime": {
     "end_time": "2022-11-09T07:20:41.722283Z",
     "start_time": "2022-11-09T07:20:41.543770Z"
    },
    "code_folding": []
   },
   "outputs": [
    {
     "name": "stdout",
     "output_type": "stream",
     "text": [
      "<class 'QuantStudio.Tools.QSObjects.Panel'>\n",
      "Dimensions: 2 (items) x 6 (major_axis) x 3 (minor_axis)\n",
      "Items axis: close to mid\n",
      "Major_axis axis: 2018-11-15 00:00:00 to 2018-11-22 00:00:00\n",
      "Minor_axis axis: 000001.SZ to 000003.SZ\n"
     ]
    }
   ],
   "source": [
    "# 随机访问模式\n",
    "FT = FDB.getTable(table_name=\"stock_cn_day_bar_nafilled\")\n",
    "DTs = FT.getDateTime(start_dt=dt.datetime(2018,11,15), end_dt=dt.datetime(2018,11,22))\n",
    "IDs = [\"000001.SZ\", \"000002.SZ\", \"000003.SZ\"]\n",
    "\n",
    "Data = CFT.readData(factor_names=[\"close\", \"mid\"], ids=IDs, dts=DTs)\n",
    "print(Data)"
   ]
  },
  {
   "cell_type": "markdown",
   "id": "e15096bb",
   "metadata": {},
   "source": [
    "# 时序遍历模式\n",
    "\n",
    "![时序遍历模式](../images/遍历模式.png)\n",
    "\n",
    "遍历模式的相关参数集:\n",
    "* 缓冲模式: str, 可选 \"因子\"(默认值), \"ID\"\n",
    "* 最大缓冲因子数: int, 默认值 60, 当缓冲模式为 \"因子\" 时生效\n",
    "* 最大缓冲ID数: int, 默认值 10000, 当缓冲模式为 \"ID\" 时生效\n",
    "* 向前缓冲时点数: int, 默认值 600,\n",
    "* 向后缓冲时点数: int, 默认值 1,\n",
    "* 缓冲区大小: int, 默认值 300, 单位 MB\n",
    "* 遍历时点: list(datetime.datetime), 默认值 []\n",
    "* 遍历ID: list(str), 默认值 []\n",
    "\n",
    "start(dts, ids=None, **kwargs)\n",
    "\n",
    "启动遍历模式:\t\n",
    "* dts: list(datetime.datetime), 待遍历的时点序列\n",
    "* ids: list(str), 遍历过程中会使用到的 ID 序列, 如果为 None 表示因子表的 ID 序列\n",
    "* 返回: int, ErrorCode\n",
    "\n",
    "move(idt, **kwargs)\n",
    "\n",
    "遍历运行至某个时点时调用:\n",
    "* idt: datetime.datetime, 遍历中的某个时点\n",
    "* 返回: int, ErrorCode\n",
    "\n",
    "end()\n",
    "\n",
    "结束遍历模式\n",
    "* 返回: int, ErrorCode"
   ]
  },
  {
   "cell_type": "code",
   "execution_count": 6,
   "id": "65443941",
   "metadata": {
    "ExecuteTime": {
     "end_time": "2022-11-09T07:21:28.069440Z",
     "start_time": "2022-11-09T07:20:45.914795Z"
    },
    "code_folding": [
     0
    ],
    "scrolled": false
   },
   "outputs": [
    {
     "name": "stdout",
     "output_type": "stream",
     "text": [
      "时序遍历模式运行时间 :  42.12831925000137\n"
     ]
    }
   ],
   "source": [
    "# 时序遍历模式\n",
    "DTs = CFT.getDateTime()\n",
    "IDs = CFT.getID()\n",
    "\n",
    "CFT.Args[\"遍历模式\"][\"向前缓冲时点数\"] = 60\n",
    "CFT.Args[\"遍历模式\"][\"向后缓冲时点数\"] = 0\n",
    "\n",
    "TestDTs = DTs[:480]\n",
    "\n",
    "StartT = time.perf_counter()\n",
    "for i, iDT in enumerate(TestDTs):\n",
    "    iData = CFT.readData(factor_names=CFT.FactorNames, ids=IDs, dts=[iDT])\n",
    "print(\"随机访问模式运行时间 : \", time.perf_counter() - StartT)\n",
    "\n",
    "StartT = time.perf_counter()\n",
    "\n",
    "with CFT.start(dts=TestDTs) as CFT:\n",
    "    for i, iDT in enumerate(TestDTs):\n",
    "        iData = CFT.readData(factor_names=CFT.FactorNames, ids=IDs, dts=[iDT])\n",
    "\n",
    "# CFT.start(dts=TestDTs)\n",
    "# for i, iDT in enumerate(TestDTs):\n",
    "#     CFT.move(iDT)\n",
    "#     iData = CFT.readData(factor_names=CFT.FactorNames, ids=IDs, dts=[iDT])\n",
    "# CFT.end()\n",
    "\n",
    "print(\"时序遍历模式运行时间 : \", time.perf_counter() - StartT)"
   ]
  },
  {
   "cell_type": "markdown",
   "id": "e0d13db4",
   "metadata": {},
   "source": [
    "# 批量运算模式\n",
    "\n",
    "write2FDB(factor_names, ids, dts, factor_db, table_name, if_exists=\"update\", subprocess_num=cpu_count()-1, dt_ruler=None, section_ids=None, specific_target={}, **kwargs)\n",
    "\n",
    "将因子表中因子数据写入因子库中:\t\n",
    "* factor_names: list(str), 因子名列表\n",
    "* ids: list(str), ID 序列\n",
    "* dts: list(datetime.datetime), 时点序列\n",
    "* factor_db: WritableFactorDB, 支持写入操作的因子库对象\n",
    "* table_name: str, 数据写入的表名\n",
    "* if_exists: str, 默认值 \"update\", 参见 [因子库对象 writeData 方法](./数据读写.ipynb#数据写入)\n",
    "* subprocess_num: int, 子进程数, 数据计算和写入时开启的最大子进程个数\n",
    "* dt_ruler: list(datetime.datetime), 时间标尺, 在进行回溯计算时所依赖的时点序列, 如果为 None 则以 dts 作为时间标尺\n",
    "* section_ids: list(str) 或者 None(默认值), 截面 ID 序列, 如果为 None 表示其等于参数 ids\n",
    "* specific_target: dict, 默认值 {}, 特别指定的目标写入位置\n",
    "* kwargs:\n",
    "    * cache_dir: 计算过程中缓存文件存放的目录, 默认调用 tempfile.TemporaryDirectory() 创建临时目录\n",
    "\n",
    "TODO:\n",
    "* 仿照时序遍历模式实现, 进入模式后 readData 起效"
   ]
  },
  {
   "cell_type": "code",
   "execution_count": 7,
   "id": "8db9b01f",
   "metadata": {
    "ExecuteTime": {
     "end_time": "2022-11-03T04:26:27.673984Z",
     "start_time": "2022-11-03T04:25:40.822231Z"
    },
    "code_folding": [
     0
    ]
   },
   "outputs": [
    {
     "name": "stdout",
     "output_type": "stream",
     "text": [
      "==========因子运算==========\n",
      "1. 原始数据准备\n",
      "\n"
     ]
    },
    {
     "name": "stderr",
     "output_type": "stream",
     "text": [
      "100% (1 of 1) |##########################| Elapsed Time: 0:00:00 Time:  0:00:00\n"
     ]
    },
    {
     "name": "stdout",
     "output_type": "stream",
     "text": [
      "耗时 : 8.66\n",
      "2. 因子数据计算\n",
      "\n"
     ]
    },
    {
     "name": "stderr",
     "output_type": "stream",
     "text": [
      "100% (15 of 15) |########################| Elapsed Time: 0:00:13 Time:  0:00:13\n"
     ]
    },
    {
     "name": "stdout",
     "output_type": "stream",
     "text": [
      "耗时 : 37.83\n",
      "3. 清理缓存\n",
      "\n",
      "耗时 : 0.30\n",
      "总耗时 : 46.79\n",
      "============================\n",
      "['index_cn_day_bar', 'stock_cn_day_bar_adj_backward_nafilled', 'stock_cn_day_bar_nafilled', 'stock_cn_factor_barra', 'stock_cn_factor_barra_descriptor', 'stock_cn_factor_momentum', 'stock_cn_factor_technical', 'stock_cn_index_component', 'stock_cn_industry', 'stock_cn_info', 'stock_cn_multi_factor_classic', 'test_table']\n",
      "['close', 'high', 'low', 'mid', 'open']\n"
     ]
    }
   ],
   "source": [
    "# 批量运算模式\n",
    "\n",
    "SectionIDs = None\n",
    "DTRuler = CFT.getDateTime()\n",
    "TargetTable = \"test_table\"\n",
    "\n",
    "CFT.write2FDB(factor_names=CFT.FactorNames, \n",
    "              ids=CFT.getID(), \n",
    "              dts=DTRuler[20:], \n",
    "              factor_db=FDB, \n",
    "              table_name=TargetTable, \n",
    "              if_exists=\"update\", \n",
    "              subprocess_num=3, \n",
    "              dt_ruler=DTRuler, \n",
    "              section_ids=SectionIDs,\n",
    "              specific_target={})\n",
    "\n",
    "print(FDB.TableNames)\n",
    "print(FDB.getTable(TargetTable).FactorNames)"
   ]
  },
  {
   "cell_type": "code",
   "execution_count": 8,
   "id": "ec81492e",
   "metadata": {
    "ExecuteTime": {
     "end_time": "2022-11-03T04:34:54.618387Z",
     "start_time": "2022-11-03T04:34:54.413841Z"
    },
    "code_folding": [
     0
    ]
   },
   "outputs": [],
   "source": [
    "# 清除数据\n",
    "FDB.deleteTable(TargetTable);"
   ]
  },
  {
   "cell_type": "code",
   "execution_count": null,
   "id": "ea7026fc",
   "metadata": {},
   "outputs": [],
   "source": []
  }
 ],
 "metadata": {
  "hide_input": false,
  "kernelspec": {
   "display_name": "QS",
   "language": "python",
   "name": "qs"
  },
  "language_info": {
   "codemirror_mode": {
    "name": "ipython",
    "version": 3
   },
   "file_extension": ".py",
   "mimetype": "text/x-python",
   "name": "python",
   "nbconvert_exporter": "python",
   "pygments_lexer": "ipython3",
   "version": "3.8.10"
  },
  "latex_envs": {
   "LaTeX_envs_menu_present": true,
   "autoclose": false,
   "autocomplete": true,
   "bibliofile": "biblio.bib",
   "cite_by": "apalike",
   "current_citInitial": 1,
   "eqLabelWithNumbers": true,
   "eqNumInitial": 1,
   "hotkeys": {
    "equation": "Ctrl-E",
    "itemize": "Ctrl-I"
   },
   "labels_anchors": false,
   "latex_user_defs": false,
   "report_style_numbering": false,
   "user_envs_cfg": false
  },
  "toc": {
   "base_numbering": 1,
   "nav_menu": {},
   "number_sections": true,
   "sideBar": true,
   "skip_h1_title": false,
   "title_cell": "Table of Contents",
   "title_sidebar": "Contents",
   "toc_cell": false,
   "toc_position": {
    "height": "calc(100% - 180px)",
    "left": "10px",
    "top": "150px",
    "width": "256px"
   },
   "toc_section_display": true,
   "toc_window_display": true
  },
  "varInspector": {
   "cols": {
    "lenName": 16,
    "lenType": 16,
    "lenVar": 40
   },
   "kernels_config": {
    "python": {
     "delete_cmd_postfix": "",
     "delete_cmd_prefix": "del ",
     "library": "var_list.py",
     "varRefreshCmd": "print(var_dic_list())"
    },
    "r": {
     "delete_cmd_postfix": ") ",
     "delete_cmd_prefix": "rm(",
     "library": "var_list.r",
     "varRefreshCmd": "cat(var_dic_list()) "
    }
   },
   "types_to_exclude": [
    "module",
    "function",
    "builtin_function_or_method",
    "instance",
    "_Feature"
   ],
   "window_display": false
  }
 },
 "nbformat": 4,
 "nbformat_minor": 5
}
