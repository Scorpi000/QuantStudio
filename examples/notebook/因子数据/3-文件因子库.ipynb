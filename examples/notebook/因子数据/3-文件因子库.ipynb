{
 "cells": [
  {
   "cell_type": "code",
   "execution_count": 1,
   "id": "5b28e3a5",
   "metadata": {
    "ExecuteTime": {
     "end_time": "2022-11-03T03:34:01.136650Z",
     "start_time": "2022-11-03T03:33:51.829327Z"
    },
    "code_folding": [
     0
    ]
   },
   "outputs": [],
   "source": [
    "# 全局设置\n",
    "import os\n",
    "import datetime as dt\n",
    "\n",
    "import numpy as np\n",
    "import pandas as pd\n",
    "\n",
    "import QuantStudio.api as QS\n",
    "fd = QS.FactorDB.FactorTools\n",
    "Factorize = QS.FactorDB.Factorize"
   ]
  },
  {
   "cell_type": "markdown",
   "id": "4005a9a0",
   "metadata": {},
   "source": [
    "# 本地因子库"
   ]
  },
  {
   "cell_type": "markdown",
   "id": "f10dde12",
   "metadata": {},
   "source": [
    "## HDF5DB\n",
    "\n",
    "继承自 WritableFactorDB, 初始化方法 `__init__`:\n",
    "* sys_args: dict, 因子库参数集\n",
    "* config_file: None 或者 str, 因子库的配置文件地址, None 表示使用默认配置文件, 默认文件名为 \"HDF5DBConfig.json\", 默认路径为参见: [配置文件](../基本框架.ipynb#QuantStudio-对象)\n",
    "\n",
    "参数集:\n",
    "* 名称: str, 默认值 \"HDF5DB\"\n",
    "* 主目录: str, 无默认值必须指定, 存放数据的主目录\n",
    "* 锁目录: str, 存放锁文件的目录, 默认和主目录相同\n",
    "* 文件打开重试次数: float(可取 inf), 打开数据文件错误时的重试次数\n",
    "\n",
    "![HDF5 因子库](../images/HDF5因子库.png)\n",
    "\n",
    "主目录下的每个文件夹表示一张因子表, 每个文件夹下的扩展名为 hdf5 的文件存储了一个因子的数据。每个因子数据的 [HDF5 文件](https://www.hdfgroup.org/) 的 root group 下有三个 dataset:\n",
    "* ID: 存储因子的 ID 序列数据, shape=(None,), dtype=String, 编码为 utf-8。\n",
    "* DateTime: 存储因子的时点序列数据, shape=(None,), dtype=float, 时点转换成 timestamp 存储。\n",
    "* Data: 存储因子数据, shape=(None, None), 行数等于 DateTime 的长度, 列数等于 ID 的长度。double 类型的因子数据存储为 float64 类型，string 类型的因子数据存储为 String 类型(编码为 utf-8)，object 类型的因子数据存储为 vlen_dtype(np.uint8) 类型。\n",
    "\n",
    "因子数据 HDF5 文件 root group 的 attribute 里存储了因子的元信息。因子表的元信息存储在表目录下的 `_TableInfo.h5` 文件(没有该文件说明还未写入过元信息)中。\n",
    "\n",
    "锁目录下的 \"LockFile\" 文件为库锁，修改因子库、因子表以及因子相关信息（比如创建、重命名、删除等操作）时需要获取库锁。锁目录下每个文件夹代表一张因子表，每个文件夹里的 \"LockFile\" 文件为表锁，读写因子数据时需要获取表锁。"
   ]
  },
  {
   "cell_type": "code",
   "execution_count": 2,
   "id": "e12b3863",
   "metadata": {
    "ExecuteTime": {
     "end_time": "2022-11-03T03:34:53.580251Z",
     "start_time": "2022-11-03T03:34:53.541145Z"
    },
    "code_folding": []
   },
   "outputs": [
    {
     "name": "stdout",
     "output_type": "stream",
     "text": [
      "参数集 :  {'名称': 'Demo库', '主目录': '../Data/HDF5', '锁目录': '', '文件打开重试次数': inf}\n"
     ]
    }
   ],
   "source": [
    "# HDF5DB\n",
    "# HDF5DB = QS.FactorDB.HDF5DB(sys_args={\"主目录\": \"../Data/HDF5\"}).connect()\n",
    "HDF5DB = QS.FactorDB.HDF5DB(config_file=\"../config/HDF5DBConfig.json\").connect()\n",
    "\n",
    "print(\"参数集 : \", HDF5DB.Args)"
   ]
  },
  {
   "cell_type": "markdown",
   "id": "51225737",
   "metadata": {},
   "source": [
    "### 因子表\n",
    "\n",
    "因子表参数集:\n",
    "* 回溯天数: float(可取 inf), 默认值 0, 缺失填充回溯的天数\n",
    "* 只起始日回溯: bool, 默认值 False, 如果为 True, 表示只对提取数据的第一个时点进行缺失填充, 之后的时点不填充\n",
    "* 只回溯非目标日: bool, 默认值 False, 如果为 True, 表示只用不在提取时点序列中的数据进行缺失填充\n",
    "* 只回溯时点: bool, 默认值 False, 如果为 True, 表示所有因子统一沿着时点字段进行回溯填充, 不单独填充"
   ]
  },
  {
   "cell_type": "code",
   "execution_count": 3,
   "id": "630362e8",
   "metadata": {
    "ExecuteTime": {
     "end_time": "2022-11-02T08:17:29.166700Z",
     "start_time": "2022-11-02T08:17:29.097698Z"
    },
    "code_folding": []
   },
   "outputs": [
    {
     "name": "stdout",
     "output_type": "stream",
     "text": [
      "因子表 :  ['stock_cn_day_bar_nafilled', 'stock_cn_index_component']\n",
      "===============================================\n",
      "因子表 'stock_cn_day_bar_nafilled' 的因子 :  ['close', 'open']\n",
      "===============================================\n",
      "参数 : \n",
      "{'回溯天数': 4, '只起始日回溯': False, '只回溯非目标日': False, '只回溯时点': False}\n",
      "数据 : \n",
      "            open  close\n",
      "2019-01-01  9.31   9.38\n",
      "2019-01-02  9.39   9.19\n",
      "2019-01-03  9.18   9.28\n",
      "2019-01-04  9.24   9.75\n",
      "2019-01-05  9.24   9.75\n",
      "2019-01-06  9.24   9.75\n",
      "2019-01-07  9.84   9.74\n",
      "2019-01-08  9.73   9.66\n",
      "2019-01-09  9.74   9.94\n"
     ]
    }
   ],
   "source": [
    "# HDF5DB 因子表\n",
    "print(\"因子表 : \", HDF5DB.TableNames)\n",
    "print(\"===============================================\")\n",
    "\n",
    "Args = {\n",
    "    \"回溯天数\": 4,\n",
    "    \"只起始日回溯\": False,\n",
    "    \"只回溯非目标日\": False,\n",
    "    \"只回溯时点\": False,\n",
    "}\n",
    "\n",
    "DTs = [dt.datetime(2019,1,1)+dt.timedelta(i) for i in range(9)]\n",
    "IDs = [\"000001.SZ\"]\n",
    "\n",
    "FT = HDF5DB.getTable(\"stock_cn_day_bar_nafilled\", args=Args)\n",
    "print(f\"因子表 '{FT.Name}' 的因子 : \", FT.FactorNames)\n",
    "print(\"===============================================\")\n",
    "print(\"参数 : \")\n",
    "print(Args)\n",
    "print(\"数据 : \")\n",
    "print(FT.readData(factor_names=[\"open\", \"close\"], ids=IDs, dts=DTs).iloc[:, :, 0])"
   ]
  },
  {
   "cell_type": "markdown",
   "id": "513edcbb",
   "metadata": {},
   "source": [
    "## ZarrDB\n",
    "\n",
    "继承自 WritableFactorDB, 初始化方法 `__init__`:\n",
    "* sys_args: dict, 因子库参数集\n",
    "* config_file: None 或者 str, 因子库的配置文件地址, None 表示使用默认配置文件, 默认文件名为 \"ZarrDBConfig.json\", 默认路径为参见: [配置文件](../基本框架.ipynb#QuantStudio-对象)\n",
    "\n",
    "参数集:\n",
    "* 名称: str, 默认值 \"ZarrDB\"\n",
    "* 主目录: str, 无默认值必须指定, 存放数据的主目录\n",
    "\n",
    "![Zarr 因子库](../images/Zarr因子库.png)\n",
    "\n",
    "主目录下的每个 [zarr 文件](https://zarr.readthedocs.io/en/stable/) 表示一张因子表, 每个文件的 root group 下的 group 代表一个因子，每个因子 group 下有三个 dataset:\n",
    "* ID: 存储因子的 ID 序列数据\n",
    "* DateTime: 存储因子的时点序列数据\n",
    "* Data: 存储因子数据, 行数等于 DateTime 的长度, 列数等于 ID 的长度。\n",
    "\n",
    "因子 group 的 attribute 里存储了因子的元信息。因子表的元信息存储在 zarr 文件 root group 的 attribute 中。\n",
    "\n",
    "目前的实现下数据主目录和锁目录没有分离，主目录下的 \"LockFile\" 文件为库锁，没有表锁，所有操作均需获取库锁。"
   ]
  },
  {
   "cell_type": "code",
   "execution_count": 21,
   "id": "fcb633dd",
   "metadata": {
    "ExecuteTime": {
     "end_time": "2022-02-08T07:08:29.184360Z",
     "start_time": "2022-02-08T07:08:17.745933Z"
    },
    "code_folding": [
     0
    ]
   },
   "outputs": [],
   "source": [
    "# # 生成Demo数据\n",
    "# import QuantStudio.FactorDataBase.ZarrDB\n",
    "# TDB = QuantStudio.FactorDataBase.ZarrDB.ZarrDB(sys_args={\"主目录\": r\"..\\Data\\Zarr\"})\n",
    "# TDB.connect();\n",
    "\n",
    "# SDB = QS.FactorDB.HDF5DB(sys_args={\"主目录\": r\"..\\Data\\HDF5\"})\n",
    "# SDB.connect();\n",
    "\n",
    "# # 生成Demo数据：stock_cn_quote_adj_no_nafilled\n",
    "# FT = SDB.getTable(\"stock_cn_quote_adj_no_nafilled\")\n",
    "# IDs = FT.getID()[:50]\n",
    "# DTs = FT.getDateTime()[-120:]\n",
    "# SData = FT.readData(factor_names=FT.FactorNames, ids=IDs, dts=DTs)\n",
    "# TDB.writeData(data=SData, table_name=\"stock_cn_quote_adj_no_nafilled\", if_exists=\"update\")\n",
    "\n",
    "# # 生成Demo数据：stock_cn_index_component\n",
    "# FT = SDB.getTable(\"stock_cn_index_component\")\n",
    "# IDs = FT.getID()\n",
    "# DTs = FT.getDateTime()[-50:]\n",
    "# SData = FT.readData(factor_names=FT.FactorNames, ids=IDs, dts=DTs)\n",
    "# TDB.writeData(data=SData, table_name=\"stock_cn_index_component\", if_exists=\"update\")\n",
    "\n",
    "# # 删除多余的表\n",
    "# for iTableName in TDB.TableNames:\n",
    "#     if iTableName not in ['stock_cn_index_component', 'stock_cn_quote_adj_no_nafilled']:\n",
    "#         TDB.deleteTable(iTableName)"
   ]
  },
  {
   "cell_type": "code",
   "execution_count": 4,
   "id": "958b611b",
   "metadata": {
    "ExecuteTime": {
     "end_time": "2022-11-02T08:17:32.859614Z",
     "start_time": "2022-11-02T08:17:32.783577Z"
    },
    "code_folding": []
   },
   "outputs": [
    {
     "name": "stdout",
     "output_type": "stream",
     "text": [
      "参数集 :  {'名称': 'ZarrDB', '主目录': '../Data/Zarr'}\n"
     ]
    }
   ],
   "source": [
    "# ZarrDB\n",
    "import QSExt.FactorDataBase.ZarrDB\n",
    "ZarrDB = QSExt.FactorDataBase.ZarrDB.ZarrDB(sys_args={\"主目录\": \"../Data/Zarr\"})\n",
    "ZarrDB.connect();\n",
    "\n",
    "print(\"参数集 : \", ZarrDB.Args)"
   ]
  },
  {
   "cell_type": "markdown",
   "id": "a022770f",
   "metadata": {},
   "source": [
    "### 因子表"
   ]
  },
  {
   "cell_type": "code",
   "execution_count": 5,
   "id": "a61e3ee1",
   "metadata": {
    "ExecuteTime": {
     "end_time": "2022-11-02T08:17:50.003651Z",
     "start_time": "2022-11-02T08:17:49.955516Z"
    },
    "code_folding": []
   },
   "outputs": [
    {
     "name": "stdout",
     "output_type": "stream",
     "text": [
      "因子表 :  ['stock_cn_day_bar_adj_no_nafilled', 'stock_cn_index_component']\n",
      "===============================================\n",
      "因子表 'stock_cn_day_bar_adj_no_nafilled' 的因子 :  ['amount', 'chg', 'close', 'high', 'if_trading', 'low', 'negotiable_market_cap', 'open', 'pre_close', 'total_market_cap', 'turnover_rate', 'volume']\n",
      "===============================================\n",
      "             high  close\n",
      "2019-01-01    NaN    NaN\n",
      "2019-01-02   9.42   9.19\n",
      "2019-01-03   9.33   9.28\n",
      "2019-01-04   9.82   9.75\n",
      "2019-01-05    NaN    NaN\n",
      "2019-01-06    NaN    NaN\n",
      "2019-01-07   9.85   9.74\n",
      "2019-01-08   9.74   9.66\n",
      "2019-01-09  10.08   9.94\n"
     ]
    }
   ],
   "source": [
    "# ZarrDB 因子表\n",
    "print(\"因子表 : \", ZarrDB.TableNames)\n",
    "print(\"===============================================\")\n",
    "\n",
    "Args = {}\n",
    "\n",
    "DTs = [dt.datetime(2019,1,1)+dt.timedelta(i) for i in range(9)]\n",
    "IDs = [\"000001.SZ\"]\n",
    "\n",
    "FT = ZarrDB.getTable(\"stock_cn_day_bar_adj_no_nafilled\", args=Args)\n",
    "print(f\"因子表 '{FT.Name}' 的因子 : \", FT.FactorNames)\n",
    "print(\"===============================================\")\n",
    "print(FT.readData(factor_names=[\"high\", \"close\"], ids=IDs, dts=DTs).iloc[:, :, 0])"
   ]
  },
  {
   "cell_type": "markdown",
   "id": "3598edc3",
   "metadata": {},
   "source": [
    "## CSVDB(TODO)\n",
    "\n",
    "继承自 WritableFactorDB, 初始化方法 `__init__`:\n",
    "* sys_args: dict, 因子库参数集\n",
    "* config_file: None 或者 str, 因子库的配置文件地址, None 表示使用默认配置文件, 默认文件名为 \"CSVDBConfig.json\", 默认路径为参见: [配置文件](../基本框架.ipynb#QuantStudio-对象)\n",
    "\n",
    "参数集:\n",
    "* 名称: str, 默认值 \"CSVDB\"\n",
    "* 主目录: str, 无默认值必须指定, 存放数据的主目录\n",
    "* 字符编码: str, 默认值 \"utf-8\", csv 文件的编码格式\n",
    "\n",
    "![CSV 因子库](../images/CSV因子库.png)\n",
    "\n",
    "主目录下的每个文件夹表示一张因子表, 每个文件夹下的 csv 文件存储了一个因子的数据。每个 csv 文件的第一行第一列记录了因子的 DataType(TODO)，第一行表示因子的 ID 序列，第一列表示因子的时点序列，其余为 Data。\n",
    "\n",
    "目前的实现下数据主目录和锁目录没有分离，主目录下的 \"LockFile\" 文件为库锁，修改因子库、因子表以及因子相关信息（比如创建、重命名、删除等操作）时需要获取库锁。主目录下每个因子表文件夹里的 \"LockFile\" 文件为表锁，读写因子数据时需要获取表锁。"
   ]
  },
  {
   "cell_type": "code",
   "execution_count": 2,
   "id": "cc73ff1a",
   "metadata": {
    "ExecuteTime": {
     "end_time": "2022-02-08T07:18:17.702108Z",
     "start_time": "2022-02-08T07:18:15.548359Z"
    },
    "code_folding": [
     0
    ]
   },
   "outputs": [],
   "source": [
    "# # 生成Demo数据\n",
    "# import QuantStudio.FactorDataBase.CSVDB\n",
    "# TDB = QuantStudio.FactorDataBase.CSVDB.CSVDB(sys_args={\"主目录\": r\"..\\Data\\CSV\"})\n",
    "# TDB.connect();\n",
    "\n",
    "# SDB = QS.FactorDB.HDF5DB(sys_args={\"主目录\": r\"..\\Data\\HDF5\"})\n",
    "# SDB.connect();\n",
    "\n",
    "# # 生成Demo数据：stock_cn_quote_adj_no_nafilled\n",
    "# FT = SDB.getTable(\"stock_cn_quote_adj_no_nafilled\")\n",
    "# IDs = FT.getID()[:50]\n",
    "# DTs = FT.getDateTime()[-120:]\n",
    "# SData = FT.readData(factor_names=FT.FactorNames, ids=IDs, dts=DTs)\n",
    "# TDB.writeData(data=SData, table_name=\"stock_cn_quote_adj_no_nafilled\", if_exists=\"update\")\n",
    "\n",
    "# # 生成Demo数据：stock_cn_index_component\n",
    "# FT = SDB.getTable(\"stock_cn_index_component\")\n",
    "# IDs = FT.getID()\n",
    "# DTs = FT.getDateTime()[-50:]\n",
    "# SData = FT.readData(factor_names=FT.FactorNames, ids=IDs, dts=DTs)\n",
    "# TDB.writeData(data=SData, table_name=\"stock_cn_index_component\", if_exists=\"update\")\n",
    "\n",
    "# # 删除多余的表\n",
    "# for iTableName in TDB.TableNames:\n",
    "#     if iTableName not in ['stock_cn_index_component', 'stock_cn_quote_adj_no_nafilled']:\n",
    "#         TDB.deleteTable(iTableName)"
   ]
  },
  {
   "cell_type": "code",
   "execution_count": 2,
   "id": "ef70dfdf",
   "metadata": {
    "ExecuteTime": {
     "end_time": "2022-11-02T08:38:24.432595Z",
     "start_time": "2022-11-02T08:38:24.405224Z"
    },
    "code_folding": []
   },
   "outputs": [
    {
     "name": "stdout",
     "output_type": "stream",
     "text": [
      "参数集 :  {'名称': 'CSVDB', '主目录': '../Data/CSV', '字符编码': 'utf-8'}\n"
     ]
    }
   ],
   "source": [
    "# CSVDB\n",
    "import QSExt.FactorDataBase.CSVDB\n",
    "CSVDB = QSExt.FactorDataBase.CSVDB.CSVDB(sys_args={\"主目录\": \"../Data/CSV\"})\n",
    "CSVDB.connect();\n",
    "\n",
    "print(\"参数集 : \", CSVDB.Args)"
   ]
  },
  {
   "cell_type": "markdown",
   "id": "af5deb9a",
   "metadata": {},
   "source": [
    "### 因子表"
   ]
  },
  {
   "cell_type": "code",
   "execution_count": 3,
   "id": "3d6564cb",
   "metadata": {
    "ExecuteTime": {
     "end_time": "2022-11-02T08:38:31.955926Z",
     "start_time": "2022-11-02T08:38:31.894735Z"
    },
    "code_folding": []
   },
   "outputs": [
    {
     "name": "stdout",
     "output_type": "stream",
     "text": [
      "因子表 :  ['stock_cn_day_bar_adj_no_nafilled', 'stock_cn_index_component']\n",
      "===============================================\n",
      "因子表 'stock_cn_day_bar_adj_no_nafilled' 的因子 :  ['amount', 'chg', 'close', 'high', 'if_trading', 'low', 'negotiable_market_cap', 'open', 'pre_close', 'total_market_cap', 'turnover_rate', 'volume']\n",
      "===============================================\n",
      "             high  close\n",
      "2019-01-01    NaN    NaN\n",
      "2019-01-02   9.42   9.19\n",
      "2019-01-03   9.33   9.28\n",
      "2019-01-04   9.82   9.75\n",
      "2019-01-05    NaN    NaN\n",
      "2019-01-06    NaN    NaN\n",
      "2019-01-07   9.85   9.74\n",
      "2019-01-08   9.74   9.66\n",
      "2019-01-09  10.08   9.94\n"
     ]
    }
   ],
   "source": [
    "# CSVDB 因子表\n",
    "print(\"因子表 : \", CSVDB.TableNames)\n",
    "print(\"===============================================\")\n",
    "\n",
    "Args = {}\n",
    "\n",
    "DTs = [dt.datetime(2019,1,1)+dt.timedelta(i) for i in range(9)]\n",
    "IDs = [\"000001.SZ\"]\n",
    "\n",
    "FT = CSVDB.getTable(\"stock_cn_day_bar_adj_no_nafilled\", args=Args)\n",
    "print(f\"因子表 '{FT.Name}' 的因子 : \", FT.FactorNames)\n",
    "print(\"===============================================\")\n",
    "print(FT.readData(factor_names=[\"high\", \"close\"], ids=IDs, dts=DTs).iloc[:, :, 0])"
   ]
  },
  {
   "cell_type": "code",
   "execution_count": null,
   "id": "4f5d255b",
   "metadata": {},
   "outputs": [],
   "source": []
  }
 ],
 "metadata": {
  "hide_input": false,
  "kernelspec": {
   "display_name": "QS",
   "language": "python",
   "name": "qs"
  },
  "language_info": {
   "codemirror_mode": {
    "name": "ipython",
    "version": 3
   },
   "file_extension": ".py",
   "mimetype": "text/x-python",
   "name": "python",
   "nbconvert_exporter": "python",
   "pygments_lexer": "ipython3",
   "version": "3.8.10"
  },
  "latex_envs": {
   "LaTeX_envs_menu_present": true,
   "autoclose": false,
   "autocomplete": true,
   "bibliofile": "biblio.bib",
   "cite_by": "apalike",
   "current_citInitial": 1,
   "eqLabelWithNumbers": true,
   "eqNumInitial": 1,
   "hotkeys": {
    "equation": "Ctrl-E",
    "itemize": "Ctrl-I"
   },
   "labels_anchors": false,
   "latex_user_defs": false,
   "report_style_numbering": false,
   "user_envs_cfg": false
  },
  "toc": {
   "base_numbering": 1,
   "nav_menu": {},
   "number_sections": true,
   "sideBar": true,
   "skip_h1_title": false,
   "title_cell": "Table of Contents",
   "title_sidebar": "Contents",
   "toc_cell": false,
   "toc_position": {},
   "toc_section_display": true,
   "toc_window_display": true
  },
  "varInspector": {
   "cols": {
    "lenName": 16,
    "lenType": 16,
    "lenVar": 40
   },
   "kernels_config": {
    "python": {
     "delete_cmd_postfix": "",
     "delete_cmd_prefix": "del ",
     "library": "var_list.py",
     "varRefreshCmd": "print(var_dic_list())"
    },
    "r": {
     "delete_cmd_postfix": ") ",
     "delete_cmd_prefix": "rm(",
     "library": "var_list.r",
     "varRefreshCmd": "cat(var_dic_list()) "
    }
   },
   "types_to_exclude": [
    "module",
    "function",
    "builtin_function_or_method",
    "instance",
    "_Feature"
   ],
   "window_display": false
  }
 },
 "nbformat": 4,
 "nbformat_minor": 5
}
