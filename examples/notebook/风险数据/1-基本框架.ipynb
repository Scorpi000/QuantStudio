{
 "cells": [
  {
   "cell_type": "markdown",
   "id": "86d72178",
   "metadata": {},
   "source": [
    "# 风险数据模型\n",
    "\n",
    "风险数据模型采用了三层结构, 最上层是风险库, 每个风险库有多张风险表组成, 每张风险表中的数据是一个三维数组, 第一维是时点, 第二维是证券 ID, 第三维也是证券 ID. 每个时点的切片即是风险矩阵, 风险矩阵是二维数组, 行和列均以证券 ID 索引.\n",
    "\n",
    "具体到数据在程序里的数据类型, 风险数据以 Python pandas 模块的 Panel 数据类型组织. 规定了这三个维度的先后顺序, 对应于 Panel 数据类型, items 是时点, major_axis 是证券 ID, minor_axis 是证券 ID. 在 Quant Studio 的所有 API 中, 凡是涉及到风险数据的地方, 都将遵守此组织原则.\n",
    "\n",
    "另外, 对于时间点, 采用 Python 的 datetime 表示, ID 的数据类型为字符串, 例如, “000001.SZ”, 因子名称的数据类型也是字符串.\n",
    "\n",
    "<img src=\"../images/风险数据模型.png\" width=\"30%\" height=\"30%\">"
   ]
  },
  {
   "cell_type": "markdown",
   "id": "d4fa9d42",
   "metadata": {},
   "source": [
    "# 风险数据类\n",
    "\n",
    "目前考虑的风险模型主要是两类, 一类是无结构的风险模型, 即风险矩阵就是一个以证券 ID 索引的二维矩阵, 比如通过历史收益率数据直接计算的协方差矩阵; 另一类是基于多因子模型得到的结构化的风险矩阵, 该矩阵可以分解为系统性风险和特异性风险两部分. 结构化的风险数据库不只是提供风险矩阵, 而且还要提供构造该风险矩阵的各个组件, 比如因子风险矩阵, 因子暴露以及特异性风险.\n",
    "\n",
    "![风险数据类](../images/UML-风险数据.png)"
   ]
  }
 ],
 "metadata": {
  "hide_input": false,
  "kernelspec": {
   "display_name": "Python 3 (ipykernel)",
   "language": "python",
   "name": "python3"
  },
  "language_info": {
   "codemirror_mode": {
    "name": "ipython",
    "version": 3
   },
   "file_extension": ".py",
   "mimetype": "text/x-python",
   "name": "python",
   "nbconvert_exporter": "python",
   "pygments_lexer": "ipython3",
   "version": "3.7.9"
  },
  "latex_envs": {
   "LaTeX_envs_menu_present": true,
   "autoclose": false,
   "autocomplete": true,
   "bibliofile": "biblio.bib",
   "cite_by": "apalike",
   "current_citInitial": 1,
   "eqLabelWithNumbers": true,
   "eqNumInitial": 1,
   "hotkeys": {
    "equation": "Ctrl-E",
    "itemize": "Ctrl-I"
   },
   "labels_anchors": false,
   "latex_user_defs": false,
   "report_style_numbering": false,
   "user_envs_cfg": false
  },
  "toc": {
   "base_numbering": 1,
   "nav_menu": {},
   "number_sections": true,
   "sideBar": true,
   "skip_h1_title": false,
   "title_cell": "Table of Contents",
   "title_sidebar": "Contents",
   "toc_cell": false,
   "toc_position": {},
   "toc_section_display": true,
   "toc_window_display": false
  },
  "varInspector": {
   "cols": {
    "lenName": 16,
    "lenType": 16,
    "lenVar": 40
   },
   "kernels_config": {
    "python": {
     "delete_cmd_postfix": "",
     "delete_cmd_prefix": "del ",
     "library": "var_list.py",
     "varRefreshCmd": "print(var_dic_list())"
    },
    "r": {
     "delete_cmd_postfix": ") ",
     "delete_cmd_prefix": "rm(",
     "library": "var_list.r",
     "varRefreshCmd": "cat(var_dic_list()) "
    }
   },
   "types_to_exclude": [
    "module",
    "function",
    "builtin_function_or_method",
    "instance",
    "_Feature"
   ],
   "window_display": false
  }
 },
 "nbformat": 4,
 "nbformat_minor": 5
}
