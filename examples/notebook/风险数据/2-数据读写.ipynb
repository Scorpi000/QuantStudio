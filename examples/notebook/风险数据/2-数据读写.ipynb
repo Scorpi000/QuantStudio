{
 "cells": [
  {
   "cell_type": "code",
   "execution_count": 1,
   "metadata": {
    "ExecuteTime": {
     "end_time": "2022-11-03T05:15:27.500941Z",
     "start_time": "2022-11-03T05:15:18.163307Z"
    },
    "code_folding": []
   },
   "outputs": [],
   "source": [
    "# 全局设置\n",
    "import os\n",
    "import datetime as dt\n",
    "\n",
    "import numpy as np\n",
    "import pandas as pd\n",
    "\n",
    "import QuantStudio.api as QS\n",
    "fd = QS.FactorDB.FactorTools\n",
    "Factorize = QS.FactorDB.Factorize"
   ]
  },
  {
   "cell_type": "code",
   "execution_count": 2,
   "metadata": {
    "ExecuteTime": {
     "end_time": "2022-02-25T07:20:33.710895Z",
     "start_time": "2022-02-25T07:20:33.702873Z"
    },
    "code_folding": [
     0
    ]
   },
   "outputs": [],
   "source": [
    "# # 生成Demo数据\n",
    "# TDB = QS.RiskDB.HDF5FRDB(sys_args={\"主目录\": \"../Data/RiskData\"})\n",
    "# TDB.connect();\n",
    "\n",
    "# SDB = QS.RiskDB.HDF5FRDB(sys_args={\"主目录\": \"D:\\\\Data\\\\RiskData\"})\n",
    "# SDB.connect();\n",
    "\n",
    "# # 生成Demo数据：BarraRiskData\n",
    "# RT = SDB.getTable(\"BarraRiskData\")\n",
    "# CovDTs = RT.getDateTime()[-3:]\n",
    "# IDs = RT.getID()[:500]\n",
    "# FactorCov = RT.readFactorCov(dts=CovDTs)\n",
    "# SpecificRisk = RT.readSpecificRisk(dts=CovDTs, ids=IDs)\n",
    "# DTs = RT.getFactorReturnDateTime(start_dt=CovDTs[0]-dt.timedelta(31), end_dt=CovDTs[-1])\n",
    "# FactorData = RT.readFactorData(dts=DTs, ids=IDs)\n",
    "# FactorReturn = RT.readFactorReturn(dts=DTs)\n",
    "# SpecificReturn = RT.readSpecificReturn(dts=DTs, ids=IDs)\n",
    "# for iDT in DTs:\n",
    "#     if iDT in CovDTs:\n",
    "#         TDB.writeData(table_name=\"BarraRiskData\", idt=iDT, \n",
    "#                       factor_data=FactorData.loc[:, iDT], factor_cov=FactorCov.loc[iDT], \n",
    "#                       specific_risk=SpecificRisk.loc[iDT], factor_ret=FactorReturn.loc[iDT], \n",
    "#                       specific_ret=SpecificReturn.loc[iDT])\n",
    "#     else:\n",
    "#         TDB.writeData(table_name=\"BarraRiskData\", idt=iDT, \n",
    "#                       factor_data=FactorData.loc[:, iDT], factor_cov=None, \n",
    "#                       specific_risk=None, factor_ret=FactorReturn.loc[iDT], \n",
    "#                       specific_ret=SpecificReturn.loc[iDT])\n",
    "\n",
    "# # 删除多余的表\n",
    "# for iTableName in TDB.TableNames:\n",
    "#     if iTableName not in ['BarraRiskData']:\n",
    "#         TDB.deleteTable(iTableName)"
   ]
  },
  {
   "cell_type": "markdown",
   "metadata": {},
   "source": [
    "# 风险库"
   ]
  },
  {
   "cell_type": "code",
   "execution_count": 2,
   "metadata": {
    "ExecuteTime": {
     "end_time": "2022-11-03T05:17:15.229279Z",
     "start_time": "2022-11-03T05:17:15.177139Z"
    },
    "code_folding": []
   },
   "outputs": [
    {
     "name": "stdout",
     "output_type": "stream",
     "text": [
      "{'名称': 'HDF5FRDB', '主目录': '../Data/RiskData'}\n"
     ]
    }
   ],
   "source": [
    "# 创建风险库\n",
    "# RDB = QS.RiskDB.HDF5FRDB(sys_args={\"主目录\": \"../Data/RiskData\"}).connect()\n",
    "RDB = QS.RiskDB.HDF5FRDB(config_file=\"../config/HDF5FRDBConfig.json\").connect()\n",
    "\n",
    "print(RDB.Args)"
   ]
  },
  {
   "cell_type": "markdown",
   "metadata": {},
   "source": [
    "## 风险表列表"
   ]
  },
  {
   "cell_type": "code",
   "execution_count": 3,
   "metadata": {
    "ExecuteTime": {
     "end_time": "2022-11-03T05:17:17.258075Z",
     "start_time": "2022-11-03T05:17:17.225986Z"
    }
   },
   "outputs": [
    {
     "data": {
      "text/plain": [
       "['BarraRiskData']"
      ]
     },
     "execution_count": 3,
     "metadata": {},
     "output_type": "execute_result"
    }
   ],
   "source": [
    "# 风险库中的所有风险表列表\n",
    "RDB.TableNames"
   ]
  },
  {
   "cell_type": "markdown",
   "metadata": {},
   "source": [
    "# 风险表"
   ]
  },
  {
   "cell_type": "markdown",
   "metadata": {},
   "source": [
    "## 创建风险表\n",
    "\n",
    "getTable(table_name, args={}):\n",
    "* table_name: str, 风险表名\n",
    "* args: dict, 指定的参数集\n",
    "* 返回: 风险表对象"
   ]
  },
  {
   "cell_type": "code",
   "execution_count": 4,
   "metadata": {
    "ExecuteTime": {
     "end_time": "2022-11-03T05:17:20.121763Z",
     "start_time": "2022-11-03T05:17:20.090645Z"
    }
   },
   "outputs": [
    {
     "name": "stdout",
     "output_type": "stream",
     "text": [
      "BarraRiskData\n",
      "{'遍历模式': {'向前缓冲时点数': 12, '向后缓冲时点数': 0, '缓冲区大小': 300, '遍历时点': [], '遍历ID': []}}\n"
     ]
    }
   ],
   "source": [
    "# 获取风险库中的某个风险表\n",
    "RT = RDB.getTable(\"BarraRiskData\", args={})\n",
    "print(RT.Name)\n",
    "print(RT.Args)"
   ]
  },
  {
   "cell_type": "markdown",
   "metadata": {},
   "source": [
    "## 元信息\n",
    "\n",
    "getMetaData(key=None, args={}):\n",
    "* key: str 或者 None, 元信息字段名\n",
    "* args: dict, 临时修改的参数集\n",
    "* 返回: 如果 key=None, Series(index=[字段]); 否则元信息值"
   ]
  },
  {
   "cell_type": "code",
   "execution_count": 5,
   "metadata": {
    "ExecuteTime": {
     "end_time": "2022-11-03T05:17:22.539645Z",
     "start_time": "2022-11-03T05:17:22.504586Z"
    }
   },
   "outputs": [
    {
     "name": "stdout",
     "output_type": "stream",
     "text": [
      "Series([], dtype: float64)\n"
     ]
    }
   ],
   "source": [
    "# 读取风险表的所有元信息\n",
    "print(RT.getMetaData())"
   ]
  },
  {
   "cell_type": "code",
   "execution_count": 6,
   "metadata": {
    "ExecuteTime": {
     "end_time": "2022-11-03T05:17:24.487174Z",
     "start_time": "2022-11-03T05:17:24.472134Z"
    }
   },
   "outputs": [
    {
     "name": "stdout",
     "output_type": "stream",
     "text": [
      "None\n"
     ]
    }
   ],
   "source": [
    "# 读取风险表的某个元信息\n",
    "print(RT.getMetaData(key=\"Description\"))"
   ]
  },
  {
   "cell_type": "markdown",
   "metadata": {},
   "source": [
    "## 时点序列\n",
    "\n",
    "getDateTime(start_dt=None, end_dt=None):\n",
    "* start_dt: datetime 或者 None, 起始时点\n",
    "* end_dt: datetime 或者 None, 终止时点\n",
    "* 返回: list(datetime)"
   ]
  },
  {
   "cell_type": "code",
   "execution_count": 7,
   "metadata": {
    "ExecuteTime": {
     "end_time": "2022-11-03T05:17:26.839570Z",
     "start_time": "2022-11-03T05:17:26.824529Z"
    },
    "code_folding": []
   },
   "outputs": [
    {
     "name": "stdout",
     "output_type": "stream",
     "text": [
      "2018-07-31 00:00:00  -  2018-09-28 00:00:00\n"
     ]
    }
   ],
   "source": [
    "# 获取风险表的时点序列\n",
    "DTs = RT.getDateTime()\n",
    "print(DTs[0], \" - \", DTs[-1])"
   ]
  },
  {
   "cell_type": "code",
   "execution_count": 8,
   "metadata": {
    "ExecuteTime": {
     "end_time": "2022-11-03T05:17:28.250210Z",
     "start_time": "2022-11-03T05:17:28.232162Z"
    },
    "code_folding": []
   },
   "outputs": [
    {
     "data": {
      "text/plain": [
       "[datetime.datetime(2018, 8, 31, 0, 0), datetime.datetime(2018, 9, 28, 0, 0)]"
      ]
     },
     "execution_count": 8,
     "metadata": {},
     "output_type": "execute_result"
    }
   ],
   "source": [
    "# 给定起始时点和截止时点, 获取风险表的时点序列\n",
    "RT.getDateTime(start_dt=dt.datetime(2018,8,15), end_dt=dt.datetime(2018,12,1))"
   ]
  },
  {
   "cell_type": "markdown",
   "metadata": {},
   "source": [
    "## ID 序列\n",
    "\n",
    "getID(idt=None):\n",
    "* idt: datetime 或者 None, 目标时点\n",
    "* 返回: list(str)"
   ]
  },
  {
   "cell_type": "code",
   "execution_count": 9,
   "metadata": {
    "ExecuteTime": {
     "end_time": "2022-11-03T05:17:30.347732Z",
     "start_time": "2022-11-03T05:17:30.325671Z"
    },
    "code_folding": []
   },
   "outputs": [
    {
     "name": "stdout",
     "output_type": "stream",
     "text": [
      "000001.SZ , ...,  000990.SZ\n"
     ]
    }
   ],
   "source": [
    "# 获取风险表的 ID 序列\n",
    "IDs = RT.getID()\n",
    "print(IDs[0], \", ..., \", IDs[-1])"
   ]
  },
  {
   "cell_type": "code",
   "execution_count": 10,
   "metadata": {
    "ExecuteTime": {
     "end_time": "2022-11-03T05:17:32.202364Z",
     "start_time": "2022-11-03T05:17:32.185319Z"
    },
    "code_folding": []
   },
   "outputs": [
    {
     "name": "stdout",
     "output_type": "stream",
     "text": [
      "000001.SZ , ...,  000990.SZ\n"
     ]
    }
   ],
   "source": [
    "# 给定目标因子,目标时点, 获取因子表中指定因子指定时点的 ID 序列\n",
    "IDs = RT.getID(idt=dt.datetime(2018, 7, 31))\n",
    "print(IDs[0], \", ..., \", IDs[-1])"
   ]
  },
  {
   "cell_type": "markdown",
   "metadata": {},
   "source": [
    "## 读取数据\n",
    "\n",
    "readCov(dts, ids=None): 读取风险数据(协方差矩阵)\n",
    "* dts: list(datetime), 待读取的时点列表\n",
    "* ids: list(str) 或者 None, 待读取的 ID 列表, None 表示所有 ID\n",
    "* 返回: Panel(items=[时点], major_axis=[ID], minor_axis=[ID])\n",
    "\n",
    "readCorr(dts, ids=None): 读取风险数据(相关系数矩阵)\n",
    "* dts: list(datetime), 待读取的时点列表\n",
    "* ids: list(str) 或者 None, 待读取的 ID 列表, None 表示所有 ID\n",
    "* 返回: Panel(items=[时点], major_axis=[ID], minor_axis=[ID])"
   ]
  },
  {
   "cell_type": "code",
   "execution_count": 11,
   "metadata": {
    "ExecuteTime": {
     "end_time": "2022-11-03T05:17:34.652435Z",
     "start_time": "2022-11-03T05:17:34.409748Z"
    },
    "code_folding": []
   },
   "outputs": [
    {
     "name": "stdout",
     "output_type": "stream",
     "text": [
      "三维数据 : \n",
      "<class 'QuantStudio.Tools.QSObjects.Panel'>\n",
      "Dimensions: 3 (items) x 4 (major_axis) x 4 (minor_axis)\n",
      "Items axis: 2018-07-31 00:00:00 to 2018-09-28 00:00:00\n",
      "Major_axis axis: 000001.SZ to 000990.SZ\n",
      "Minor_axis axis: 000001.SZ to 000990.SZ\n",
      "时点切片 : 2018-07-31 00:00:00\n",
      "           000001.SZ  000002.SZ  000058.SZ  000990.SZ\n",
      "000001.SZ   0.007933   0.003463   0.003860   0.001773\n",
      "000002.SZ   0.003463   0.013027   0.005020   0.001881\n",
      "000058.SZ   0.003860   0.005020   0.012819   0.002399\n",
      "000990.SZ   0.001773   0.001881   0.002399   0.006138\n",
      "ID 切片 : 000001.SZ\n",
      "2018-07-31    0.007933\n",
      "2018-08-31    0.008083\n",
      "2018-09-28    0.007616\n",
      "dtype: float64\n"
     ]
    }
   ],
   "source": [
    "# 给定时点列表, ID 列表, 获取风险数据\n",
    "DTs = RT.getDateTime()\n",
    "Data = RT.readCov(dts=DTs, ids=[\"000001.SZ\", \"000002.SZ\", \"000058.SZ\", \"000990.SZ\"])\n",
    "# Data = RT.readCorr(dts=DTs, ids=[\"000001.SZ\", \"000002.SZ\", \"000058.SZ\", \"000990.SZ\"])\n",
    "print(\"三维数据 : \")\n",
    "print(Data)\n",
    "\n",
    "iDT = dt.datetime(2018, 7, 31)\n",
    "print(f\"时点切片 : {iDT}\")\n",
    "print(Data.loc[iDT])\n",
    "\n",
    "iID = \"000001.SZ\"\n",
    "print(f\"ID 切片 : {iID}\")\n",
    "print(Data.loc[:, iID, iID])"
   ]
  },
  {
   "cell_type": "markdown",
   "metadata": {},
   "source": [
    "# 多因子风险表"
   ]
  },
  {
   "cell_type": "markdown",
   "metadata": {},
   "source": [
    "## 因子列表"
   ]
  },
  {
   "cell_type": "code",
   "execution_count": 12,
   "metadata": {
    "ExecuteTime": {
     "end_time": "2022-11-03T05:17:36.817704Z",
     "start_time": "2022-11-03T05:17:36.806675Z"
    }
   },
   "outputs": [
    {
     "name": "stdout",
     "output_type": "stream",
     "text": [
      "['Aerospace and Defense', 'Airlines', 'Automobiles and Components', 'Banks', 'Beta', 'Beverages', 'BookToPrice', 'Building Products', 'Chemicals', 'Commercial and Professional Services', 'Construction Materials', 'Construction and Engineering', 'Diversified Financial Services', 'Diversified Metals', 'EarningsYield', 'Electrical Equipment', 'Energy', 'Food Products', 'Food Staples Retail Household Personal Prod', 'Growth', 'Hardware and Semiconductors', 'Health', 'Hotels Restaurants and Leisure', 'Household Durables (non-Homebuilding)', 'Industrial Conglomerates', 'Industrial Machinery', 'Leisure Products Textiles Apparel and Luxury', 'Leverage', 'Liquidity', 'Marine', 'Market', 'Materials', 'Media', 'Momentum', 'NonlinearSize', 'Real Estate', 'ResidualVolatility', 'Retail', 'Road Rail and Transportation Infrastructure', 'Size', 'Software', 'Trading Companies and Distributors', 'Utilities']\n"
     ]
    }
   ],
   "source": [
    "# 获取风险表中的所有因子列表\n",
    "print(RT.FactorNames)"
   ]
  },
  {
   "cell_type": "markdown",
   "metadata": {},
   "source": [
    "## 时点序列\n",
    "\n",
    "### 因子收益时点序列\n",
    "\n",
    "getFactorReturnDateTime(start_dt=None, end_dt=None):\n",
    "* start_dt: datetime 或者 None, 起始时点\n",
    "* end_dt: datetime 或者 None, 终止时点\n",
    "* 返回: list(datetime)"
   ]
  },
  {
   "cell_type": "code",
   "execution_count": 13,
   "metadata": {
    "ExecuteTime": {
     "end_time": "2022-11-03T05:17:39.098341Z",
     "start_time": "2022-11-03T05:17:39.080293Z"
    },
    "code_folding": []
   },
   "outputs": [
    {
     "name": "stdout",
     "output_type": "stream",
     "text": [
      "2018-08-15 00:00:00  -  2018-09-28 00:00:00\n"
     ]
    }
   ],
   "source": [
    "# 获取风险表因子收益的时点序列\n",
    "DTs = RT.getFactorReturnDateTime(dt.datetime(2018,8,15), end_dt=dt.datetime(2018,12,1))\n",
    "print(DTs[0], \" - \", DTs[-1])"
   ]
  },
  {
   "cell_type": "markdown",
   "metadata": {},
   "source": [
    "### 特异性收益时点序列\n",
    "\n",
    "getSpecificReturnDateTime(start_dt=None, end_dt=None):\n",
    "* start_dt: datetime 或者 None, 起始时点\n",
    "* end_dt: datetime 或者 None, 终止时点\n",
    "* 返回: list(datetime)"
   ]
  },
  {
   "cell_type": "code",
   "execution_count": 14,
   "metadata": {
    "ExecuteTime": {
     "end_time": "2022-11-03T05:17:41.691788Z",
     "start_time": "2022-11-03T05:17:41.670732Z"
    },
    "code_folding": []
   },
   "outputs": [
    {
     "name": "stdout",
     "output_type": "stream",
     "text": [
      "2018-08-15 00:00:00  -  2018-09-28 00:00:00\n"
     ]
    }
   ],
   "source": [
    "# 获取风险表特异性收益的时点序列\n",
    "DTs = RT.getSpecificReturnDateTime(start_dt=dt.datetime(2018,8,15), end_dt=dt.datetime(2018,12,1))\n",
    "print(DTs[0], \" - \", DTs[-1])"
   ]
  },
  {
   "cell_type": "markdown",
   "metadata": {},
   "source": [
    "## 读取数据\n",
    "\n",
    "### 因子协方差阵\n",
    "\n",
    "readFactorCov(dts):\n",
    "* dts: list(datetime), 待读取的时点列表\n",
    "* 返回: Panel(items=[时点], major_axis=[因子], minor_axis=[因子])"
   ]
  },
  {
   "cell_type": "code",
   "execution_count": 15,
   "metadata": {
    "ExecuteTime": {
     "end_time": "2022-11-03T05:17:44.153647Z",
     "start_time": "2022-11-03T05:17:44.104522Z"
    },
    "code_folding": [
     0
    ],
    "scrolled": false
   },
   "outputs": [
    {
     "name": "stdout",
     "output_type": "stream",
     "text": [
      "三维数据 : \n",
      "<class 'QuantStudio.Tools.QSObjects.Panel'>\n",
      "Dimensions: 3 (items) x 43 (major_axis) x 43 (minor_axis)\n",
      "Items axis: 2018-07-31 00:00:00 to 2018-09-28 00:00:00\n",
      "Major_axis axis: Market to Utilities\n",
      "Minor_axis axis: Market to Utilities\n",
      "时点切片 : 2018-07-31 00:00:00\n",
      "                      Market      Size      Beta  Momentum  ResidualVolatility\n",
      "Market              0.002345 -0.000134  0.000511 -0.000201            0.000320\n",
      "Size               -0.000134  0.000085 -0.000042  0.000043           -0.000042\n",
      "Beta                0.000511 -0.000042  0.000198 -0.000059            0.000096\n",
      "Momentum           -0.000201  0.000043 -0.000059  0.000101           -0.000025\n",
      "ResidualVolatility  0.000320 -0.000042  0.000096 -0.000025            0.000079\n"
     ]
    }
   ],
   "source": [
    "# 给定时点列表, 获取因子风险数据\n",
    "DTs = RT.getDateTime()\n",
    "Data = RT.readFactorCov(dts=DTs)\n",
    "print(\"三维数据 : \")\n",
    "print(Data)\n",
    "\n",
    "iDT = dt.datetime(2018, 7, 31)\n",
    "print(f\"时点切片 : {iDT}\")\n",
    "print(Data.loc[iDT].iloc[:5, :5])"
   ]
  },
  {
   "cell_type": "markdown",
   "metadata": {},
   "source": [
    "### 特异性风险\n",
    "\n",
    "readSpecificRisk(dts, ids=None):\n",
    "* dts: list(datetime), 待读取的时点列表\n",
    "* ids: list(str) 或者 None, 待读取的ID列表, None 表示所有 ID\n",
    "* 返回: DataFrame(index=[时点], columns=[ID])"
   ]
  },
  {
   "cell_type": "code",
   "execution_count": 16,
   "metadata": {
    "ExecuteTime": {
     "end_time": "2022-11-03T05:17:50.034930Z",
     "start_time": "2022-11-03T05:17:49.992822Z"
    },
    "code_folding": []
   },
   "outputs": [
    {
     "name": "stdout",
     "output_type": "stream",
     "text": [
      "            000001.SZ  000002.SZ  000003.SZ  000004.SZ  000005.SZ\n",
      "2018-07-31   0.061979   0.085968        NaN   0.101172   0.067750\n",
      "2018-08-31   0.066042   0.086336        NaN   0.103598   0.064798\n",
      "2018-09-28   0.063228   0.082736        NaN   0.099805   0.062178\n"
     ]
    }
   ],
   "source": [
    "# 读取特异性风险\n",
    "DTs = RT.getDateTime()\n",
    "Data = RT.readSpecificRisk(dts=DTs)\n",
    "print(Data.iloc[:, :5])"
   ]
  },
  {
   "cell_type": "markdown",
   "metadata": {},
   "source": [
    "### 因子数据\n",
    "\n",
    "readFactorData(dts, ids=None):\n",
    "* dts: list(datetime), 待读取的时点列表\n",
    "* ids: list(str) 或者 None, 待读取的ID列表, None 表示所有 ID\n",
    "* 返回: Panel(items=[因子], major_axis=[时点], minor_axis=[ID])"
   ]
  },
  {
   "cell_type": "code",
   "execution_count": 17,
   "metadata": {
    "ExecuteTime": {
     "end_time": "2022-11-03T05:17:53.375717Z",
     "start_time": "2022-11-03T05:17:52.289817Z"
    },
    "code_folding": []
   },
   "outputs": [
    {
     "name": "stdout",
     "output_type": "stream",
     "text": [
      "三维数据 : \n",
      "<class 'QuantStudio.Tools.QSObjects.Panel'>\n",
      "Dimensions: 43 (items) x 64 (major_axis) x 500 (minor_axis)\n",
      "Items axis: Market to Utilities\n",
      "Major_axis axis: 2018-07-02 00:00:00 to 2018-09-28 00:00:00\n",
      "Minor_axis axis: 000001.SZ to 000990.SZ\n",
      "时点切片 : 2018-07-31 00:00:00\n",
      "           Market      Size      Beta  Momentum\n",
      "000001.SZ     1.0  0.874437  0.421393 -0.633064\n",
      "000002.SZ     1.0  1.362186  0.652622 -0.213705\n",
      "000003.SZ     1.0       NaN       NaN       NaN\n",
      "000004.SZ     1.0 -3.393355 -1.176095 -0.918994\n",
      "000005.SZ     1.0 -3.199509  0.167393 -1.770191\n"
     ]
    }
   ],
   "source": [
    "# 读取截面因子数据\n",
    "DTs = RT.getFactorReturnDateTime()\n",
    "Data = RT.readFactorData(dts=DTs)\n",
    "print(\"三维数据 : \")\n",
    "print(Data)\n",
    "\n",
    "iDT = dt.datetime(2018, 7, 31)\n",
    "print(f\"时点切片 : {iDT}\")\n",
    "print(Data.loc[:, iDT].iloc[:5, :4])"
   ]
  },
  {
   "cell_type": "markdown",
   "metadata": {},
   "source": [
    "### 因子收益率\n",
    "\n",
    "readFactorReturn(dts):\n",
    "* dts: list(datetime), 待读取的时点列表\n",
    "* 返回: DataFrame(index=[时点], columns=[因子])"
   ]
  },
  {
   "cell_type": "code",
   "execution_count": 18,
   "metadata": {
    "ExecuteTime": {
     "end_time": "2022-11-03T05:17:55.885821Z",
     "start_time": "2022-11-03T05:17:55.642134Z"
    },
    "code_folding": []
   },
   "outputs": [
    {
     "name": "stdout",
     "output_type": "stream",
     "text": [
      "              Market      Size      Beta  Momentum  ResidualVolatility\n",
      "2018-07-02 -0.021136 -0.003471 -0.003187  0.001284            0.002730\n",
      "2018-07-03  0.003245 -0.002876  0.005124 -0.002341           -0.000578\n",
      "2018-07-04 -0.013776  0.000824 -0.003769 -0.000280           -0.001183\n",
      "2018-07-05 -0.015353  0.004563 -0.005968 -0.000334           -0.004394\n",
      "2018-07-06  0.004116  0.001232  0.002294 -0.001037           -0.000923\n",
      "2018-07-09  0.024431  0.001638  0.008059  0.003069            0.000564\n",
      "2018-07-10  0.004891 -0.000890  0.003299  0.001223           -0.001186\n",
      "2018-07-11 -0.017712  0.001920 -0.003708  0.003333           -0.003930\n",
      "2018-07-12  0.025299  0.000598  0.006507  0.000165            0.001898\n",
      "2018-07-13  0.003934  0.000280  0.003052  0.002448           -0.000169\n"
     ]
    }
   ],
   "source": [
    "# 读取因子收益率\n",
    "DTs = RT.getFactorReturnDateTime()\n",
    "Data = RT.readFactorReturn(dts=DTs)\n",
    "print(Data.iloc[:10, :5])"
   ]
  },
  {
   "cell_type": "markdown",
   "metadata": {},
   "source": [
    "### 特异性收益率\n",
    "\n",
    "readSpecificReturn(dts, ids=None):\n",
    "* dts: list(datetime), 待读取的时点列表\n",
    "* ids: list(str) 或者 None, 待读取的ID列表, None 表示所有 ID\n",
    "* 返回: DataFrame(index=[时点], columns=[ID])"
   ]
  },
  {
   "cell_type": "code",
   "execution_count": 19,
   "metadata": {
    "ExecuteTime": {
     "end_time": "2022-11-03T05:17:58.118360Z",
     "start_time": "2022-11-03T05:17:57.800487Z"
    },
    "code_folding": []
   },
   "outputs": [
    {
     "name": "stdout",
     "output_type": "stream",
     "text": [
      "            000001.SZ  000002.SZ  000003.SZ  000004.SZ  000005.SZ\n",
      "2018-07-02  -0.018507  -0.032144        NaN  -0.026324  -0.011967\n",
      "2018-07-03  -0.006278   0.030201        NaN   0.012241  -0.003303\n",
      "2018-07-04   0.004347   0.000288        NaN   0.002606   0.017238\n",
      "2018-07-05   0.003699   0.013294        NaN   0.004203  -0.000689\n",
      "2018-07-06  -0.001462  -0.000165        NaN  -0.001477   0.005163\n",
      "2018-07-09   0.002846   0.001136        NaN  -0.027490   0.001318\n",
      "2018-07-10  -0.008561  -0.006429        NaN  -0.012560  -0.001769\n",
      "2018-07-11  -0.000336  -0.007929        NaN   0.015468  -0.003026\n",
      "2018-07-12   0.000300  -0.009165        NaN   0.004866  -0.001185\n",
      "2018-07-13   0.003241  -0.012005        NaN  -0.029130   0.015952\n"
     ]
    }
   ],
   "source": [
    "# 读取特异性收益率\n",
    "DTs = RT.getSpecificReturnDateTime()\n",
    "Data = RT.readSpecificReturn(dts=DTs)\n",
    "print(Data.iloc[:10, :5])"
   ]
  },
  {
   "cell_type": "markdown",
   "metadata": {},
   "source": [
    "# 数据写入"
   ]
  },
  {
   "cell_type": "markdown",
   "metadata": {},
   "source": [
    "## 风险库\n",
    "\n",
    "writeData(self, table_name, idt, icov, **kwargs):\n",
    "* table_name: str, 要存入的风险表名称;\n",
    "* idt: datetime, 风险数据对应的时点, \n",
    "* icov: DataFrame, 风险数据"
   ]
  },
  {
   "cell_type": "markdown",
   "metadata": {},
   "source": [
    "## 多因子风险库\n",
    "\n",
    "writeData(self, table_name, idt, factor_data=None, factor_cov=None, specific_risk=None, factor_ret=None, specific_ret=None, **kwargs):\n",
    "* table_name: str, 要存入的风险表名称;\n",
    "* idt: datetime, 风险数据对应的时点, \n",
    "* factor_data: DataFrame, 因子数据,\n",
    "* factor_cov: DataFrame, 因子风险数据,\n",
    "* specific_risk: Series, 特异性风险数据,\n",
    "* factor_ret: DataFrame, 因子收益数据,\n",
    "* specific_ret: DataFrame, 特异性收益数据,"
   ]
  },
  {
   "cell_type": "code",
   "execution_count": 20,
   "metadata": {
    "ExecuteTime": {
     "end_time": "2022-11-03T05:18:04.645545Z",
     "start_time": "2022-11-03T05:18:02.858592Z"
    },
    "code_folding": [
     0
    ],
    "scrolled": false
   },
   "outputs": [
    {
     "name": "stdout",
     "output_type": "stream",
     "text": [
      "待写入的因子风险数据 : \n",
      "<class 'QuantStudio.Tools.QSObjects.Panel'>\n",
      "Dimensions: 2 (items) x 4 (major_axis) x 43 (minor_axis)\n",
      "Items axis: 2018-08-31 00:00:00 to 2018-09-28 00:00:00\n",
      "Major_axis axis: Market to Momentum\n",
      "Minor_axis axis: Market to Utilities\n",
      "待写入的特异性风险数据 : \n",
      "            000001.SZ  000002.SZ  000003.SZ  000004.SZ  000005.SZ\n",
      "2018-08-31   0.066042   0.086336        NaN   0.103598   0.064798\n",
      "2018-09-28   0.063228   0.082736        NaN   0.099805   0.062178\n",
      "待写入的因子数据 : \n",
      "<class 'QuantStudio.Tools.QSObjects.Panel'>\n",
      "Dimensions: 43 (items) x 10 (major_axis) x 5 (minor_axis)\n",
      "Items axis: Market to Utilities\n",
      "Major_axis axis: 2018-07-31 00:00:00 to 2018-08-13 00:00:00\n",
      "Minor_axis axis: 000001.SZ to 000005.SZ\n",
      "待写入的因子收益数据 : \n",
      "              Market      Size      Beta  Momentum\n",
      "2018-07-31  0.000289 -0.000465  0.000469  0.000139\n",
      "2018-08-01 -0.017273 -0.000239 -0.002445  0.001304\n",
      "2018-08-02 -0.020522  0.000783 -0.003595  0.003322\n",
      "2018-08-03 -0.016425 -0.001145 -0.003346 -0.004359\n",
      "2018-08-06 -0.020084 -0.000375 -0.002989 -0.000960\n",
      "2018-08-07  0.029535  0.001838  0.007048  0.001134\n",
      "2018-08-08 -0.014606  0.000722 -0.001632 -0.002242\n",
      "2018-08-09  0.023805  0.000923  0.006882  0.003718\n",
      "2018-08-10  0.003607 -0.000452  0.002781  0.001264\n",
      "2018-08-13  0.001821 -0.000643  0.001955  0.002708\n",
      "待写入的特异性收益数据 : \n",
      "            000001.SZ  000002.SZ  000003.SZ  000004.SZ  000005.SZ\n",
      "2018-07-31  -0.003776  -0.001647        NaN  -0.009801  -0.005825\n",
      "2018-08-01  -0.001043  -0.011409        NaN   0.036382  -0.015883\n",
      "2018-08-02   0.000679  -0.014575        NaN   0.004117   0.007552\n",
      "2018-08-03   0.001154   0.006813        NaN   0.032387   0.004165\n",
      "2018-08-06   0.000335   0.018644        NaN   0.054778  -0.010029\n",
      "2018-08-07  -0.002893   0.009024        NaN   0.020393   0.007481\n",
      "2018-08-08   0.000120   0.002735        NaN   0.007220   0.028358\n",
      "2018-08-09   0.007822   0.017143        NaN  -0.076844   0.003096\n",
      "2018-08-10  -0.003483   0.015946        NaN  -0.039993   0.004394\n",
      "2018-08-13  -0.006976   0.000682        NaN   0.003566  -0.008043\n",
      "写入后的风险表 : \n",
      "['BarraRiskData', 'TestTable']\n"
     ]
    }
   ],
   "source": [
    "# 数据写入\n",
    "RT = RDB.getTable(\"BarraRiskData\")\n",
    "CovDTs = RT.getDateTime()[-2:]\n",
    "IDs = RT.getID()[:5]\n",
    "FactorCov = RT.readFactorCov(dts=CovDTs)\n",
    "print(\"待写入的因子风险数据 : \")\n",
    "print(FactorCov.iloc[:4, :4])\n",
    "SpecificRisk = RT.readSpecificRisk(dts=CovDTs, ids=IDs)\n",
    "print(\"待写入的特异性风险数据 : \")\n",
    "print(SpecificRisk)\n",
    "DTs = RT.getFactorReturnDateTime(start_dt=CovDTs[0]-dt.timedelta(31), end_dt=CovDTs[-1])[:10]\n",
    "FactorData = RT.readFactorData(dts=DTs, ids=IDs)\n",
    "print(\"待写入的因子数据 : \")\n",
    "print(FactorData)\n",
    "FactorReturn = RT.readFactorReturn(dts=DTs)\n",
    "print(\"待写入的因子收益数据 : \")\n",
    "print(FactorReturn.iloc[:, :4])\n",
    "SpecificReturn = RT.readSpecificReturn(dts=DTs, ids=IDs)\n",
    "print(\"待写入的特异性收益数据 : \")\n",
    "print(SpecificReturn)\n",
    "for iDT in DTs:\n",
    "    if iDT in CovDTs:\n",
    "        RDB.writeData(table_name=\"TestTable\", idt=iDT, \n",
    "                      factor_data=FactorData.loc[:, iDT], factor_cov=FactorCov.loc[iDT], \n",
    "                      specific_risk=SpecificRisk.loc[iDT], factor_ret=FactorReturn.loc[iDT], \n",
    "                      specific_ret=SpecificReturn.loc[iDT])\n",
    "    else:\n",
    "        RDB.writeData(table_name=\"TestTable\", idt=iDT, \n",
    "                      factor_data=FactorData.loc[:, iDT], factor_cov=None, \n",
    "                      specific_risk=None, factor_ret=FactorReturn.loc[iDT], \n",
    "                      specific_ret=SpecificReturn.loc[iDT])\n",
    "\n",
    "print(\"写入后的风险表 : \")\n",
    "print(RDB.TableNames)"
   ]
  },
  {
   "cell_type": "markdown",
   "metadata": {},
   "source": [
    "# 风险库其他操作"
   ]
  },
  {
   "cell_type": "markdown",
   "metadata": {},
   "source": [
    "## 设置表的元信息\n",
    "\n",
    "setTableMetaData(table_name, key=None, value=None, meta_data=None):\n",
    "* table_name: str, 风险表名\n",
    "* key: str 或者 None, 元信息字段名\n",
    "* value: str 或者 None, 元信息字段值\n",
    "* meta_data: dict 或者 None, 元信息集"
   ]
  },
  {
   "cell_type": "code",
   "execution_count": 21,
   "metadata": {
    "ExecuteTime": {
     "end_time": "2022-11-03T05:18:07.707266Z",
     "start_time": "2022-11-03T05:18:07.571904Z"
    },
    "code_folding": [
     0
    ]
   },
   "outputs": [
    {
     "name": "stdout",
     "output_type": "stream",
     "text": [
      "设置前的元信息 : \n",
      "Series([], dtype: float64)\n",
      "设置后的元信息 : \n",
      "Description    这是一张测试表\n",
      "dtype: object\n"
     ]
    }
   ],
   "source": [
    "# 设置表的元信息\n",
    "TargetTable = \"TestTable\"\n",
    "RT = RDB.getTable(TargetTable)\n",
    "print(\"设置前的元信息 : \")\n",
    "print(RT.getMetaData())\n",
    "RDB.setTableMetaData(table_name=TargetTable, key=\"Description\", value=\"这是一张测试表\")\n",
    "print(\"设置后的元信息 : \")\n",
    "print(RT.getMetaData())"
   ]
  },
  {
   "cell_type": "markdown",
   "metadata": {},
   "source": [
    "## 重命名表\n",
    "\n",
    "renameTable(old_table_name, new_table_name):\n",
    "* old_table_name: str, 旧风险表名\n",
    "* new_table_name: str, 新风险表名"
   ]
  },
  {
   "cell_type": "code",
   "execution_count": 22,
   "metadata": {
    "ExecuteTime": {
     "end_time": "2022-11-03T05:18:09.693086Z",
     "start_time": "2022-11-03T05:18:09.672030Z"
    },
    "code_folding": [
     0
    ]
   },
   "outputs": [
    {
     "name": "stdout",
     "output_type": "stream",
     "text": [
      "重命名前风险表 : \n",
      "['BarraRiskData', 'TestTable']\n",
      "重命名后风险表 : \n",
      "['BarraRiskData', 'TestTable_New']\n"
     ]
    }
   ],
   "source": [
    "# 重命名表\n",
    "print(\"重命名前风险表 : \")\n",
    "print(RDB.TableNames)\n",
    "RDB.renameTable(old_table_name=\"TestTable\", new_table_name=\"TestTable_New\")\n",
    "print(\"重命名后风险表 : \")\n",
    "print(RDB.TableNames)"
   ]
  },
  {
   "cell_type": "markdown",
   "metadata": {},
   "source": [
    "## 删除表\n",
    "\n",
    "deleteTable(table_name):\n",
    "* table_name: str, 风险表名"
   ]
  },
  {
   "cell_type": "code",
   "execution_count": 23,
   "metadata": {
    "ExecuteTime": {
     "end_time": "2022-11-03T05:18:11.800274Z",
     "start_time": "2022-11-03T05:18:11.785234Z"
    },
    "code_folding": [
     0
    ]
   },
   "outputs": [
    {
     "name": "stdout",
     "output_type": "stream",
     "text": [
      "删除前风险表 : \n",
      "['BarraRiskData', 'TestTable_New']\n",
      "删除后因子表 : \n",
      "['BarraRiskData']\n"
     ]
    }
   ],
   "source": [
    "# 删除表\n",
    "print(\"删除前风险表 : \")\n",
    "print(RDB.TableNames)\n",
    "RDB.deleteTable(table_name=\"TestTable_New\")\n",
    "print(\"删除后因子表 : \")\n",
    "print(RDB.TableNames)"
   ]
  },
  {
   "cell_type": "code",
   "execution_count": null,
   "metadata": {},
   "outputs": [],
   "source": []
  }
 ],
 "metadata": {
  "hide_input": false,
  "kernelspec": {
   "display_name": "QuantStudio310",
   "language": "python",
   "name": "quantstudio310"
  },
  "language_info": {
   "codemirror_mode": {
    "name": "ipython",
    "version": 3
   },
   "file_extension": ".py",
   "mimetype": "text/x-python",
   "name": "python",
   "nbconvert_exporter": "python",
   "pygments_lexer": "ipython3",
   "version": "3.10.0"
  },
  "latex_envs": {
   "LaTeX_envs_menu_present": true,
   "autoclose": false,
   "autocomplete": true,
   "bibliofile": "biblio.bib",
   "cite_by": "apalike",
   "current_citInitial": 1,
   "eqLabelWithNumbers": true,
   "eqNumInitial": 1,
   "hotkeys": {
    "equation": "Ctrl-E",
    "itemize": "Ctrl-I"
   },
   "labels_anchors": false,
   "latex_user_defs": false,
   "report_style_numbering": false,
   "user_envs_cfg": false
  },
  "toc": {
   "base_numbering": 1,
   "nav_menu": {},
   "number_sections": true,
   "sideBar": true,
   "skip_h1_title": false,
   "title_cell": "Table of Contents",
   "title_sidebar": "Contents",
   "toc_cell": false,
   "toc_position": {
    "height": "calc(100% - 180px)",
    "left": "10px",
    "top": "150px",
    "width": "226px"
   },
   "toc_section_display": true,
   "toc_window_display": true
  },
  "varInspector": {
   "cols": {
    "lenName": 16,
    "lenType": 16,
    "lenVar": 40
   },
   "kernels_config": {
    "python": {
     "delete_cmd_postfix": "",
     "delete_cmd_prefix": "del ",
     "library": "var_list.py",
     "varRefreshCmd": "print(var_dic_list())"
    },
    "r": {
     "delete_cmd_postfix": ") ",
     "delete_cmd_prefix": "rm(",
     "library": "var_list.r",
     "varRefreshCmd": "cat(var_dic_list()) "
    }
   },
   "position": {
    "height": "257px",
    "left": "1550px",
    "right": "20px",
    "top": "120px",
    "width": "354px"
   },
   "types_to_exclude": [
    "module",
    "function",
    "builtin_function_or_method",
    "instance",
    "_Feature"
   ],
   "window_display": false
  }
 },
 "nbformat": 4,
 "nbformat_minor": 2
}
