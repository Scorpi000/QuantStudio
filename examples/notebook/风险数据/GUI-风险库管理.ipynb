{
 "cells": [
  {
   "cell_type": "code",
   "execution_count": 1,
   "metadata": {
    "ExecuteTime": {
     "end_time": "2022-11-12T09:27:22.009407Z",
     "start_time": "2022-11-12T09:27:20.074599Z"
    },
    "code_folding": []
   },
   "outputs": [],
   "source": [
    "# 全局设置\n",
    "import QuantStudio.api as QS\n",
    "from QSExt.GUI.ipywidgets.RiskDBDlg import RiskDBDlg"
   ]
  },
  {
   "cell_type": "code",
   "execution_count": 2,
   "metadata": {
    "ExecuteTime": {
     "end_time": "2022-11-12T09:27:22.032389Z",
     "start_time": "2022-11-12T09:27:22.011766Z"
    },
    "code_folding": []
   },
   "outputs": [],
   "source": [
    "# 创建风险库\n",
    "RDBs = {\n",
    "#     \"HDF5FRDB\": QS.RiskDB.HDF5FRDB(config_file=\"../config/HDF5DBConfig.json\").connect(),\n",
    "    \"HDF5FRDB\": QS.RiskDB.HDF5FRDB().connect(),\n",
    "    \"HDF5RDB\": QS.RiskDB.HDF5RDB(sys_args={\"主目录\": \"/home/hst/Data/Risk\"}).connect(),\n",
    "}"
   ]
  },
  {
   "cell_type": "code",
   "execution_count": 3,
   "metadata": {
    "ExecuteTime": {
     "end_time": "2022-11-12T09:27:22.482381Z",
     "start_time": "2022-11-12T09:27:22.036163Z"
    },
    "code_folding": [],
    "scrolled": false
   },
   "outputs": [
    {
     "data": {
      "application/vnd.jupyter.widget-view+json": {
       "model_id": "7879ed655dd543e3a7962b1ddfea316a",
       "version_major": 2,
       "version_minor": 0
      },
      "text/plain": [
       "HBox(children=(Output(), VBox(children=(Output(), HBox(children=(VBox(children=(Label(value='因子', layout=Layou…"
      ]
     },
     "metadata": {},
     "output_type": "display_data"
    }
   ],
   "source": [
    "# 因子库管理\n",
    "Dlg = RiskDBDlg(rdbs=RDBs)\n",
    "display(Dlg.frame())"
   ]
  },
  {
   "cell_type": "code",
   "execution_count": null,
   "metadata": {},
   "outputs": [],
   "source": []
  }
 ],
 "metadata": {
  "hide_input": false,
  "kernelspec": {
   "display_name": "QS",
   "language": "python",
   "name": "qs"
  },
  "language_info": {
   "codemirror_mode": {
    "name": "ipython",
    "version": 3
   },
   "file_extension": ".py",
   "mimetype": "text/x-python",
   "name": "python",
   "nbconvert_exporter": "python",
   "pygments_lexer": "ipython3",
   "version": "3.8.10"
  },
  "latex_envs": {
   "LaTeX_envs_menu_present": true,
   "autoclose": true,
   "autocomplete": false,
   "bibliofile": "biblio.bib",
   "cite_by": "apalike",
   "current_citInitial": 1,
   "eqLabelWithNumbers": true,
   "eqNumInitial": 1,
   "hotkeys": {
    "equation": "Ctrl-E",
    "itemize": "Ctrl-I"
   },
   "labels_anchors": false,
   "latex_user_defs": false,
   "report_style_numbering": false,
   "user_envs_cfg": false
  },
  "toc": {
   "base_numbering": 1,
   "nav_menu": {},
   "number_sections": true,
   "sideBar": true,
   "skip_h1_title": false,
   "title_cell": "Table of Contents",
   "title_sidebar": "Contents",
   "toc_cell": false,
   "toc_position": {},
   "toc_section_display": true,
   "toc_window_display": false
  }
 },
 "nbformat": 4,
 "nbformat_minor": 2
}
