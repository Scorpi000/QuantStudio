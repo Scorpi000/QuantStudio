{
 "cells": [
  {
   "cell_type": "code",
   "execution_count": 1,
   "id": "38be4678",
   "metadata": {
    "ExecuteTime": {
     "end_time": "2022-11-08T04:00:50.521285Z",
     "start_time": "2022-11-08T03:56:25.564316Z"
    },
    "code_folding": [
     0
    ]
   },
   "outputs": [],
   "source": [
    "# 全局设置\n",
    "import os\n",
    "import datetime as dt\n",
    "\n",
    "import numpy as np\n",
    "import pandas as pd\n",
    "\n",
    "import QuantStudio.api as QS\n",
    "fd = QS.FactorDB.FactorTools\n",
    "Factorize = QS.FactorDB.Factorize"
   ]
  },
  {
   "cell_type": "markdown",
   "id": "c2cc1354",
   "metadata": {},
   "source": [
    "![QuantStudio系统](./images/QuantStudio系统.png)"
   ]
  },
  {
   "cell_type": "markdown",
   "id": "153badba",
   "metadata": {},
   "source": [
    "# QuantStudio 对象\n",
    "\n",
    "所有的 QuantStudio 对象均继承自 `__QS_Object__`, QuantStudio 对象创建的 `__init__` 方法通常会接收三个输入参数：\n",
    "* sys_args: dict, 默认值 {}, 指定的对象参数集.\n",
    "* config_file: None 或者文件路径, 默认值 None, 配置文件路径, 配置文件用于设置对象参数. 配置文件是一个 json 格式的文件(字符编码为 utf-8, 扩展名为 json), 以键值对的形式给出各个参数的取值. \n",
    "* logger: None 或者日志对象, 默认值 None, 用于内部打印日志.\n",
    "\n",
    "参数设置的优先级: sys_args > config_file > 内部默认值.\n",
    "\n",
    "QuantStudio 对象配置文件的默认存放位置为用户目录下的 “QuantStudioConfig” 文件夹, 比如 Windows 系统下通常为 “C:\\Users\\你的用户名\\QuantStudioConfig”, Linux 系统下通常为 “/home/你的用户名/QuantStudioConfig”, Mac OS 下通常为 “/Users/你的用户名/QuantStudioConfig”, 或者可以运行下面的代码获取该路径:"
   ]
  },
  {
   "cell_type": "code",
   "execution_count": 2,
   "id": "c40d82d1",
   "metadata": {
    "ExecuteTime": {
     "end_time": "2022-11-06T08:15:19.597621Z",
     "start_time": "2022-11-06T08:15:19.572068Z"
    }
   },
   "outputs": [
    {
     "name": "stdout",
     "output_type": "stream",
     "text": [
      "/home/hst/QuantStudioConfig\n"
     ]
    }
   ],
   "source": [
    "from QuantStudio import __QS_ConfigPath__\n",
    "print(__QS_ConfigPath__)"
   ]
  },
  {
   "cell_type": "markdown",
   "id": "82d8b97c",
   "metadata": {},
   "source": [
    "QuantStudio 对象有三个基本属性：\n",
    "* ArgNames: list(str), 该对象所有可设置的参数名称\n",
    "* Args: QSArgs, 该对象的参数集对象\n",
    "* Logger: 日志对象"
   ]
  },
  {
   "cell_type": "code",
   "execution_count": 2,
   "id": "2d51746a",
   "metadata": {
    "ExecuteTime": {
     "end_time": "2022-11-07T08:33:24.741356Z",
     "start_time": "2022-11-07T08:33:24.716275Z"
    },
    "code_folding": []
   },
   "outputs": [
    {
     "name": "stdout",
     "output_type": "stream",
     "text": [
      "Args :  {'名称': 'Demo库', '主目录': './Data/HDF5', '锁目录': '', '文件打开重试次数': inf}\n",
      "Logger :  <Logger QS (ERROR)>\n"
     ]
    }
   ],
   "source": [
    "# 基本属性\n",
    "import logging\n",
    "\n",
    "FDB = QS.FactorDB.HDF5DB(sys_args={\"主目录\": \"./Data/HDF5\"}, config_file=\"./config/HDF5DBConfig.json\", logger=logging.getLogger(\"QS\"))\n",
    "print(\"Args : \", FDB.Args)\n",
    "print(\"Logger : \", FDB.Logger)"
   ]
  },
  {
   "cell_type": "markdown",
   "id": "032ccedd",
   "metadata": {},
   "source": [
    "QSArgs 对象实现了如下方法：\n",
    "* `__iter__`: 用于迭代参数\n",
    "* `__getitem__`: 给定参数名称, 获取参数值\n",
    "* `__setitem__`: 设置参数\n",
    "* `__delitem__`: 删除参数"
   ]
  },
  {
   "cell_type": "code",
   "execution_count": 3,
   "id": "c22f4cab",
   "metadata": {
    "ExecuteTime": {
     "end_time": "2022-11-07T03:24:16.226250Z",
     "start_time": "2022-11-07T03:24:16.217256Z"
    },
    "code_folding": [
     0
    ]
   },
   "outputs": [
    {
     "name": "stdout",
     "output_type": "stream",
     "text": [
      "修改前: \n",
      "名称  :  Demo库\n",
      "主目录  :  ./Data/HDF5\n",
      "锁目录  :  \n",
      "文件打开重试次数  :  inf\n",
      "=============================\n",
      "修改后: \n",
      "名称  :  HDF5DB\n",
      "主目录  :  ./Data/HDF5\n",
      "锁目录  :  \n",
      "文件打开重试次数  :  inf\n"
     ]
    }
   ],
   "source": [
    "# 参数获取和修改\n",
    "print(\"修改前: \")\n",
    "for iArgName in FDB.Args:\n",
    "    print(iArgName, \" : \", FDB.Args[iArgName])\n",
    "print(\"=============================\")\n",
    "\n",
    "FDB.Args[\"名称\"] = \"HDF5DB\"\n",
    "\n",
    "print(\"修改后: \")\n",
    "for iArgName in FDB.Args:\n",
    "    print(iArgName, \" : \", FDB.Args[iArgName])"
   ]
  },
  {
   "cell_type": "code",
   "execution_count": 5,
   "id": "992cecce",
   "metadata": {
    "ExecuteTime": {
     "end_time": "2022-11-07T08:51:56.952160Z",
     "start_time": "2022-11-07T08:51:56.832158Z"
    }
   },
   "outputs": [
    {
     "data": {
      "application/vnd.jupyter.widget-view+json": {
       "model_id": "3b6c3c30318b469b86a14677abb50a60",
       "version_major": 2,
       "version_minor": 0
      },
      "text/plain": [
       "VBox(children=(HBox(children=(Label(value='名称'), Text(value='Demo库'))), HBox(children=(Label(value='主目录'), Fil…"
      ]
     },
     "metadata": {},
     "output_type": "display_data"
    }
   ],
   "source": [
    "# GUI 方式设置参数\n",
    "from QSExt.GUI.ipywidgets.ArgSetupDlg import ArgSetupDlg\n",
    "# FT = FDB[\"stock_cn_day_bar_nafilled\"]\n",
    "def aha():\n",
    "    Dlg = ArgSetupDlg(FDB.Args)\n",
    "    Dlg.display()"
   ]
  }
 ],
 "metadata": {
  "hide_input": false,
  "kernelspec": {
   "display_name": "QuantStudio310",
   "language": "python",
   "name": "quantstudio310"
  },
  "language_info": {
   "codemirror_mode": {
    "name": "ipython",
    "version": 3
   },
   "file_extension": ".py",
   "mimetype": "text/x-python",
   "name": "python",
   "nbconvert_exporter": "python",
   "pygments_lexer": "ipython3",
   "version": "3.10.0"
  },
  "latex_envs": {
   "LaTeX_envs_menu_present": true,
   "autoclose": false,
   "autocomplete": true,
   "bibliofile": "biblio.bib",
   "cite_by": "apalike",
   "current_citInitial": 1,
   "eqLabelWithNumbers": true,
   "eqNumInitial": 1,
   "hotkeys": {
    "equation": "Ctrl-E",
    "itemize": "Ctrl-I"
   },
   "labels_anchors": false,
   "latex_user_defs": false,
   "report_style_numbering": false,
   "user_envs_cfg": false
  },
  "toc": {
   "base_numbering": 1,
   "nav_menu": {},
   "number_sections": true,
   "sideBar": true,
   "skip_h1_title": false,
   "title_cell": "Table of Contents",
   "title_sidebar": "Contents",
   "toc_cell": false,
   "toc_position": {},
   "toc_section_display": true,
   "toc_window_display": false
  },
  "varInspector": {
   "cols": {
    "lenName": 16,
    "lenType": 16,
    "lenVar": 40
   },
   "kernels_config": {
    "python": {
     "delete_cmd_postfix": "",
     "delete_cmd_prefix": "del ",
     "library": "var_list.py",
     "varRefreshCmd": "print(var_dic_list())"
    },
    "r": {
     "delete_cmd_postfix": ") ",
     "delete_cmd_prefix": "rm(",
     "library": "var_list.r",
     "varRefreshCmd": "cat(var_dic_list()) "
    }
   },
   "types_to_exclude": [
    "module",
    "function",
    "builtin_function_or_method",
    "instance",
    "_Feature"
   ],
   "window_display": false
  }
 },
 "nbformat": 4,
 "nbformat_minor": 5
}
